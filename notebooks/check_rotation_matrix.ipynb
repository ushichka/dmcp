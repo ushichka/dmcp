{
 "cells": [
  {
   "cell_type": "code",
   "execution_count": 19,
   "metadata": {},
   "outputs": [
    {
     "name": "stdout",
     "output_type": "stream",
     "text": [
      "The autoreload extension is already loaded. To reload it, use:\n",
      "  %reload_ext autoreload\n"
     ]
    }
   ],
   "source": [
    "%load_ext autoreload\n",
    "%autoreload 2"
   ]
  },
  {
   "cell_type": "code",
   "execution_count": 20,
   "metadata": {},
   "outputs": [],
   "source": [
    "import numpy as np\n",
    "%matplotlib widget\n",
    "import matplotlib as mpl\n",
    "import matplotlib.pyplot as plt\n",
    "import scipy.linalg as la\n",
    "import pyvista as pv\n",
    "import imageio.v3 as iio\n",
    "np.set_printoptions(formatter={\"float\": \"{:10.2f}\".format})"
   ]
  },
  {
   "cell_type": "code",
   "execution_count": 63,
   "metadata": {},
   "outputs": [
    {
     "name": "stdout",
     "output_type": "stream",
     "text": [
      "D: 3.289521239260813, Uo: 320.04939830822735, Vo:257.9544556169163\n",
      "[[     -0.60      -0.79       0.14      -0.08]\n",
      " [     -0.23       0.34       0.91      -1.01]\n",
      " [      0.77      -0.52       0.38       3.29]\n",
      " [      0.00       0.00       0.00       1.00]]\n",
      "P\n",
      "[[    -69.85    -579.58     195.67    1008.88]\n",
      " [     77.68      44.47     578.10     309.54]\n",
      " [      0.77      -0.52       0.38       3.29]]\n"
     ]
    }
   ],
   "source": [
    "from src.pyushichka import loadCalibration\n",
    "\n",
    "K_my, P_my = loadCalibration(0, r\"C:\\data\\ushichka\\2018-08-17\")\n",
    "print(f\"P\\n{P_my}\")"
   ]
  },
  {
   "cell_type": "code",
   "execution_count": 34,
   "metadata": {},
   "outputs": [
    {
     "name": "stdout",
     "output_type": "stream",
     "text": [
      "[[     -0.18      -0.24       0.04      -0.03]\n",
      " [     -0.07       0.10       0.28      -0.30]\n",
      " [      0.23      -0.16       0.12       1.00]\n",
      " [      0.00       0.00       0.00       1.00]]\n"
     ]
    },
    {
     "data": {
      "text/plain": [
       "array([[     -1.97,      -0.74,       2.53,      -2.80],\n",
       "       [     -2.59,       1.11,      -1.70,       1.97],\n",
       "       [      0.46,       3.01,       1.24,      -0.31],\n",
       "       [      0.00,       0.00,       0.00,       1.00]])"
      ]
     },
     "execution_count": 34,
     "metadata": {},
     "output_type": "execute_result"
    }
   ],
   "source": [
    "extr = np.vstack((la.inv(K_my)@P_my, [0,0,0,1]))\n",
    "print(extr)\n",
    "pose = la.inv(extr)\n",
    "pose"
   ]
  },
  {
   "cell_type": "code",
   "execution_count": 61,
   "metadata": {},
   "outputs": [
    {
     "name": "stdout",
     "output_type": "stream",
     "text": [
      "D: 3.289521239260813, Uo: 320.04939830822735, Vo:257.9544556169163\n",
      "[[     -0.60      -0.79       0.14      -0.08]\n",
      " [     -0.23       0.34       0.91      -1.01]\n",
      " [      0.77      -0.52       0.38       3.29]\n",
      " [      0.00       0.00       0.00       1.00]]\n"
     ]
    },
    {
     "data": {
      "text/plain": [
       "array([[    -69.85,    -579.58,     195.67,    1008.88],\n",
       "       [     77.68,      44.47,     578.10,     309.54],\n",
       "       [      0.77,      -0.52,       0.38,       3.29]])"
      ]
     },
     "execution_count": 61,
     "metadata": {},
     "output_type": "execute_result"
    }
   ],
   "source": [
    "def cam_centre_from_dlt(coefs):\n",
    "    '''\n",
    "    \n",
    "    \n",
    "    Reference\n",
    "    ---------\n",
    "    * http://www.kwon3d.com/theory/dlt/dlt.html Equation 25\n",
    "    '''\n",
    "        \n",
    "    m1 = np.array([[coefs[0],coefs[1],coefs[2]],\n",
    "                 [coefs[4],coefs[5],coefs[6]],\n",
    "                 [coefs[8],coefs[9],coefs[10]]])\n",
    "    m2 = np.array([-coefs[3], -coefs[7], -1]).T\n",
    "\n",
    "    xyz = np.matmul(np.linalg.inv(m1),m2)\n",
    "    return xyz\n",
    "\n",
    "def transformation_matrix_from_dlt(coefs):\n",
    "    '''\n",
    "    Based on the DLTcameraPosition.m function written by Ty Hedrick. \n",
    "    \n",
    "    Parameters\n",
    "    ----------\n",
    "    coefs : (11,Ncamera) np.array\n",
    "    \n",
    "    Returns\n",
    "    -------\n",
    "    T : (4,4) np.array\n",
    "        Transformation matrix\n",
    "    Z : float\n",
    "        Distance of camera centre behind image plane\n",
    "    ypr : (3,) np.array\n",
    "        yaw, pitch, roll angles in degrees\n",
    "    \n",
    "    \n",
    "    Notes\n",
    "    -----\n",
    "    I guess this function is based on the equations described in \n",
    "    Kwon3d (http://www.kwon3d.com/theory/dlt/dlt.html#3d).\n",
    "            \n",
    "    The transformation matrix T -\n",
    "    \n",
    "    \n",
    "    \n",
    "    ''' \n",
    "    D = (1/(coefs[8]**2+coefs[9]**2+coefs[10]**2))**0.5;\n",
    "    #D = D[0]; # + solution\n",
    "    \n",
    "    Uo=(D**2)*(coefs[0]*coefs[8]+coefs[1]*coefs[9]+coefs[2]*coefs[10]);\n",
    "    Vo=(D**2)*(coefs[4]*coefs[8]+coefs[5]*coefs[9]+coefs[6]*coefs[10]);\n",
    "    print(f'D: {D}, Uo: {Uo}, Vo:{Vo}')\n",
    "    du = (((Uo*coefs[8]-coefs[0])**2 + (Uo*coefs[9]-coefs[1])**2 + (Uo*coefs[10]-coefs[2])**2)*D**2)**0.5;\n",
    "    dv = (((Vo*coefs[8]-coefs[4])**2 + (Vo*coefs[9]-coefs[5])**2 + (Vo*coefs[10]-coefs[6])**2)*D**2)**0.5;\n",
    "    \n",
    "    #du = du[0]; # + values\n",
    "    #dv = dv[0]; \n",
    "    Z = -1*np.mean([du,dv]) # there should be only a tiny difference between du & dv\n",
    "    \n",
    "    row1 = [(Uo*coefs[8]-coefs[0])/du ,(Uo*coefs[9]-coefs[1])/du ,(Uo*coefs[10]-coefs[2])/du]\n",
    "    row2 = [(Vo*coefs[8]-coefs[4])/dv ,(Vo*coefs[9]-coefs[5])/dv ,(Vo*coefs[10]-coefs[6])/dv] \n",
    "    row3 = [coefs[8] , coefs[9], coefs[10]]\n",
    "    T3 = D*np.array([row1,\n",
    "                     row2,\n",
    "                     row3])\n",
    "\n",
    "    dT3 = np.linalg.det(T3);\n",
    "    \n",
    "    if dT3 < 0:\n",
    "      T3=-1*T3;\n",
    "    \n",
    "    xyz = cam_centre_from_dlt(coefs)\n",
    "    \n",
    "    T = np.zeros((4,4))\n",
    "    T[:3,:3] = np.linalg.inv(T3);\n",
    "    T[3,:]= [xyz[0], xyz[1], xyz[2], 1]\n",
    "    \n",
    "        \n",
    "    # % compute YPR from T3\n",
    "    # %\n",
    "    # % Note that the axes of the DLT based transformation matrix are rarely\n",
    "    # % orthogonal, so these angles are only an approximation of the correct\n",
    "    # % transformation matrix\n",
    "    # %  - Addendum: the nonlinear constraint used in mdlt_computeCoefficients below ensures the\n",
    "    # %  orthogonality of the transformation matrix axes, so no problem here\n",
    "    alpha = np.arctan2(T[1,0],T[0,0])\n",
    "    beta = np.arctan2(-T[2,0], (T[2,1]**2+T[2,2]**2)**0.5)\n",
    "    gamma = np.arctan2(T[2,1],T[2,2])\n",
    "    \n",
    "    ypr = np.rad2deg([gamma,beta,alpha]);\n",
    "\n",
    "    return T, Z, ypr\n",
    "\n",
    "def make_rotation_mat_fromworld(Rc, C):\n",
    "    '''\n",
    "    Parameters\n",
    "    ----------\n",
    "    Rc : 3x3 np.array\n",
    "        Rotation matrix wrt the world coordinate system\n",
    "    C : (1,3) or (3,) np.array\n",
    "        Camera XYZ in world coordinate system\n",
    "    Returns\n",
    "    -------\n",
    "    camera_rotation: 4x4 np.array\n",
    "        The final camera rotation and translation matrix which \n",
    "        converts the world point to the camera point\n",
    "    \n",
    "    References\n",
    "    ----------\n",
    "    * Simek, Kyle, https://ksimek.github.io/2012/08/22/extrinsic/ (blog post) accessed 14/2/2022\n",
    "    \n",
    "    Example\n",
    "    -------\n",
    "    \n",
    "    > import track2trajectory.synthetic_data as syndata\n",
    "    > Rc, C = ..... # load and define the world system camera rotations and camera centre\n",
    "    > rotation_mat = make_rotation_mat_fromworld(Rc, C)\n",
    "    '''\n",
    "    camera_rotation = np.zeros((4,4))\n",
    "    camera_rotation[:3,:3] = Rc.T\n",
    "    camera_rotation[:3,-1] = -np.matmul(Rc.T,C)\n",
    "    camera_rotation[-1,-1] = 1 \n",
    "    return camera_rotation\n",
    "\n",
    "#print(P_my.flatten()[:-1])\n",
    "camera_pose_T , _, _ = transformation_matrix_from_dlt(P_my.flatten()[:-1])\n",
    "shifter_mat = np.row_stack(([-1,0,0,0],\n",
    "                            [0,1,0,0],\n",
    "                            [0,0,1,0],\n",
    "                            [0,0,0,1]))\n",
    "\n",
    "#print(camera_pose_T)\n",
    "\n",
    "shifted_rotmat = np.matmul(camera_pose_T, shifter_mat)[:3,:3]\n",
    "extrinsic_matrix = make_rotation_mat_fromworld(shifted_rotmat, camera_pose_T[-1,:3])\n",
    "\n",
    "print(extrinsic_matrix)\n",
    "P = K_my @ extrinsic_matrix[:3,:]\n",
    "P\n"
   ]
  },
  {
   "cell_type": "code",
   "execution_count": 64,
   "metadata": {},
   "outputs": [
    {
     "data": {
      "text/plain": [
       "-0.9999999841675165"
      ]
     },
     "execution_count": 64,
     "metadata": {},
     "output_type": "execute_result"
    }
   ],
   "source": [
    "la.det((la.inv(K_my) @P)[:3,:3])"
   ]
  }
 ],
 "metadata": {
  "kernelspec": {
   "display_name": "dmcp",
   "language": "python",
   "name": "dmcp"
  },
  "language_info": {
   "codemirror_mode": {
    "name": "ipython",
    "version": 3
   },
   "file_extension": ".py",
   "mimetype": "text/x-python",
   "name": "python",
   "nbconvert_exporter": "python",
   "pygments_lexer": "ipython3",
   "version": "3.9.12"
  },
  "orig_nbformat": 4
 },
 "nbformat": 4,
 "nbformat_minor": 2
}
