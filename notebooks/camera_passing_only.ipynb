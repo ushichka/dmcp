{
 "cells": [
  {
   "cell_type": "code",
   "execution_count": 1,
   "metadata": {},
   "outputs": [],
   "source": [
    "%load_ext autoreload\n",
    "%autoreload 2"
   ]
  },
  {
   "cell_type": "code",
   "execution_count": 2,
   "metadata": {},
   "outputs": [],
   "source": [
    "import pyvista as pv\n",
    "import numpy as np\n",
    "from src.dmcp_workflow.annotate_points import annotate_with_mesh\n",
    "\n",
    "mesh = pv.read(\"../tmp/INRIA_MUSIS.stl\")"
   ]
  },
  {
   "cell_type": "code",
   "execution_count": 3,
   "metadata": {},
   "outputs": [
    {
     "data": {
      "text/plain": [
       "<matplotlib.image.AxesImage at 0x7f6ff33c7b20>"
      ]
     },
     "execution_count": 3,
     "metadata": {},
     "output_type": "execute_result"
    },
    {
     "data": {
      "image/png": "[encoded data removed]",
      "text/plain": [
       "<Figure size 432x288 with 1 Axes>"
      ]
     },
     "metadata": {
      "needs_background": "light"
     },
     "output_type": "display_data"
    }
   ],
   "source": [
    "pl = pv.Plotter(off_screen=True, notebook=False)\n",
    "pl.store_image = True\n",
    "_ = pl.add_mesh(mesh)\n",
    "pl.show()\n",
    "im = pl.image[-1:0:-1,:]\n",
    "import matplotlib.pyplot as plt\n",
    "plt.imshow(im, origin=\"lower\")"
   ]
  },
  {
   "cell_type": "code",
   "execution_count": 20,
   "metadata": {},
   "outputs": [
    {
     "name": "stdout",
     "output_type": "stream",
     "text": [
      "Using matplotlib backend: TkAgg\n"
     ]
    }
   ],
   "source": [
    "%matplotlib\n",
    "image, world = annotate_with_mesh(mesh, im[:,:,0])\n",
    "%matplotlib inline"
   ]
  },
  {
   "cell_type": "code",
   "execution_count": 24,
   "metadata": {},
   "outputs": [
    {
     "data": {
      "text/plain": [
       "array([[-1549.1824 ,  6047.     ,  2500.     ],\n",
       "       [    0.     ,  3790.     ,  2500.     ],\n",
       "       [    0.     ,  3790.     ,     0.     ],\n",
       "       [ -989.36566,  5231.935  ,     0.     ],\n",
       "       [ -989.36566,  5231.935  ,  1000.01624],\n",
       "       [-1549.1824 ,  6047.     ,  1000.01624],\n",
       "       [    0.     ,     0.     ,     0.     ],\n",
       "       [    0.     ,     0.     ,  2500.     ],\n",
       "       [-5200.     ,  3539.483  ,  2500.     ]], dtype=float32)"
      ]
     },
     "execution_count": 24,
     "metadata": {},
     "output_type": "execute_result"
    }
   ],
   "source": [
    "from src.pycv.dmcp import dmcp\n",
    "\n",
    "dmcp()"
   ]
  }
 ],
 "metadata": {
  "interpreter": {
   "hash": "d2332e41685df96fe68d09deec43950424315a14fa6b910632ba6b12222b7735"
  },
  "kernelspec": {
   "display_name": "Python 3.9.12 ('dmcp')",
   "language": "python",
   "name": "python3"
  },
  "language_info": {
   "codemirror_mode": {
    "name": "ipython",
    "version": 3
   },
   "file_extension": ".py",
   "mimetype": "text/x-python",
   "name": "python",
   "nbconvert_exporter": "python",
   "pygments_lexer": "ipython3",
   "version": "3.9.12"
  },
  "orig_nbformat": 4
 },
 "nbformat": 4,
 "nbformat_minor": 2
}
