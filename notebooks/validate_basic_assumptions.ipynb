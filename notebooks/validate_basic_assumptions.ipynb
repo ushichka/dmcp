{
 "cells": [
  {
   "cell_type": "code",
   "execution_count": 1,
   "metadata": {},
   "outputs": [],
   "source": [
    "%load_ext autoreload\n",
    "%autoreload 2\n",
    "import numpy as np\n",
    "import scipy.linalg as la\n",
    "np.set_printoptions(precision=2, formatter={'float':lambda x: f\"{x:5.02f}\"})"
   ]
  },
  {
   "cell_type": "code",
   "execution_count": 2,
   "metadata": {},
   "outputs": [
    {
     "data": {
      "text/plain": [
       "array([[50.00, 50.00, 50.00],\n",
       "       [50.00, 50.00, 51.00],\n",
       "       [50.00, 51.00, 50.00],\n",
       "       [51.00, 50.00, 50.00],\n",
       "       [51.00, 51.00, 50.00],\n",
       "       [50.00, 51.00, 51.00],\n",
       "       [51.00, 50.00, 51.00],\n",
       "       [51.00, 51.00, 51.00]])"
      ]
     },
     "execution_count": 2,
     "metadata": {},
     "output_type": "execute_result"
    }
   ],
   "source": [
    "import numpy as np\n",
    "def createBox():\n",
    "    pts = [\n",
    "        [0,0,0],\n",
    "        [0,0,1],\n",
    "        [0,1,0],\n",
    "        [1,0,0],\n",
    "        [1,1,0],\n",
    "        [0,1,1],\n",
    "        [1,0,1],\n",
    "        [1,1,1],\n",
    "        ]\n",
    "    return np.array(pts).astype(\"float32\")\n",
    "\n",
    "box = createBox()\n",
    "box = box + [50,50,50]\n",
    "box"
   ]
  },
  {
   "cell_type": "code",
   "execution_count": 3,
   "metadata": {},
   "outputs": [
    {
     "data": {
      "text/plain": [
       "array([[100.00,  0.00, 50.00, -150.00],\n",
       "       [ 0.00, 100.00, 50.00, -150.00],\n",
       "       [ 0.00,  0.00,  1.00, -1.00]])"
      ]
     },
     "execution_count": 3,
     "metadata": {},
     "output_type": "execute_result"
    }
   ],
   "source": [
    "# basic pinhole camera\n",
    "K = [\n",
    "    [100, 0, 50],\n",
    "    [0, 100, 50],\n",
    "    [0,0,1]\n",
    "    ]\n",
    "K = np.array(K).astype(\"float32\")\n",
    "\n",
    "E = [\n",
    "    [1,0,0,1],\n",
    "    [0,1,0,1],\n",
    "    [0,0,1,1],\n",
    "    [0,0,0,1]\n",
    "]\n",
    "E = np.array(E)\n",
    "\n",
    "E = la.inv(E)[:3,:]\n",
    "\n",
    "P_native = np.matmul(K,E)\n",
    "P_native"
   ]
  },
  {
   "cell_type": "code",
   "execution_count": 4,
   "metadata": {},
   "outputs": [
    {
     "data": {
      "text/plain": [
       "array([[150.00, 150.00],\n",
       "       [148.00, 148.00],\n",
       "       [150.00, 152.04],\n",
       "       [152.04, 150.00],\n",
       "       [152.04, 152.04],\n",
       "       [148.00, 150.00],\n",
       "       [150.00, 148.00],\n",
       "       [150.00, 150.00]])"
      ]
     },
     "execution_count": 4,
     "metadata": {},
     "output_type": "execute_result"
    }
   ],
   "source": [
    "# view box\n",
    "\n",
    "box_hat = np.hstack((box,np.ones((box.shape[0],1))))\n",
    "\n",
    "box_x_hat = np.matmul(P_native,box_hat.T).T\n",
    "box_x = np.array([box_x_hat[i,:] / box_x_hat[i,-1] for i in range(box_x_hat.shape[0])])[:,:-1]\n",
    "box_x"
   ]
  },
  {
   "cell_type": "code",
   "execution_count": 14,
   "metadata": {},
   "outputs": [
    {
     "name": "stdout",
     "output_type": "stream",
     "text": [
      "K\n",
      "[[-100.00  0.00 50.00]\n",
      " [-0.00 -100.00 50.00]\n",
      " [ 0.00  0.00  1.00]]\n",
      "R\n",
      "[[-1.00  0.00  0.00]\n",
      " [-0.00 -1.00 -0.00]\n",
      " [ 0.00 -0.00  1.00]]\n",
      "T\n",
      "[ 1.00  1.00  1.00]\n"
     ]
    }
   ],
   "source": [
    "from src.pycv.perspective import calibrate_dlt, decompose_perspective_projection_matrix\n",
    "\n",
    "P = calibrate_dlt(box_x, box)\n",
    "\n",
    "K, R, T = decompose_perspective_projection_matrix(P)\n",
    "print(f\"K\\n{K}\\nR\\n{R}\\nT\\n{T}\")"
   ]
  },
  {
   "cell_type": "code",
   "execution_count": 9,
   "metadata": {},
   "outputs": [
    {
     "data": {
      "text/plain": [
       "array([[ 5.00,  5.00,  5.00],\n",
       "       [ 5.00,  5.00,  6.00],\n",
       "       [ 5.00,  6.00,  5.00],\n",
       "       [ 6.00,  5.00,  5.00],\n",
       "       [ 6.00,  6.00,  5.00],\n",
       "       [ 5.00,  6.00,  6.00],\n",
       "       [ 6.00,  5.00,  6.00],\n",
       "       [ 6.00,  6.00,  6.00]])"
      ]
     },
     "execution_count": 9,
     "metadata": {},
     "output_type": "execute_result"
    }
   ],
   "source": [
    "box2 = createBox()\n",
    "box2 = box2 + [5,5,5]\n",
    "box2"
   ]
  },
  {
   "cell_type": "code",
   "execution_count": 10,
   "metadata": {},
   "outputs": [
    {
     "data": {
      "text/plain": [
       "array([[150.00, 150.00],\n",
       "       [148.00, 148.00],\n",
       "       [150.00, 152.04],\n",
       "       [152.04, 150.00],\n",
       "       [152.04, 152.04],\n",
       "       [148.00, 150.00],\n",
       "       [150.00, 148.00],\n",
       "       [150.00, 150.00]])"
      ]
     },
     "execution_count": 10,
     "metadata": {},
     "output_type": "execute_result"
    }
   ],
   "source": [
    "# view box2, box2_x should be identical to box_x as they are the same camera\n",
    "\n",
    "box2_x = box_x.copy()\n",
    "box2_x"
   ]
  },
  {
   "cell_type": "code",
   "execution_count": 13,
   "metadata": {},
   "outputs": [
    {
     "name": "stdout",
     "output_type": "stream",
     "text": [
      "K\n",
      "[[-100.00  0.00 50.00]\n",
      " [-0.00 -100.00 50.00]\n",
      " [ 0.00  0.00  1.00]]\n",
      "R\n",
      "[[-1.00 -0.00 -0.00]\n",
      " [ 0.00 -1.00 -0.00]\n",
      " [-0.00 -0.00  1.00]]\n",
      "T\n",
      "[-44.00 -44.00 -44.00]\n"
     ]
    }
   ],
   "source": [
    "# calibrate camera using world to image correspondences\n",
    "P2 = calibrate_dlt(box2_x, box2) # same position, projects to same\n",
    "\n",
    "K2, R2, T2 = decompose_perspective_projection_matrix(P2)\n",
    "print(f\"K\\n{K2}\\nR\\n{R2}\\nT\\n{T2}\")"
   ]
  },
  {
   "cell_type": "code",
   "execution_count": 19,
   "metadata": {},
   "outputs": [
    {
     "name": "stdout",
     "output_type": "stream",
     "text": [
      "original reprojection error \n",
      "[ 0.00  0.00  0.00  0.00  0.00  0.00  0.00  0.00] \n",
      "\n",
      " estimated projection error \n",
      " [ 0.00  0.00  0.00  0.00  0.00  0.00  0.00  0.00]\n"
     ]
    }
   ],
   "source": [
    "from src.pycv.perspective import reprojection_error\n",
    "\n",
    "repr_err = reprojection_error(P, box_x, box)\n",
    "repr_err2 = reprojection_error(P2, box2_x, box2)\n",
    "\n",
    "print(f\"original reprojection error \\n{repr_err} \\n\\n estimated reprojection error \\n {repr_err2}\")\n"
   ]
  },
  {
   "cell_type": "markdown",
   "metadata": {},
   "source": [
    "estimate transformation using horns method"
   ]
  },
  {
   "cell_type": "code",
   "execution_count": 44,
   "metadata": {},
   "outputs": [
    {
     "name": "stdout",
     "output_type": "stream",
     "text": [
      "K\n",
      "[[-100.00  0.00 50.00]\n",
      " [-0.00 -100.00 50.00]\n",
      " [ 0.00  0.00  1.00]]\n",
      "R\n",
      "[[-1.00 -0.00 -0.00]\n",
      " [ 0.00 -1.00 -0.00]\n",
      " [-0.00 -0.00  1.00]]\n",
      "T\n",
      "[ 1.00  1.00  1.00]\n",
      "K\n",
      "[[-100.00  0.00 50.00]\n",
      " [-0.00 -100.00 50.00]\n",
      " [ 0.00  0.00  1.00]]\n",
      "R\n",
      "[[-1.00 -0.00 -0.00]\n",
      " [ 0.00 -1.00 -0.00]\n",
      " [-0.00 -0.00  1.00]]\n",
      "T\n",
      "[-44.00 -44.00 -44.00]\n"
     ]
    }
   ],
   "source": [
    "from src.pycv.perspective import horn_affine_transformation\n",
    "\n",
    "\n",
    "A = horn_affine_transformation(box,box2)\n",
    "A = np.vstack((A,[0,0,0,1]))\n",
    "#P3 = np.matmul(P,la.inv(A)))\n",
    "P3 = np.matmul(P2,A)\n",
    "\n",
    "K3, R3, T3 = decompose_perspective_projection_matrix(P3)\n",
    "print(f\"K\\n{K3}\\nR\\n{R3}\\nT\\n{T3}\")\n",
    "print(f\"K\\n{K2}\\nR\\n{R2}\\nT\\n{T2}\")"
   ]
  },
  {
   "cell_type": "markdown",
   "metadata": {},
   "source": [
    "# TODO test last assumption:\n",
    "transfer of world points through calibrated camera"
   ]
  },
  {
   "cell_type": "code",
   "execution_count": null,
   "metadata": {},
   "outputs": [],
   "source": [
    "# TODO"
   ]
  }
 ],
 "metadata": {
  "interpreter": {
   "hash": "d2332e41685df96fe68d09deec43950424315a14fa6b910632ba6b12222b7735"
  },
  "kernelspec": {
   "display_name": "Python 3.9.12 ('dmcp')",
   "language": "python",
   "name": "python3"
  },
  "language_info": {
   "codemirror_mode": {
    "name": "ipython",
    "version": 3
   },
   "file_extension": ".py",
   "mimetype": "text/x-python",
   "name": "python",
   "nbconvert_exporter": "python",
   "pygments_lexer": "ipython3",
   "version": "3.9.12"
  },
  "orig_nbformat": 4
 },
 "nbformat": 4,
 "nbformat_minor": 2
}
