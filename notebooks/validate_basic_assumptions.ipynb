{
 "cells": [
  {
   "cell_type": "code",
   "execution_count": 1,
   "metadata": {},
   "outputs": [],
   "source": [
    "%load_ext autoreload\n",
    "%autoreload 2\n",
    "import numpy as np\n",
    "import scipy.linalg as la\n",
    "np.set_printoptions(precision=2, formatter={'float':lambda x: f\"{x:5.02f}\"})"
   ]
  },
  {
   "cell_type": "code",
   "execution_count": 2,
   "metadata": {},
   "outputs": [
    {
     "data": {
      "text/plain": [
       "array([[50.00, 50.00, 50.00],\n",
       "       [50.00, 50.00, 51.00],\n",
       "       [50.00, 51.00, 50.00],\n",
       "       [51.00, 50.00, 50.00],\n",
       "       [51.00, 51.00, 50.00],\n",
       "       [50.00, 51.00, 51.00],\n",
       "       [51.00, 50.00, 51.00],\n",
       "       [51.00, 51.00, 51.00]])"
      ]
     },
     "execution_count": 2,
     "metadata": {},
     "output_type": "execute_result"
    }
   ],
   "source": [
    "import numpy as np\n",
    "def createBox():\n",
    "    pts = [\n",
    "        [0,0,0],\n",
    "        [0,0,1],\n",
    "        [0,1,0],\n",
    "        [1,0,0],\n",
    "        [1,1,0],\n",
    "        [0,1,1],\n",
    "        [1,0,1],\n",
    "        [1,1,1],\n",
    "        ]\n",
    "    return np.array(pts).astype(\"float32\")\n",
    "\n",
    "box = createBox()\n",
    "box = box + [50,50,50]\n",
    "box_native = box\n",
    "box_native"
   ]
  },
  {
   "cell_type": "code",
   "execution_count": 3,
   "metadata": {},
   "outputs": [
    {
     "data": {
      "text/plain": [
       "array([[100.00,  0.00, 50.00, -150.00],\n",
       "       [ 0.00, 100.00, 50.00, -150.00],\n",
       "       [ 0.00,  0.00,  1.00, -1.00]])"
      ]
     },
     "execution_count": 3,
     "metadata": {},
     "output_type": "execute_result"
    }
   ],
   "source": [
    "# basic pinhole camera\n",
    "K = [\n",
    "    [100, 0, 50],\n",
    "    [0, 100, 50],\n",
    "    [0,0,1]\n",
    "    ]\n",
    "K_native = np.array(K).astype(\"float32\")\n",
    "\n",
    "E = [\n",
    "    [1,0,0,1],\n",
    "    [0,1,0,1],\n",
    "    [0,0,1,1],\n",
    "    [0,0,0,1]\n",
    "]\n",
    "E = np.array(E)\n",
    "\n",
    "E_native = la.inv(E)[:3,:]\n",
    "\n",
    "P_native = np.matmul(K_native,E_native)\n",
    "P_native"
   ]
  },
  {
   "cell_type": "code",
   "execution_count": 4,
   "metadata": {},
   "outputs": [
    {
     "data": {
      "text/plain": [
       "array([[150.00, 150.00],\n",
       "       [148.00, 148.00],\n",
       "       [150.00, 152.04],\n",
       "       [152.04, 150.00],\n",
       "       [152.04, 152.04],\n",
       "       [148.00, 150.00],\n",
       "       [150.00, 148.00],\n",
       "       [150.00, 150.00]])"
      ]
     },
     "execution_count": 4,
     "metadata": {},
     "output_type": "execute_result"
    }
   ],
   "source": [
    "# view box\n",
    "\n",
    "box_hat = np.hstack((box_native,np.ones((box.shape[0],1))))\n",
    "\n",
    "box_x_hat = np.matmul(P_native,box_hat.T).T\n",
    "box_x = np.array([box_x_hat[i,:] / box_x_hat[i,-1] for i in range(box_x_hat.shape[0])])[:,:-1]\n",
    "box_native_x_native = box_x # box_native observed by native camera\n",
    "box_native_x_native"
   ]
  },
  {
   "cell_type": "markdown",
   "metadata": {},
   "source": [
    "#### calibration should result in same Camera as the camera that observed the points\n",
    "Some rows of rotation matrix may have wrong sign, however K changes as well to compensate\n",
    "Fix K to get correct one"
   ]
  },
  {
   "cell_type": "code",
   "execution_count": 5,
   "metadata": {},
   "outputs": [
    {
     "name": "stdout",
     "output_type": "stream",
     "text": [
      "K\n",
      "[[-100.00  0.00 50.00]\n",
      " [-0.00 -100.00 50.00]\n",
      " [ 0.00  0.00  1.00]]\n",
      "R\n",
      "[[-1.00 -0.00 -0.00]\n",
      " [ 0.00 -1.00 -0.00]\n",
      " [-0.00 -0.00  1.00]]\n",
      "T\n",
      "[ 1.00  1.00  1.00]\n"
     ]
    }
   ],
   "source": [
    "from src.pycv.perspective import calibrate_dlt, decompose_perspective_projection_matrix\n",
    "\n",
    "P_native_dlt = calibrate_dlt(box_native_x_native, box_native)\n",
    "\n",
    "K_native_dlt, R_native_dlt, T_native_dlt = decompose_perspective_projection_matrix(P_native_dlt)\n",
    "print(f\"K\\n{K_native_dlt}\\nR\\n{R_native_dlt}\\nT\\n{T_native_dlt}\")"
   ]
  },
  {
   "cell_type": "markdown",
   "metadata": {},
   "source": [
    "#### calibrate a second camera in another coordinate system _world_\n",
    "We assume that caneras in both coordinate systems are the same camera, thus the projections of the box in both coordinate systems are the same"
   ]
  },
  {
   "cell_type": "code",
   "execution_count": 6,
   "metadata": {},
   "outputs": [
    {
     "data": {
      "text/plain": [
       "array([[ 5.00,  5.00,  5.00],\n",
       "       [ 5.00,  5.00,  6.00],\n",
       "       [ 5.00,  6.00,  5.00],\n",
       "       [ 6.00,  5.00,  5.00],\n",
       "       [ 6.00,  6.00,  5.00],\n",
       "       [ 5.00,  6.00,  6.00],\n",
       "       [ 6.00,  5.00,  6.00],\n",
       "       [ 6.00,  6.00,  6.00]])"
      ]
     },
     "execution_count": 6,
     "metadata": {},
     "output_type": "execute_result"
    }
   ],
   "source": [
    "box2 = createBox()\n",
    "box2 = box2 + [5,5,5]\n",
    "box_world = box2\n",
    "box_world"
   ]
  },
  {
   "cell_type": "code",
   "execution_count": 7,
   "metadata": {},
   "outputs": [
    {
     "data": {
      "text/plain": [
       "array([[150.00, 150.00],\n",
       "       [148.00, 148.00],\n",
       "       [150.00, 152.04],\n",
       "       [152.04, 150.00],\n",
       "       [152.04, 152.04],\n",
       "       [148.00, 150.00],\n",
       "       [150.00, 148.00],\n",
       "       [150.00, 150.00]])"
      ]
     },
     "execution_count": 7,
     "metadata": {},
     "output_type": "execute_result"
    }
   ],
   "source": [
    "# view box2, box2_x should be identical to box_x as they are the same camera\n",
    "\n",
    "box2_x = box_x.copy()\n",
    "box_world_x_world = box2_x\n",
    "box_world_x_world"
   ]
  },
  {
   "cell_type": "markdown",
   "metadata": {},
   "source": [
    "we can now determine the camera that observes the box in world coordinates by calibration"
   ]
  },
  {
   "cell_type": "code",
   "execution_count": 8,
   "metadata": {},
   "outputs": [
    {
     "name": "stdout",
     "output_type": "stream",
     "text": [
      "K\n",
      "[[-100.00  0.00 50.00]\n",
      " [-0.00 -100.00 50.00]\n",
      " [ 0.00  0.00  1.00]]\n",
      "R\n",
      "[[-1.00 -0.00 -0.00]\n",
      " [ 0.00 -1.00 -0.00]\n",
      " [-0.00 -0.00  1.00]]\n",
      "T\n",
      "[-44.00 -44.00 -44.00]\n"
     ]
    }
   ],
   "source": [
    "# calibrate camera using world to image correspondences\n",
    "P_world = calibrate_dlt(box_world_x_world, box_world) # same position, projects to same\n",
    "\n",
    "K_world, R_world, T_world = decompose_perspective_projection_matrix(P_world)\n",
    "print(f\"K\\n{K_world}\\nR\\n{R_world}\\nT\\n{T_world}\")"
   ]
  },
  {
   "cell_type": "markdown",
   "metadata": {},
   "source": [
    "both cameras have no reprojection error when observing the box in their respective coordinate system"
   ]
  },
  {
   "cell_type": "code",
   "execution_count": 9,
   "metadata": {},
   "outputs": [
    {
     "name": "stdout",
     "output_type": "stream",
     "text": [
      "native reprojection error \n",
      "[ 0.00  0.00  0.00  0.00  0.00  0.00  0.00  0.00] \n",
      "\n",
      "world reprojection error \n",
      "[ 0.00  0.00  0.00  0.00  0.00  0.00  0.00  0.00]\n"
     ]
    }
   ],
   "source": [
    "from src.pycv.perspective import reprojection_error\n",
    "\n",
    "repr_err_native_native = reprojection_error(P_native, box_native_x_native, box_native)\n",
    "repr_err_world_world = reprojection_error(P_world, box_world_x_world, box_world)\n",
    "\n",
    "print(f\"native reprojection error \\n{repr_err_native_native} \\n\\nworld reprojection error \\n{repr_err_world_world}\")\n"
   ]
  },
  {
   "cell_type": "markdown",
   "metadata": {},
   "source": [
    "#### compute transformation that transforms _native_ points to _world_ points"
   ]
  },
  {
   "cell_type": "markdown",
   "metadata": {},
   "source": [
    "##### By using ground truth points\n",
    "Estimate transform using ground truth we know because of artificial setup\n",
    "\n",
    "(Points are the boxes defined in respective coordinate space) "
   ]
  },
  {
   "cell_type": "code",
   "execution_count": 10,
   "metadata": {},
   "outputs": [
    {
     "data": {
      "text/plain": [
       "array([[ 1.00, -0.00,  0.00, -44.00],\n",
       "       [ 0.00,  1.00,  0.00, -44.00],\n",
       "       [ 0.00,  0.00,  1.00, -44.00],\n",
       "       [ 0.00,  0.00,  0.00,  1.00]])"
      ]
     },
     "execution_count": 10,
     "metadata": {},
     "output_type": "execute_result"
    }
   ],
   "source": [
    "from src.pycv.perspective import horn_affine_transformation\n",
    "\n",
    "# estimate transformation using horns method\n",
    "A_boxes = horn_affine_transformation(box,box2)\n",
    "A = A_boxes\n",
    "A = np.vstack((A,[0,0,0,1]))\n",
    "P_world_A = np.matmul(P_native,la.inv(A))\n",
    "\n",
    "#K_world_A, R_world_A, T_world_A = decompose_perspective_projection_matrix(P_world_A)\n",
    "#print(f\"K\\n{K_world_A}\\nR\\n{R_world_A}\\nT\\n{T_world_A}\")\n",
    "#print(f\"K\\n{K_world}\\nR\\n{R_world}\\nT\\n{T_world}\")\n",
    "extrinsic_world_A = np.matmul(la.inv(K_native),P_world_A)\n",
    "camera_pose_world_A = la.inv(np.vstack((extrinsic_world_A,[0,0,0,1])))\n",
    "camera_pose_world_A"
   ]
  },
  {
   "cell_type": "markdown",
   "metadata": {},
   "source": [
    "##### By transfering box through camera\n",
    "Box_native is not available in ushichka dataset, so we generate box_native_transfered by identifying the cameras with each other and moving the world points through camera space as in dmcp algorithm."
   ]
  },
  {
   "cell_type": "code",
   "execution_count": 11,
   "metadata": {},
   "outputs": [],
   "source": [
    "# what we assume to be known\n",
    "P_native\n",
    "K_native\n",
    "# known by annotation\n",
    "box_native_x_native\n",
    "box_world\n",
    "None"
   ]
  },
  {
   "cell_type": "code",
   "execution_count": 12,
   "metadata": {},
   "outputs": [],
   "source": [
    "# DMCP Step 1 calibrate extrinsic matrix of camera using annotations \n",
    "\n",
    "from src.pycv.perspective import solve_PnP\n",
    "\n",
    "#extrinsic_matrix_world = np.matmul(la.inv(K_native), P_world_A) \n",
    "#extrinsic_matrix_world = np.hstack((R,tvec))\n",
    "pose_matrix = solve_PnP(box_world,box_native_x_native,K_native)\n",
    "pose_matrix_hat = np.vstack((pose_matrix, [0,0,0,1]))\n",
    "extrinsic_matrix_world = la.inv(pose_matrix_hat)[:3,:]\n"
   ]
  },
  {
   "cell_type": "markdown",
   "metadata": {},
   "source": [
    "###### important observation: when computing extrinsic matrix from P_world_A the algorithm works, however when computing from P_world_dlt _or_ P_world it fails "
   ]
  },
  {
   "cell_type": "code",
   "execution_count": 13,
   "metadata": {},
   "outputs": [
    {
     "name": "stdout",
     "output_type": "stream",
     "text": [
      "[[-100.00  0.00 50.00]\n",
      " [-0.00 -100.00 50.00]\n",
      " [ 0.00  0.00  1.00]]\n",
      "[[-1.00 -0.00 -0.00]\n",
      " [ 0.00 -1.00 -0.00]\n",
      " [-0.00 -0.00  1.00]]\n",
      "[-44.00 -44.00 -44.00]\n"
     ]
    },
    {
     "data": {
      "text/plain": [
       "array([[ 1.00, -0.00, -0.00, -44.00],\n",
       "       [ 0.00,  1.00, -0.00, -44.00],\n",
       "       [ 0.00,  0.00,  1.00, -44.00]])"
      ]
     },
     "execution_count": 13,
     "metadata": {},
     "output_type": "execute_result"
    }
   ],
   "source": [
    "# test difference between dlt and PnP\n",
    "P_world_dlt = calibrate_dlt(box_native_x_native, box_world)\n",
    "\n",
    "# show that P_world_dlt is correct by comparing position\n",
    "K, R, T = decompose_perspective_projection_matrix(P_world)\n",
    "print(f\"{K}\\n{R}\\n{T}\")\n",
    "\n",
    "import cv2\n",
    "retval, rvec, tvec = cv2.solvePnP(box_world.astype(\"float32\"), box_native_x_native.astype(\"float32\"), K_native.copy().astype(\"float32\"),np.array([[0, 0, 0, 0]], dtype=np.float32))\n",
    "\n",
    "R, _ = cv2.Rodrigues(rvec)\n",
    "R\n",
    "tvec\n",
    "extrinsic_matrix_world = np.hstack((R,tvec))\n",
    "extrinsic_matrix_world_hat = np.vstack((extrinsic_matrix_world, [0,0,0,1]))\n",
    "camera_pose_matrix_world_hat = la.inv(extrinsic_matrix_world_hat) # correct pose\n",
    "camera_pose_matrix_world_hat\n",
    "\n",
    "cpm = solve_PnP(box_world, box_native_x_native, K_native)\n",
    "cpm"
   ]
  },
  {
   "cell_type": "code",
   "execution_count": 14,
   "metadata": {},
   "outputs": [
    {
     "data": {
      "text/plain": [
       "array([[49.00, 49.00, 49.00],\n",
       "       [49.00, 49.00, 50.00],\n",
       "       [49.00, 50.00, 49.00],\n",
       "       [50.00, 49.00, 49.00],\n",
       "       [50.00, 50.00, 49.00],\n",
       "       [49.00, 50.00, 50.00],\n",
       "       [50.00, 49.00, 50.00],\n",
       "       [50.00, 50.00, 50.00]])"
      ]
     },
     "execution_count": 14,
     "metadata": {},
     "output_type": "execute_result"
    }
   ],
   "source": [
    "# DMCP Step 2.1 transform world points into camera space\n",
    "\n",
    "box_world_hat = np.hstack((box_world, np.ones((box_world.shape[0],1))))\n",
    "\n",
    "box_world_camera = np.matmul(extrinsic_matrix_world, box_world_hat.T).T\n",
    "box_world_camera\n",
    "\n",
    "#extrinsic_matrix_hat = np.vstack((extrinsic_matrix,[0,0,0,1]))\n",
    "#pose_matrix = la.inv(extrinsic_matrix_hat)\n",
    "#pose_matrix"
   ]
  },
  {
   "cell_type": "markdown",
   "metadata": {},
   "source": [
    "for reference we compare box in camera space of native camera\n",
    "\n",
    "for dmcp to work, they need to be equal"
   ]
  },
  {
   "cell_type": "code",
   "execution_count": 15,
   "metadata": {},
   "outputs": [
    {
     "data": {
      "text/plain": [
       "array([[49.00, 49.00, 49.00],\n",
       "       [49.00, 49.00, 50.00],\n",
       "       [49.00, 50.00, 49.00],\n",
       "       [50.00, 49.00, 49.00],\n",
       "       [50.00, 50.00, 49.00],\n",
       "       [49.00, 50.00, 50.00],\n",
       "       [50.00, 49.00, 50.00],\n",
       "       [50.00, 50.00, 50.00]])"
      ]
     },
     "execution_count": 15,
     "metadata": {},
     "output_type": "execute_result"
    }
   ],
   "source": [
    "_extrinsic_matrix = np.matmul(la.inv(K_native), P_native) \n",
    "\n",
    "_box_native_hat = np.hstack((box_native, np.ones((box_native.shape[0],1))))\n",
    "\n",
    "_box_native_camera = np.matmul(_extrinsic_matrix, _box_native_hat.T).T\n",
    "_box_native_camera"
   ]
  },
  {
   "cell_type": "code",
   "execution_count": 16,
   "metadata": {},
   "outputs": [
    {
     "data": {
      "text/plain": [
       "array([[50.00, 50.00, 50.00],\n",
       "       [50.00, 50.00, 51.00],\n",
       "       [50.00, 51.00, 50.00],\n",
       "       [51.00, 50.00, 50.00],\n",
       "       [51.00, 51.00, 50.00],\n",
       "       [50.00, 51.00, 51.00],\n",
       "       [51.00, 50.00, 51.00],\n",
       "       [51.00, 51.00, 51.00]])"
      ]
     },
     "execution_count": 16,
     "metadata": {},
     "output_type": "execute_result"
    }
   ],
   "source": [
    "# DMCP Step 2.2 transform camera points into native space\n",
    "\n",
    "extrinsic_matrix_native = np.matmul(la.inv(K_native), P_native) \n",
    "extrinsic_matrix_native_hat = np.vstack((extrinsic_matrix_native,[0,0,0,1]))\n",
    "pose_matrix = la.inv(extrinsic_matrix_native_hat)\n",
    "camera_pose_matrix_native = pose_matrix\n",
    "\n",
    "#np.matmul(camera_pose_matrix_native, )\n",
    "box_world_camera_hat = np.hstack((box_world_camera,np.ones((box_world_camera.shape[0],1))))\n",
    "box_native_tf = np.matmul(camera_pose_matrix_native, box_world_camera_hat.T).T[:,:3]\n",
    "box_native_tf"
   ]
  },
  {
   "cell_type": "code",
   "execution_count": 24,
   "metadata": {},
   "outputs": [
    {
     "name": "stdout",
     "output_type": "stream",
     "text": [
      "\n",
      "A_tf\n",
      "[[ 1.00 -0.00 -0.00 -45.00]\n",
      " [ 0.00  1.00 -0.00 -45.00]\n",
      " [ 0.00  0.00  1.00 -45.00]\n",
      " [ 0.00  0.00  0.00  1.00]]\n",
      "\n",
      "K\n",
      "[[-100.00  0.00 50.00]\n",
      " [-0.00 -100.00 50.00]\n",
      " [ 0.00  0.00  1.00]]\n",
      "R\n",
      "[[-1.00 -0.00 -0.00]\n",
      " [ 0.00 -1.00 -0.00]\n",
      " [-0.00 -0.00  1.00]]\n",
      "T\n",
      "[-44.00 -44.00 -44.00]\n"
     ]
    },
    {
     "data": {
      "text/plain": [
       "array([[ 1.00, -0.00,  0.00, -44.00],\n",
       "       [ 0.00,  1.00,  0.00, -44.00],\n",
       "       [ 0.00,  0.00,  1.00, -44.00],\n",
       "       [ 0.00,  0.00,  0.00,  1.00]])"
      ]
     },
     "execution_count": 24,
     "metadata": {},
     "output_type": "execute_result"
    }
   ],
   "source": [
    "# DMCP Step 2.3\n",
    "\n",
    "A_tf = horn_affine_transformation(box_native_tf, box_world)\n",
    "\n",
    "A_tf_hat = np.vstack((A_tf,[0,0,0,1]))\n",
    "\n",
    "print(f\"\\nA_tf\\n{A_tf_hat}\\n\")\n",
    "\n",
    "P_world_tf = np.matmul(P_native,la.inv(A_tf_hat))\n",
    "\n",
    "K_world_tf, R_world_tf, T_world_tf = decompose_perspective_projection_matrix(P_world_tf)\n",
    "print(f\"K\\n{K_world_tf}\\nR\\n{R_world_tf}\\nT\\n{T_world_tf}\")\n",
    "\n",
    "extrinsic_world_tf = np.matmul(la.inv(K_native),P_world_tf)\n",
    "camera_pose_world_tf = la.inv(np.vstack((extrinsic_world_tf,[0,0,0,1])))\n",
    "camera_pose_world_tf\n"
   ]
  },
  {
   "cell_type": "markdown",
   "metadata": {},
   "source": [
    "#### Validate DMCP algorithm implementation"
   ]
  },
  {
   "cell_type": "code",
   "execution_count": 23,
   "metadata": {},
   "outputs": [
    {
     "data": {
      "text/plain": [
       "array([[ 1.00, -0.00, -0.00, -45.00],\n",
       "       [ 0.00,  1.00, -0.00, -45.00],\n",
       "       [ 0.00,  0.00,  1.00, -45.00],\n",
       "       [ 0.00,  0.00,  0.00,  1.00]])"
      ]
     },
     "execution_count": 23,
     "metadata": {},
     "output_type": "execute_result"
    }
   ],
   "source": [
    "from src.pycv.dmcp import dmcp\n",
    "\n",
    "A_dmcp_hat = dmcp(K_native, P_native,box_native_x_native, box_world)\n",
    "A_dmcp_hat"
   ]
  },
  {
   "cell_type": "code",
   "execution_count": null,
   "metadata": {},
   "outputs": [],
   "source": []
  },
  {
   "cell_type": "code",
   "execution_count": null,
   "metadata": {},
   "outputs": [],
   "source": []
  }
 ],
 "metadata": {
  "interpreter": {
   "hash": "944e0db37e79bbe40637d2a36fb94c72a38c4005d536091bbeb8ff4ba293050b"
  },
  "kernelspec": {
   "display_name": "Python 3.8.8 ('dmcp')",
   "language": "python",
   "name": "python3"
  },
  "language_info": {
   "codemirror_mode": {
    "name": "ipython",
    "version": 3
   },
   "file_extension": ".py",
   "mimetype": "text/x-python",
   "name": "python",
   "nbconvert_exporter": "python",
   "pygments_lexer": "ipython3",
   "version": "3.8.8"
  },
  "orig_nbformat": 4
 },
 "nbformat": 4,
 "nbformat_minor": 2
}
