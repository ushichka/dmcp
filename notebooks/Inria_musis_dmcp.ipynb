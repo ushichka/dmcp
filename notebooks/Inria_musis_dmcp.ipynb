{
 "cells": [
  {
   "cell_type": "code",
   "execution_count": 2,
   "metadata": {},
   "outputs": [],
   "source": [
    "%load_ext autoreload\n",
    "%autoreload 2"
   ]
  },
  {
   "cell_type": "code",
   "execution_count": 3,
   "metadata": {},
   "outputs": [],
   "source": [
    "import pyvista as pv\n",
    "import numpy as np\n",
    "import scipy.linalg as la\n",
    "\n",
    "np.set_printoptions(formatter={\"float\": \"{:10.2f}\".format})\n",
    "\n",
    "mesh_path = \"../tmp/INRIA_MUSIS.stl\"\n",
    "mesh = pv.read(mesh_path)"
   ]
  },
  {
   "cell_type": "code",
   "execution_count": 4,
   "metadata": {},
   "outputs": [
    {
     "name": "stdout",
     "output_type": "stream",
     "text": [
      "position \n",
      "[[   6722.14]\n",
      " [  12345.64]\n",
      " [  10572.14]\n",
      " [      1.00]]\n"
     ]
    }
   ],
   "source": [
    "from src.dmcpworkflow.capture_depth import generate_depth_map\n",
    "\n",
    "imIm, imK, imP = generate_depth_map(mesh_path)\n",
    "\n",
    "transform_matrix = np.array([[1, 0, 0, 0],\n",
    "                             [0, 1, 0, 0],\n",
    "                             [0, 0, 1, 0],\n",
    "                             [0, 0, 0, 1]])\n",
    "\n",
    "imP = imP @ la.inv(transform_matrix)\n",
    "\n",
    "pos = la.null_space(imP) / la.null_space(imP)[-1]\n",
    "print(f\"position \\n{pos}\")\n"
   ]
  },
  {
   "cell_type": "code",
   "execution_count": 5,
   "metadata": {},
   "outputs": [
    {
     "name": "stdout",
     "output_type": "stream",
     "text": [
      "position \n",
      "[[   6722.14]\n",
      " [  12345.64]\n",
      " [  10572.14]\n",
      " [      1.00]]\n"
     ]
    }
   ],
   "source": [
    "from src.dmcpworkflow.capture_depth import generate_depth_map\n",
    "\n",
    "dmIm, dmK, dmP = generate_depth_map(mesh_path)\n",
    "pos = la.null_space(dmP) / la.null_space(dmP)[-1]\n",
    "print(f\"position \\n{pos}\")"
   ]
  },
  {
   "cell_type": "code",
   "execution_count": 6,
   "metadata": {},
   "outputs": [
    {
     "name": "stdout",
     "output_type": "stream",
     "text": [
      "Using matplotlib backend: <object object at 0x7fb3e025d160>\n"
     ]
    }
   ],
   "source": [
    "from src.dmcpworkflow.annotate_points import annotate\n",
    "\n",
    "%matplotlib\n",
    "cps = annotate(imIm,dmIm)\n",
    "%matplotlib inline\n",
    "cps_annotated = cps.copy()\n",
    "cps[:,2:] = cps[:,:2]"
   ]
  },
  {
   "cell_type": "markdown",
   "metadata": {},
   "source": [
    "visualize cps"
   ]
  },
  {
   "cell_type": "code",
   "execution_count": 7,
   "metadata": {},
   "outputs": [
    {
     "data": {
      "image/png": "[encoded data removed]",
      "text/plain": [
       "<Figure size 432x288 with 1 Axes>"
      ]
     },
     "metadata": {
      "needs_background": "light"
     },
     "output_type": "display_data"
    },
    {
     "data": {
      "image/png": "[encoded data removed]",
      "text/plain": [
       "<Figure size 432x288 with 1 Axes>"
      ]
     },
     "metadata": {
      "needs_background": "light"
     },
     "output_type": "display_data"
    }
   ],
   "source": [
    "import matplotlib.pyplot as plt\n",
    "\n",
    "plt.figure()\n",
    "plt.imshow(imIm)\n",
    "plt.scatter(cps[:,0],cps[:,1],c=\"r\")\n",
    "\n",
    "plt.figure()\n",
    "plt.imshow(dmIm)\n",
    "plt.scatter(cps[:,2],cps[:,3],c=\"r\")\n",
    "\n",
    "plt.show()"
   ]
  },
  {
   "cell_type": "code",
   "execution_count": 8,
   "metadata": {},
   "outputs": [
    {
     "name": "stdout",
     "output_type": "stream",
     "text": [
      "[[   -136.43    3990.48    2038.88]\n",
      " [  -1688.62    5860.33    2306.68]\n",
      " [  -1572.76    6032.22     415.34]\n",
      " [  -1024.89    5284.11     781.05]\n",
      " [   -921.92    5136.36    -767.93]\n",
      " [    -95.82    3932.13    -751.12]\n",
      " [      1.55     363.48    -105.65]\n",
      " [      2.31     309.30    2760.55]\n",
      " [  -3479.17     490.77    3509.61]\n",
      " [  -4902.26    3265.35    3277.92]]\n",
      "\n",
      "[[   -136.43    3990.48    2038.88]\n",
      " [  -1688.62    5860.33    2306.68]\n",
      " [  -1572.76    6032.22     415.34]\n",
      " [  -1024.89    5284.11     781.05]\n",
      " [   -921.92    5136.36    -767.93]\n",
      " [    -95.82    3932.13    -751.12]\n",
      " [      1.55     363.48    -105.65]\n",
      " [      2.31     309.30    2760.55]\n",
      " [  -3479.17     490.77    3509.61]\n",
      " [  -4902.26    3265.35    3277.92]]\n"
     ]
    }
   ],
   "source": [
    "from src.pycv.dmcp import dm_to_world, dmcp\n",
    "\n",
    "im_pts_world = dm_to_world(imIm, imK, imP, cps[:,:2])\n",
    "world_pts = dm_to_world(dmIm, dmK, dmP, cps[:,2:])\n",
    "\n",
    "print(f\"{im_pts_world}\\n\\n{world_pts}\")"
   ]
  },
  {
   "cell_type": "code",
   "execution_count": 9,
   "metadata": {},
   "outputs": [
    {
     "data": {
      "application/vnd.jupyter.widget-view+json": {
       "model_id": "5f79a1fc79224f19aa176c26b0b3e989",
       "version_major": 2,
       "version_minor": 0
      },
      "text/plain": [
       "ViewInteractiveWidget(height=768, layout=Layout(height='auto', width='100%'), width=1024)"
      ]
     },
     "metadata": {},
     "output_type": "display_data"
    }
   ],
   "source": [
    "# overlay world points and mesh to verify correctness\n",
    "\n",
    "_mPtsIm = pv.PolyData(im_pts_world)\n",
    "_mPts = pv.PolyData(world_pts)\n",
    "\n",
    "pl = pv.Plotter()\n",
    "pl.add_mesh(mesh)\n",
    "pl.add_mesh(_mPtsIm,color=\"green\")\n",
    "pl.add_mesh(_mPts,color=\"red\")\n",
    "pl.show()"
   ]
  },
  {
   "cell_type": "markdown",
   "metadata": {},
   "source": [
    "result: not perfect but also not completely wrong\n",
    "\n",
    "probably the depth map does not correspond directly to the captured projection matrix "
   ]
  },
  {
   "cell_type": "code",
   "execution_count": 12,
   "metadata": {},
   "outputs": [
    {
     "name": "stdout",
     "output_type": "stream",
     "text": [
      "estimated pose\n",
      "[[     -0.75       0.36      -0.55    5217.82]\n",
      " [      0.66       0.38      -0.65   12094.40]\n",
      " [     -0.03      -0.85      -0.52    8983.76]]\n"
     ]
    },
    {
     "data": {
      "text/plain": [
       "array([[      0.94,      -0.06,      -0.34,     122.26],\n",
       "       [     -0.02,       0.97,      -0.24,    -270.11],\n",
       "       [      0.34,       0.23,       0.91,   -1348.36],\n",
       "       [      0.00,       0.00,       0.00,       1.00]])"
      ]
     },
     "execution_count": 12,
     "metadata": {},
     "output_type": "execute_result"
    }
   ],
   "source": [
    "from src.pycv.dmcp import solve_PnP, dmcp\n",
    "\n",
    "A = dmcp(imK, imP, cps[:,:2], world_pts)\n",
    "A\n"
   ]
  },
  {
   "cell_type": "code",
   "execution_count": 13,
   "metadata": {},
   "outputs": [
    {
     "name": "stdout",
     "output_type": "stream",
     "text": [
      "position of P_trans\n",
      "[[   2107.69]\n",
      " [   8998.44]\n",
      " [  13467.98]\n",
      " [      1.00]]\n"
     ]
    },
    {
     "data": {
      "text/plain": [
       "<matplotlib.collections.PathCollection at 0x7fb3e30d7040>"
      ]
     },
     "execution_count": 13,
     "metadata": {},
     "output_type": "execute_result"
    },
    {
     "data": {
      "image/png": "[encoded data removed]",
      "text/plain": [
       "<Figure size 432x288 with 1 Axes>"
      ]
     },
     "metadata": {
      "needs_background": "light"
     },
     "output_type": "display_data"
    }
   ],
   "source": [
    "\n",
    "P_trans = imP @ la.inv(A)\n",
    "\n",
    "p_trans_pos = la.null_space(P_trans) / la.null_space(P_trans)[-1]\n",
    "print(f\"position of P_trans\\n{p_trans_pos}\")\n",
    "\n",
    "p_world_hat = np.hstack((world_pts,np.ones((world_pts.shape[0], 1))))\n",
    "reprojs = P_trans @ p_world_hat.T\n",
    "reprojs = reprojs.T\n",
    "reprojs = np.array([ reprojs[:,0] / reprojs[:,-1], reprojs[:,1] / reprojs[:,-1]  ]).T\n",
    "\n",
    "plt.imshow(imIm, origin=\"upper\")\n",
    "plt.scatter(reprojs[:,0],reprojs[:,1],color=\"red\")"
   ]
  }
 ],
 "metadata": {
  "interpreter": {
   "hash": "d2332e41685df96fe68d09deec43950424315a14fa6b910632ba6b12222b7735"
  },
  "kernelspec": {
   "display_name": "Python 3.9.12 ('dmcp')",
   "language": "python",
   "name": "python3"
  },
  "language_info": {
   "codemirror_mode": {
    "name": "ipython",
    "version": 3
   },
   "file_extension": ".py",
   "mimetype": "text/x-python",
   "name": "python",
   "nbconvert_exporter": "python",
   "pygments_lexer": "ipython3",
   "version": "3.9.12"
  },
  "orig_nbformat": 4
 },
 "nbformat": 4,
 "nbformat_minor": 2
}
