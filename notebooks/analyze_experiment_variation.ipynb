{
 "cells": [
  {
   "cell_type": "code",
   "execution_count": 1,
   "metadata": {},
   "outputs": [],
   "source": [
    "%load_ext autoreload\n",
    "%autoreload 2"
   ]
  },
  {
   "cell_type": "code",
   "execution_count": 2,
   "metadata": {},
   "outputs": [],
   "source": [
    "import numpy as np\n",
    "%matplotlib widget\n",
    "import matplotlib as mpl\n",
    "import matplotlib.pyplot as plt\n",
    "import scipy.linalg as la\n",
    "import pyvista as pv\n",
    "import imageio.v3 as iio\n",
    "np.set_printoptions(formatter={\"float\": \"{:10.2f}\".format})"
   ]
  },
  {
   "cell_type": "code",
   "execution_count": 3,
   "metadata": {},
   "outputs": [],
   "source": [
    "from src.experiment import Experiment\n",
    "from src.pycv.dmcp import dm_to_world\n",
    "mesh_path = \"/home/julian/code/uni/ushichka-registration/data/formatted/lidar_roi.ply\"\n",
    "pvMesh = pv.read(mesh_path)"
   ]
  },
  {
   "cell_type": "code",
   "execution_count": 4,
   "metadata": {},
   "outputs": [],
   "source": [
    "day = \"/home/julian/data/dmcp_experiments/round_03/2018-08-19\"\n",
    "def path_day_cam(day,cam):\n",
    "    exp_path = f\"{day}--cam{cam}\"\n",
    "    return exp_path"
   ]
  },
  {
   "cell_type": "code",
   "execution_count": 5,
   "metadata": {},
   "outputs": [],
   "source": [
    "pc0 = path_day_cam(day,0)\n",
    "pc1 = path_day_cam(day,1)\n",
    "pc2 = path_day_cam(day,2)\n",
    "\n",
    "exp0 = Experiment(pc0,mesh_path)\n",
    "exp1 = Experiment(pc1,mesh_path)\n",
    "exp2 = Experiment(pc2,mesh_path)\n",
    "exps = [exp0, exp1, exp2]"
   ]
  },
  {
   "cell_type": "code",
   "execution_count": 6,
   "metadata": {},
   "outputs": [
    {
     "name": "stdout",
     "output_type": "stream",
     "text": [
      "[      2.47      -3.15      -0.75]\n"
     ]
    }
   ],
   "source": [
    "exp1.visualize_3D()"
   ]
  },
  {
   "cell_type": "code",
   "execution_count": 7,
   "metadata": {},
   "outputs": [
    {
     "name": "stdout",
     "output_type": "stream",
     "text": [
      "[      0.38       2.42       0.00       1.00]\n",
      "[      0.38       2.42       0.00]\n"
     ]
    }
   ],
   "source": [
    "imP = exp0.load_imP()\n",
    "tra = exp0.load_transform()\n",
    "\n",
    "pos_trans = imP @ la.inv(tra)\n",
    "pos_trans = (la.null_space(pos_trans) / la.null_space(pos_trans)[-1])[:3].flatten()\n",
    "pos_sph_P = pv.Sphere(radius=0.25, center=pos_trans)\n",
    "\n",
    "\n",
    "pos_nat = (la.null_space(imP) / la.null_space(imP)[-1])[:3].flatten()\n",
    "pos_trans = tra @ np.append(pos_nat, [1])\n",
    "pos_sph_pos = pv.Sphere(radius=0.25, center=pos_trans[:3])\n",
    "\n",
    "imP1 = exp1.load_imP()\n",
    "pos_nat = (la.null_space(imP1) / la.null_space(imP1)[-1])[:3].flatten()\n",
    "tra[:3,:3] = tra[:3,:3]\n",
    "pos_trans = tra @ np.append(pos_nat, [1])\n",
    "\n",
    "pos_sph_pos1 = pv.Sphere(radius=0.25, center=pos_trans[:3])\n",
    "print(pos_trans)\n",
    "\n",
    "pos_trans = imP1 @ la.inv(tra)\n",
    "pos_trans = (la.null_space(pos_trans) / la.null_space(pos_trans)[-1])[:3].flatten()\n",
    "pos_sph_P1 = pv.Sphere(radius=0.25, center=pos_trans)\n",
    "print(pos_trans)\n",
    "\n",
    "pl = pv.Plotter(notebook=False)\n",
    "pl.add_mesh(pvMesh,color=\"brown\")\n",
    "pl.add_mesh(pos_sph_P, color=\"green\") \n",
    "pl.add_mesh(pos_sph_pos, color=\"blue\") \n",
    "pl.add_mesh(pos_sph_pos1, color=\"orange\")   \n",
    "pl.add_mesh(pos_sph_P1, color=\"red\") \n",
    "\n",
    "pl.show()"
   ]
  },
  {
   "cell_type": "code",
   "execution_count": 9,
   "metadata": {},
   "outputs": [
    {
     "name": "stdout",
     "output_type": "stream",
     "text": [
      "executing sparse correspondence alignment (SCA)\n",
      "estimated pose\n",
      "[[      0.20      -0.12      -0.97      -0.73]\n",
      " [      0.98      -0.04       0.20       3.35]\n",
      " [     -0.06      -0.99       0.11       0.53]]\n",
      "scale factor 0.39107712441268583\n",
      "transformation\n",
      "[[     -0.26       0.27      -0.11      -1.81]\n",
      " [     -0.29      -0.27       0.01       3.10]\n",
      " [      0.07      -0.08      -0.38       0.45]\n",
      " [      0.00       0.00       0.00       1.00]]\n"
     ]
    }
   ],
   "source": [
    "dmIm = exp0.load_dmIm()\n",
    "dmK = exp0.load_dmK()\n",
    "dmP = exp0.load_dmP()\n",
    "cps = exp0.load_cps()\n",
    "imK = exp0.load_imK()\n",
    "imP = exp0.load_imP()\n",
    "from src.pycv.dmcp import dmcp\n",
    "pts_world = dm_to_world(dmIm, dmK, dmP, cps[:,2:])\n",
    "        \n",
    "print(\"executing sparse correspondence alignment (SCA)\")\n",
    "\n",
    "_raw_pose, trans = dmcp(imK, imP, cps[:,:2], pts_world,return_raw_pose=True)\n",
    "print(f\"transformation\\n{trans}\")"
   ]
  },
  {
   "cell_type": "code",
   "execution_count": 10,
   "metadata": {},
   "outputs": [
    {
     "name": "stdout",
     "output_type": "stream",
     "text": [
      "scale\n",
      " [0.9999999999999999, 1.0, 1.0]\n"
     ]
    }
   ],
   "source": [
    "\n",
    "box_world = pts_world\n",
    "box_native_x_native = cps[:,:2]\n",
    "K_native = imK\n",
    "P_native = imP\n",
    "from src.pycv.perspective import solve_PnP\n",
    "import cv2\n",
    "\n",
    "# fix scaling \n",
    "def fix_scaling(K,P):\n",
    "    extrinsic_matrix_native = np.matmul(la.inv(K), P) \n",
    "    E1 = extrinsic_matrix_native\n",
    "    sv = [la.norm(E1[0:3, 0]), la.norm(E1[0:3, 1]), la.norm(E1[0:3, 2])]\n",
    "    E1[0:3,0] = E1[0:3,0] / sv[0]\n",
    "    E1[0:3,1] = E1[0:3,1] / sv[1]\n",
    "    E1[0:3,2] = E1[0:3,2] / sv[2]\n",
    "    P_fixed = K @ E1\n",
    "    return P_fixed\n",
    "\n",
    "P_native = fix_scaling(K_native, P_native)\n",
    "\n",
    "extrinsic_matrix_native = np.matmul(la.inv(K_native), P_native) \n",
    "E1 = extrinsic_matrix_native\n",
    "sv = [la.norm(E1[0:3, 0]), la.norm(E1[0:3, 1]), la.norm(E1[0:3, 2])]\n",
    "print(\"scale\\n\",sv)"
   ]
  },
  {
   "cell_type": "code",
   "execution_count": 12,
   "metadata": {},
   "outputs": [
    {
     "name": "stdout",
     "output_type": "stream",
     "text": [
      "[     -2.27       1.48      -0.94] \n",
      " [     -0.72       3.35       0.53]\n"
     ]
    }
   ],
   "source": [
    "imP1 = exp0.load_imP()\n",
    "pose_nat = (la.null_space(imP1) / la.null_space(imP1)[-1])[:3].flatten()\n",
    "\n",
    "imP1_world = imP1 @ la.inv(exp0.load_transform())\n",
    "pose_world_true = (la.null_space(imP1_world) / la.null_space(imP1_world)[-1])[:3].flatten()\n",
    "\n",
    "\n",
    "print(pose_nat, \"\\n\",pose_world_true)"
   ]
  },
  {
   "cell_type": "code",
   "execution_count": 14,
   "metadata": {},
   "outputs": [
    {
     "name": "stdout",
     "output_type": "stream",
     "text": [
      "box_world\n",
      "[[     -3.18       5.12       0.70]\n",
      " [     -4.13       5.14       0.89]\n",
      " [     -4.44       4.91       1.42]\n",
      " [     -7.71       3.17       1.76]\n",
      " [     -0.72       3.35       0.53]]\n",
      "box camera\n",
      "[[      4.78       6.16      12.05]\n",
      " [      7.10       7.02      12.12]\n",
      " [      8.53       6.18      11.75]\n",
      " [     16.40       9.06       7.28]\n",
      " [     -0.54       2.62       7.68]]\n",
      "est scale 0.3914386930246882\n"
     ]
    }
   ],
   "source": [
    "pose_matrix = la.inv(exp0.load_imK()) @ exp0.load_imP()\n",
    "pose_matrix_hat = np.vstack((pose_matrix, [0,0,0,1]))\n",
    "extrinsic_matrix_world = la.inv(pose_matrix_hat)[:3,:]\n",
    "box_world = np.vstack((pts_world, pose_world_true))\n",
    "box_world_hat = np.hstack((box_world, np.ones((box_world.shape[0],1))))\n",
    "box_world_camera = np.matmul(extrinsic_matrix_world, box_world_hat.T).T\n",
    "# DMCP Step 2.2 transform camera points into native space\n",
    "extrinsic_matrix_native = np.matmul(la.inv(K_native), P_native) \n",
    "extrinsic_matrix_native_hat = np.vstack((extrinsic_matrix_native,[0,0,0,1]))\n",
    "pose_matrix = la.inv(extrinsic_matrix_native_hat)\n",
    "camera_pose_matrix_native = pose_matrix\n",
    "\n",
    "box_world_camera_hat = np.hstack((box_world_camera,np.ones((box_world_camera.shape[0],1))))\n",
    "box_native_tf = np.matmul(camera_pose_matrix_native, box_world_camera_hat.T).T[:,:3]\n",
    "print(f\"box_world\\n{box_world}\\nbox camera\\n{box_world_camera}\")\n",
    "# DMCP Step 2.3\n",
    "#A_tf = horn_affine_transformation(box_native_tf, box_world)\n",
    "retval, scale = cv2.estimateAffine3D(box_native_tf, box_world,force_rotation=False)\n",
    "print(f\"est scale {scale}\")\n",
    "A_tf = retval\n",
    "A_tf[:3,:3] = A_tf[:3,:3] * scale\n",
    "A_tf_hat = np.vstack((A_tf,[0,0,0,1]))"
   ]
  },
  {
   "cell_type": "markdown",
   "metadata": {},
   "source": [
    "# observation of ushichka camera space does not work, even with fixed scaling"
   ]
  },
  {
   "cell_type": "code",
   "execution_count": 98,
   "metadata": {},
   "outputs": [
    {
     "name": "stdout",
     "output_type": "stream",
     "text": [
      "box world\n",
      "[[     -3.18       5.12       0.70]\n",
      " [     -4.13       5.14       0.89]\n",
      " [     -4.44       4.91       1.42]\n",
      " [     -7.71       3.17       1.76]\n",
      " [      2.47      -3.15      -0.75]]\n",
      "trans native\n",
      "[[     -3.18       5.12       0.70]\n",
      " [     -4.13       5.14       0.89]\n",
      " [     -4.44       4.91       1.42]\n",
      " [     -7.71       3.17       1.76]\n",
      " [      2.47      -3.15      -0.75]]\n"
     ]
    }
   ],
   "source": [
    "box_native_hat = np.hstack((box_native_tf, np.ones((box_native_tf.shape[0],1))))\n",
    "transformed_native = (A_tf @ box_native_hat.T).T\n",
    "\n",
    "print(f\"box world\\n{box_world}\\ntrans native\\n{transformed_native}\")"
   ]
  }
 ],
 "metadata": {
  "interpreter": {
   "hash": "d2332e41685df96fe68d09deec43950424315a14fa6b910632ba6b12222b7735"
  },
  "kernelspec": {
   "display_name": "Python 3.9.12 ('dmcp')",
   "language": "python",
   "name": "python3"
  },
  "language_info": {
   "codemirror_mode": {
    "name": "ipython",
    "version": 3
   },
   "file_extension": ".py",
   "mimetype": "text/x-python",
   "name": "python",
   "nbconvert_exporter": "python",
   "pygments_lexer": "ipython3",
   "version": "3.9.12"
  },
  "orig_nbformat": 4
 },
 "nbformat": 4,
 "nbformat_minor": 2
}
