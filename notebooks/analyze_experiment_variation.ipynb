{
 "cells": [
  {
   "cell_type": "code",
   "execution_count": 43,
   "metadata": {},
   "outputs": [
    {
     "name": "stdout",
     "output_type": "stream",
     "text": [
      "The autoreload extension is already loaded. To reload it, use:\n",
      "  %reload_ext autoreload\n"
     ]
    }
   ],
   "source": [
    "%load_ext autoreload\n",
    "%autoreload 2"
   ]
  },
  {
   "cell_type": "code",
   "execution_count": 44,
   "metadata": {},
   "outputs": [],
   "source": [
    "import numpy as np\n",
    "%matplotlib widget\n",
    "import matplotlib as mpl\n",
    "import matplotlib.pyplot as plt\n",
    "import scipy.linalg as la\n",
    "import pyvista as pv\n",
    "import imageio.v3 as iio\n",
    "np.set_printoptions(formatter={\"float\": \"{:10.2f}\".format})"
   ]
  },
  {
   "cell_type": "code",
   "execution_count": 45,
   "metadata": {},
   "outputs": [],
   "source": [
    "from src.experiment import Experiment\n",
    "from src.pycv.dmcp import dm_to_world\n",
    "mesh_path = \"/home/julian/uni/ushichka-registration/data/formatted/lidar_roi.ply\"\n",
    "mesh_path = \"C:/Users/Julian/Nextcloud/Uni/Semester 8/ushichka-registration/data/formatted/lidar_roi.ply\"\n",
    "pvMesh = pv.read(mesh_path)"
   ]
  },
  {
   "cell_type": "code",
   "execution_count": 46,
   "metadata": {},
   "outputs": [],
   "source": [
    "day = \"/home/julian/data/dmcp_experiments/round_05/2018-08-17\"\n",
    "day = \"/data/dmcp_experiments/round_05/2018-08-17\"\n",
    "def path_day_cam(day,cam):\n",
    "    exp_path = f\"{day}--cam{cam}\"\n",
    "    return exp_path"
   ]
  },
  {
   "cell_type": "code",
   "execution_count": 47,
   "metadata": {},
   "outputs": [],
   "source": [
    "pc0 = path_day_cam(day,0)\n",
    "pc1 = path_day_cam(day,1)\n",
    "pc2 = path_day_cam(day,2)\n",
    "\n",
    "exp0 = Experiment(pc0,mesh_path)\n",
    "exp1 = Experiment(pc1,mesh_path)\n",
    "exp2 = Experiment(pc2,mesh_path)\n",
    "exps = [exp0, exp1, exp2]"
   ]
  },
  {
   "cell_type": "code",
   "execution_count": 48,
   "metadata": {},
   "outputs": [
    {
     "data": {
      "text/plain": [
       "array([[     -2.80,       1.97,      -0.31,       1.00],\n",
       "       [     -0.93,       4.12,      -2.84,       1.00],\n",
       "       [      0.64,       4.10,      -1.40,       1.00]])"
      ]
     },
     "execution_count": 48,
     "metadata": {},
     "output_type": "execute_result"
    }
   ],
   "source": [
    "from src.pyushichka import loadCalibration\n",
    "ps = [loadCalibration(0,r\"C:\\data\\ushichka\\2018-08-17\"),loadCalibration(1,r\"C:\\data\\ushichka\\2018-08-17\"),loadCalibration(2,r\"C:\\data\\ushichka\\2018-08-17\")]\n",
    "pts = []\n",
    "for cam in ps:\n",
    "    K, P = cam\n",
    "    #P_trans = P @ la.inv(trans)\n",
    "    pos = (la.null_space(P) / la.null_space(P)[-1])[:3].flatten()\n",
    "    pts.append(pos)\n",
    "\n",
    "pts = np.array(pts)\n",
    "pts_hat = np.hstack((pts,np.ones((pts.shape[0],1))))\n",
    "pts_hat"
   ]
  },
  {
   "cell_type": "code",
   "execution_count": 49,
   "metadata": {},
   "outputs": [
    {
     "data": {
      "text/plain": [
       "[TransformedCameras(pts=array([[      1.86,       2.02,       0.18],\n",
       "        [      2.11,      -1.18,      -1.86],\n",
       "        [      0.69,      -1.95,      -0.48]])),\n",
       " TransformedCameras(pts=array([[      1.83,       1.95,       0.36],\n",
       "        [      2.15,      -1.28,      -1.63],\n",
       "        [      0.69,      -2.04,      -0.27]])),\n",
       " TransformedCameras(pts=array([[      1.78,       1.98,       0.32],\n",
       "        [      2.11,      -1.10,      -1.89],\n",
       "        [      0.69,      -1.96,      -0.57]]))]"
      ]
     },
     "execution_count": 49,
     "metadata": {},
     "output_type": "execute_result"
    }
   ],
   "source": [
    "from dataclasses import dataclass\n",
    "@dataclass\n",
    "class TransformedCameras:\n",
    "    pts: np.ndarray = np.array([])\n",
    "tcs = []\n",
    "for exp in exps:\n",
    "    trans = exp.load_transform()[:3,:]\n",
    "    tc = TransformedCameras(pts=(trans @ pts_hat.T).T)\n",
    "    tcs.append(tc)\n",
    "\n",
    "tcs"
   ]
  },
  {
   "cell_type": "code",
   "execution_count": 50,
   "metadata": {},
   "outputs": [],
   "source": [
    "plotter = pv.Plotter(notebook=False)\n",
    "for i in range(len(tcs)):\n",
    "    tc = tcs[i]\n",
    "    sv = pv.PolyData(tc.pts)\n",
    "    plotter.add_mesh(sv, color=[\"red\",\"green\",\"blue\"][i], point_size=25,render_points_as_spheres=True)\n",
    "plotter.add_mesh(pvMesh)\n",
    "plotter.show()"
   ]
  }
 ],
 "metadata": {
  "interpreter": {
   "hash": "944e0db37e79bbe40637d2a36fb94c72a38c4005d536091bbeb8ff4ba293050b"
  },
  "kernelspec": {
   "display_name": "Python 3.8.8 ('dmcp')",
   "language": "python",
   "name": "python3"
  },
  "language_info": {
   "codemirror_mode": {
    "name": "ipython",
    "version": 3
   },
   "file_extension": ".py",
   "mimetype": "text/x-python",
   "name": "python",
   "nbconvert_exporter": "python",
   "pygments_lexer": "ipython3",
   "version": "3.9.12"
  },
  "orig_nbformat": 4
 },
 "nbformat": 4,
 "nbformat_minor": 2
}
