{
 "cells": [
  {
   "cell_type": "code",
   "execution_count": 1,
   "metadata": {},
   "outputs": [],
   "source": [
    "%load_ext autoreload\n",
    "%autoreload 2"
   ]
  },
  {
   "cell_type": "code",
   "execution_count": 2,
   "metadata": {},
   "outputs": [],
   "source": [
    "import numpy as np\n",
    "%matplotlib widget\n",
    "import matplotlib as mpl\n",
    "import matplotlib.pyplot as plt\n",
    "import scipy.linalg as la\n",
    "import pyvista as pv\n",
    "import imageio.v3 as iio\n",
    "import os\n",
    "np.set_printoptions(formatter={\"float\": \"{:10.2f}\".format})"
   ]
  },
  {
   "cell_type": "code",
   "execution_count": 3,
   "metadata": {},
   "outputs": [],
   "source": [
    "from src.experiment import Experiment\n",
    "from src.pycv.dmcp import dm_to_world\n",
    "mesh_path = \"/home/julian/uni/ushichka-registration/data/formatted/lidar_roi.ply\"\n",
    "mesh_path = \"C:/Users/Julian/Nextcloud/Uni/Semester 8/ushichka-registration/data/formatted/lidar_roi.ply\"\n",
    "pvMesh = pv.read(mesh_path)"
   ]
  },
  {
   "cell_type": "code",
   "execution_count": 44,
   "metadata": {},
   "outputs": [],
   "source": [
    "date = \"2018-08-18\"\n",
    "day = \"/home/julian/data/dmcp_experiments/round_05\" + os.sep + date\n",
    "day = \"/data/dmcp_experiments/round_05\" + os.sep + date\n",
    "def path_day_cam(day,cam):\n",
    "    exp_path = f\"{day}--cam{cam}\"\n",
    "    return exp_path"
   ]
  },
  {
   "cell_type": "code",
   "execution_count": 45,
   "metadata": {},
   "outputs": [],
   "source": [
    "pc0 = path_day_cam(day,0)\n",
    "pc1 = path_day_cam(day,1)\n",
    "pc2 = path_day_cam(day,2)\n",
    "\n",
    "exp0 = Experiment(pc0,mesh_path)\n",
    "exp1 = Experiment(pc1,mesh_path)\n",
    "exp2 = Experiment(pc2,mesh_path)\n",
    "exps = [exp0, exp1, exp2]"
   ]
  },
  {
   "cell_type": "code",
   "execution_count": 46,
   "metadata": {},
   "outputs": [
    {
     "data": {
      "text/plain": [
       "array([[     -2.72,      -0.69,       7.74,       1.00],\n",
       "       [     -3.11,       0.39,       3.18,       1.00],\n",
       "       [     -1.39,      -0.26,       8.84,       1.00]])"
      ]
     },
     "execution_count": 46,
     "metadata": {},
     "output_type": "execute_result"
    }
   ],
   "source": [
    "from src.pyushichka import loadCalibration\n",
    "date_path = r\"C:\\data\\ushichka\" + os.sep + date\n",
    "ps = [loadCalibration(0,date_path),loadCalibration(1,date_path),loadCalibration(2,date_path)]\n",
    "pts = []\n",
    "for cam in ps:\n",
    "    K, P = cam\n",
    "    #P_trans = P @ la.inv(trans)\n",
    "    pos = (la.null_space(P) / la.null_space(P)[-1])[:3].flatten()\n",
    "    pts.append(pos)\n",
    "\n",
    "pts = np.array(pts)\n",
    "pts_hat = np.hstack((pts,np.ones((pts.shape[0],1))))\n",
    "pts_hat"
   ]
  },
  {
   "cell_type": "code",
   "execution_count": 47,
   "metadata": {},
   "outputs": [
    {
     "data": {
      "text/plain": [
       "[TransformedCameras(pts=array([[      2.49,      -0.75,       0.27],\n",
       "        [     -0.43,       2.92,      -0.09],\n",
       "        [      2.21,      -2.41,      -0.30]])),\n",
       " TransformedCameras(pts=array([[     -2.64,      -4.10,      -2.97],\n",
       "        [     -3.38,       0.48,      -2.21],\n",
       "        [     -3.86,      -5.34,      -3.35]])),\n",
       " TransformedCameras(pts=array([[      2.41,      -0.72,       0.36],\n",
       "        [     -0.52,       2.93,      -0.02],\n",
       "        [      2.17,      -2.37,      -0.25]]))]"
      ]
     },
     "execution_count": 47,
     "metadata": {},
     "output_type": "execute_result"
    }
   ],
   "source": [
    "from dataclasses import dataclass\n",
    "@dataclass\n",
    "class TransformedCameras:\n",
    "    pts: np.ndarray = np.array([])\n",
    "tcs = []\n",
    "for exp in exps:\n",
    "    trans = exp.load_transform()[:3,:]\n",
    "    tc = TransformedCameras(pts=(trans @ pts_hat.T).T)\n",
    "    tcs.append(tc)\n",
    "\n",
    "tcs"
   ]
  },
  {
   "cell_type": "code",
   "execution_count": 48,
   "metadata": {},
   "outputs": [],
   "source": [
    "plotter = pv.Plotter(notebook=False)\n",
    "for i in range(len(tcs)):\n",
    "    tc = tcs[i]\n",
    "    sv = pv.PolyData(tc.pts)\n",
    "    plotter.add_mesh(sv, color=[\"red\",\"green\",\"blue\"][i], point_size=25,render_points_as_spheres=True)\n",
    "plotter.add_mesh(pvMesh)\n",
    "plotter.show()"
   ]
  }
 ],
 "metadata": {
  "interpreter": {
   "hash": "944e0db37e79bbe40637d2a36fb94c72a38c4005d536091bbeb8ff4ba293050b"
  },
  "kernelspec": {
   "display_name": "Python 3.8.8 ('dmcp')",
   "language": "python",
   "name": "python3"
  },
  "language_info": {
   "codemirror_mode": {
    "name": "ipython",
    "version": 3
   },
   "file_extension": ".py",
   "mimetype": "text/x-python",
   "name": "python",
   "nbconvert_exporter": "python",
   "pygments_lexer": "ipython3",
   "version": "3.9.12"
  },
  "orig_nbformat": 4
 },
 "nbformat": 4,
 "nbformat_minor": 2
}
