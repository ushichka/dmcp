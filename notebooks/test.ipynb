{
 "cells": [
  {
   "cell_type": "code",
   "execution_count": 1,
   "metadata": {},
   "outputs": [],
   "source": [
    "%load_ext autoreload\n",
    "%autoreload 2\n",
    "import numpy as np\n",
    "import scipy.linalg as la\n",
    "np.set_printoptions(precision=2, formatter={'float':lambda x: f\"{x:5.02f}\"})"
   ]
  },
  {
   "cell_type": "code",
   "execution_count": 34,
   "metadata": {},
   "outputs": [
    {
     "data": {
      "text/plain": [
       "array([[50.00, 50.00, 50.00],\n",
       "       [50.00, 50.00, 51.00],\n",
       "       [50.00, 51.00, 50.00],\n",
       "       [51.00, 50.00, 50.00],\n",
       "       [51.00, 51.00, 50.00],\n",
       "       [50.00, 51.00, 51.00],\n",
       "       [51.00, 50.00, 51.00],\n",
       "       [51.00, 51.00, 51.00]])"
      ]
     },
     "execution_count": 34,
     "metadata": {},
     "output_type": "execute_result"
    }
   ],
   "source": [
    "import numpy as np\n",
    "def createBox():\n",
    "    pts = [\n",
    "        [0,0,0],\n",
    "        [0,0,1],\n",
    "        [0,1,0],\n",
    "        [1,0,0],\n",
    "        [1,1,0],\n",
    "        [0,1,1],\n",
    "        [1,0,1],\n",
    "        [1,1,1],\n",
    "        ]\n",
    "    return np.array(pts).astype(\"float32\")\n",
    "\n",
    "box = createBox()\n",
    "box = box + [50,50,50]\n",
    "box"
   ]
  },
  {
   "cell_type": "code",
   "execution_count": 43,
   "metadata": {},
   "outputs": [
    {
     "data": {
      "text/plain": [
       "array([[100.00,  0.00, 50.00, -150.00],\n",
       "       [ 0.00, 100.00, 50.00, -150.00],\n",
       "       [ 0.00,  0.00,  1.00, -1.00]])"
      ]
     },
     "execution_count": 43,
     "metadata": {},
     "output_type": "execute_result"
    }
   ],
   "source": [
    "# basic pinhole camera\n",
    "K = [\n",
    "    [100, 0, 50],\n",
    "    [0, 100, 50],\n",
    "    [0,0,1]\n",
    "    ]\n",
    "K = np.array(K).astype(\"float32\")\n",
    "\n",
    "E = [\n",
    "    [1,0,0,1],\n",
    "    [0,1,0,1],\n",
    "    [0,0,1,1],\n",
    "    [0,0,0,1]\n",
    "]\n",
    "E = np.array(E)\n",
    "\n",
    "E = la.inv(E)[:3,:]\n",
    "\n",
    "P_native = np.matmul(K,E)\n",
    "P_native"
   ]
  },
  {
   "cell_type": "code",
   "execution_count": 44,
   "metadata": {},
   "outputs": [
    {
     "data": {
      "text/plain": [
       "array([[150.00, 150.00],\n",
       "       [148.00, 148.00],\n",
       "       [150.00, 152.04],\n",
       "       [152.04, 150.00],\n",
       "       [152.04, 152.04],\n",
       "       [148.00, 150.00],\n",
       "       [150.00, 148.00],\n",
       "       [150.00, 150.00]])"
      ]
     },
     "execution_count": 44,
     "metadata": {},
     "output_type": "execute_result"
    }
   ],
   "source": [
    "# view box\n",
    "\n",
    "box_hat = np.hstack((box,np.ones((box.shape[0],1))))\n",
    "\n",
    "box_x_hat = np.matmul(P_native,box_hat.T).T\n",
    "box_x = np.array([box_x_hat[i,:] / box_x_hat[i,-1] for i in range(box_x_hat.shape[0])])[:,:-1]\n",
    "box_x"
   ]
  },
  {
   "cell_type": "code",
   "execution_count": 45,
   "metadata": {},
   "outputs": [
    {
     "name": "stdout",
     "output_type": "stream",
     "text": [
      "[[-100.00  0.00 50.00]\n",
      " [-0.00 -100.00 50.00]\n",
      " [ 0.00  0.00  1.00]]\n",
      "\n",
      "[[-1.00  0.00  0.00]\n",
      " [-0.00 -1.00 -0.00]\n",
      " [ 0.00 -0.00  1.00]]\n",
      "\n",
      "[ 1.00  1.00  1.00]\n"
     ]
    }
   ],
   "source": [
    "from src.pycv.perspective import calibrate_dlt, decompose_perspective_projection_matrix\n",
    "\n",
    "P = calibrate_dlt(box_x, box)\n",
    "\n",
    "K, R, T = decompose_perspective_projection_matrix(P)\n",
    "print(f\"{K}\\n\\n{R}\\n\\n{T}\")"
   ]
  },
  {
   "cell_type": "code",
   "execution_count": 39,
   "metadata": {},
   "outputs": [
    {
     "data": {
      "text/plain": [
       "array([[ 5.00,  5.00,  5.00],\n",
       "       [ 5.00,  5.00,  6.00],\n",
       "       [ 5.00,  6.00,  5.00],\n",
       "       [ 6.00,  5.00,  5.00],\n",
       "       [ 6.00,  6.00,  5.00],\n",
       "       [ 5.00,  6.00,  6.00],\n",
       "       [ 6.00,  5.00,  6.00],\n",
       "       [ 6.00,  6.00,  6.00]])"
      ]
     },
     "execution_count": 39,
     "metadata": {},
     "output_type": "execute_result"
    }
   ],
   "source": [
    "box2 = createBox()\n",
    "box2 = box2 + [5,5,5]\n",
    "box2"
   ]
  },
  {
   "cell_type": "code",
   "execution_count": 30,
   "metadata": {},
   "outputs": [
    {
     "ename": "error",
     "evalue": "OpenCV(4.5.5) /io/opencv/modules/calib3d/src/calibration.cpp:3350: error: (-210:Unsupported format or combination of formats) objectPoints should contain vector of vectors of points of type Point3f in function 'collectCalibrationData'\n",
     "output_type": "error",
     "traceback": [
      "\u001b[0;31m---------------------------------------------------------------------------\u001b[0m",
      "\u001b[0;31merror\u001b[0m                                     Traceback (most recent call last)",
      "\u001b[1;32m/home/julian/code/uni/dmcp/notebooks/test.ipynb Cell 7'\u001b[0m in \u001b[0;36m<cell line: 18>\u001b[0;34m()\u001b[0m\n\u001b[1;32m     <a href='vscode-notebook-cell:/home/julian/code/uni/dmcp/notebooks/test.ipynb#ch0000007?line=15'>16</a>\u001b[0m \u001b[39m#P = calibrate_dlt(box_x, box)\u001b[39;00m\n\u001b[1;32m     <a href='vscode-notebook-cell:/home/julian/code/uni/dmcp/notebooks/test.ipynb#ch0000007?line=16'>17</a>\u001b[0m \u001b[39mimport\u001b[39;00m \u001b[39mcv2\u001b[39;00m\n\u001b[0;32m---> <a href='vscode-notebook-cell:/home/julian/code/uni/dmcp/notebooks/test.ipynb#ch0000007?line=17'>18</a>\u001b[0m r, P, d, rv, tv \u001b[39m=\u001b[39m cv2\u001b[39m.\u001b[39;49mcalibrateCamera([np\u001b[39m.\u001b[39;49marray([\u001b[39m0\u001b[39;49m,\u001b[39m0\u001b[39;49m,\u001b[39m0\u001b[39;49m])],[np\u001b[39m.\u001b[39;49marray([\u001b[39m0\u001b[39;49m,\u001b[39m0\u001b[39;49m])],(\u001b[39m1234\u001b[39;49m,\u001b[39m1234\u001b[39;49m),K,np\u001b[39m.\u001b[39;49marray([\u001b[39m0\u001b[39;49m,\u001b[39m0\u001b[39;49m,\u001b[39m0\u001b[39;49m,\u001b[39m0.0\u001b[39;49m]))\n\u001b[1;32m     <a href='vscode-notebook-cell:/home/julian/code/uni/dmcp/notebooks/test.ipynb#ch0000007?line=18'>19</a>\u001b[0m \u001b[39mprint\u001b[39m(P)\n\u001b[1;32m     <a href='vscode-notebook-cell:/home/julian/code/uni/dmcp/notebooks/test.ipynb#ch0000007?line=20'>21</a>\u001b[0m H \u001b[39m=\u001b[39m P[:\u001b[39m3\u001b[39m,:\u001b[39m3\u001b[39m]\n",
      "\u001b[0;31merror\u001b[0m: OpenCV(4.5.5) /io/opencv/modules/calib3d/src/calibration.cpp:3350: error: (-210:Unsupported format or combination of formats) objectPoints should contain vector of vectors of points of type Point3f in function 'collectCalibrationData'\n"
     ]
    }
   ],
   "source": [
    "\n",
    "P2 = calibrate_dlt(box_x, box)\n",
    "\n",
    "K2, R2, T2 = decompose_perspective_projection_matrix(P)\n",
    "print(f\"{K}\\n\\n{R}\\n\\n{T}\")"
   ]
  },
  {
   "cell_type": "code",
   "execution_count": 47,
   "metadata": {},
   "outputs": [
    {
     "data": {
      "text/plain": [
       "array([-3.14,  0.00, -3.14])"
      ]
     },
     "execution_count": 47,
     "metadata": {},
     "output_type": "execute_result"
    }
   ],
   "source": [
    "from src.pycv.perspective import rot2eul, eul2rot\n",
    "\n",
    "rot2eul(-1*np.eye(3))"
   ]
  }
 ],
 "metadata": {
  "interpreter": {
   "hash": "d2332e41685df96fe68d09deec43950424315a14fa6b910632ba6b12222b7735"
  },
  "kernelspec": {
   "display_name": "Python 3.9.12 ('dmcp')",
   "language": "python",
   "name": "python3"
  },
  "language_info": {
   "codemirror_mode": {
    "name": "ipython",
    "version": 3
   },
   "file_extension": ".py",
   "mimetype": "text/x-python",
   "name": "python",
   "nbconvert_exporter": "python",
   "pygments_lexer": "ipython3",
   "version": "3.9.12"
  },
  "orig_nbformat": 4
 },
 "nbformat": 4,
 "nbformat_minor": 2
}
