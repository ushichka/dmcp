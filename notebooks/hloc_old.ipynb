{
 "cells": [
  {
   "cell_type": "code",
   "execution_count": 1,
   "id": "66195d59",
   "metadata": {},
   "outputs": [],
   "source": [
    "%load_ext autoreload\n",
    "%autoreload 2\n",
    "\n",
    "from pathlib import Path\n",
    "\n",
    "from hloc import (\n",
    "    extract_features,\n",
    "    match_features,\n",
    "    reconstruction,\n",
    "    visualization,\n",
    "    pairs_from_retrieval,\n",
    ")"
   ]
  },
  {
   "cell_type": "code",
   "execution_count": 23,
   "id": "013904e4",
   "metadata": {},
   "outputs": [],
   "source": [
    "images = Path(\"../data/images/\")\n",
    "\n",
    "outputs = Path(\"../data/hloc_outputs/sfm/\")\n",
    "sfm_pairs = outputs / \"pairs-netvlad.txt\"\n",
    "sfm_dir = outputs / \"sfm_superpoint+superglue\"\n",
    "\n",
    "retrieval_conf = extract_features.confs[\"sift\"]\n",
    "feature_conf = extract_features.confs[\"superpoint_aachen\"]\n",
    "matcher_conf = match_features.confs[\"superglue\"]"
   ]
  },
  {
   "cell_type": "code",
   "execution_count": 21,
   "id": "32c8413a-662a-48c9-a7ea-d2a01e61b461",
   "metadata": {},
   "outputs": [
    {
     "data": {
      "text/plain": [
       "{'output': 'feats-sift',\n",
       " 'model': {'name': 'dog'},\n",
       " 'preprocessing': {'grayscale': True, 'resize_max': 1600}}"
      ]
     },
     "execution_count": 21,
     "metadata": {},
     "output_type": "execute_result"
    }
   ],
   "source": [
    "retrieval_conf"
   ]
  },
  {
   "cell_type": "code",
   "execution_count": 7,
   "id": "716b3acb",
   "metadata": {},
   "outputs": [],
   "source": [
    "# if not images.exists():\n",
    "#     !wget https://cvg-data.inf.ethz.ch/local-feature-evaluation-schoenberger2017/South-Building.zip -P datasets/\n",
    "#     !unzip -q datasets/South-Building.zip -d datasets/"
   ]
  },
  {
   "cell_type": "code",
   "execution_count": 22,
   "id": "a70bac49",
   "metadata": {},
   "outputs": [
    {
     "name": "stderr",
     "output_type": "stream",
     "text": [
      "[2024/03/14 20:52:02 hloc INFO] Extracting local features with configuration:\n",
      "{'model': {'name': 'dog'},\n",
      " 'output': 'feats-sift',\n",
      " 'preprocessing': {'grayscale': True, 'resize_max': 1600}}\n",
      "[2024/03/14 20:52:02 hloc INFO] Found 3 images in root ../data/images.\n",
      "100%|█████████████████████████████████████████████| 3/3 [00:00<00:00,  3.38it/s]\n",
      "[2024/03/14 20:52:03 hloc INFO] Finished exporting features.\n",
      "[2024/03/14 20:52:03 hloc INFO] Extracting image pairs from a retrieval database.\n"
     ]
    },
    {
     "ename": "KeyError",
     "evalue": "\"Unable to synchronously open object (object 'global_descriptor' doesn't exist)\"",
     "output_type": "error",
     "traceback": [
      "\u001b[0;31m---------------------------------------------------------------------------\u001b[0m",
      "\u001b[0;31mKeyError\u001b[0m                                  Traceback (most recent call last)",
      "Cell \u001b[0;32mIn[22], line 2\u001b[0m\n\u001b[1;32m      1\u001b[0m retrieval_path \u001b[38;5;241m=\u001b[39m extract_features\u001b[38;5;241m.\u001b[39mmain(retrieval_conf, images, outputs)\n\u001b[0;32m----> 2\u001b[0m \u001b[43mpairs_from_retrieval\u001b[49m\u001b[38;5;241;43m.\u001b[39;49m\u001b[43mmain\u001b[49m\u001b[43m(\u001b[49m\u001b[43mretrieval_path\u001b[49m\u001b[43m,\u001b[49m\u001b[43m \u001b[49m\u001b[43msfm_pairs\u001b[49m\u001b[43m,\u001b[49m\u001b[43m \u001b[49m\u001b[43mnum_matched\u001b[49m\u001b[38;5;241;43m=\u001b[39;49m\u001b[38;5;241;43m5\u001b[39;49m\u001b[43m)\u001b[49m\n",
      "File \u001b[0;32m/tf/Hierarchical-Localization/hloc/pairs_from_retrieval.py:107\u001b[0m, in \u001b[0;36mmain\u001b[0;34m(descriptors, output, num_matched, query_prefix, query_list, db_prefix, db_list, db_model, db_descriptors)\u001b[0m\n\u001b[1;32m    104\u001b[0m query_names \u001b[38;5;241m=\u001b[39m parse_names(query_prefix, query_list, query_names_h5)\n\u001b[1;32m    106\u001b[0m device \u001b[38;5;241m=\u001b[39m \u001b[38;5;124m\"\u001b[39m\u001b[38;5;124mcuda\u001b[39m\u001b[38;5;124m\"\u001b[39m \u001b[38;5;28;01mif\u001b[39;00m torch\u001b[38;5;241m.\u001b[39mcuda\u001b[38;5;241m.\u001b[39mis_available() \u001b[38;5;28;01melse\u001b[39;00m \u001b[38;5;124m\"\u001b[39m\u001b[38;5;124mcpu\u001b[39m\u001b[38;5;124m\"\u001b[39m\n\u001b[0;32m--> 107\u001b[0m db_desc \u001b[38;5;241m=\u001b[39m \u001b[43mget_descriptors\u001b[49m\u001b[43m(\u001b[49m\u001b[43mdb_names\u001b[49m\u001b[43m,\u001b[49m\u001b[43m \u001b[49m\u001b[43mdb_descriptors\u001b[49m\u001b[43m,\u001b[49m\u001b[43m \u001b[49m\u001b[43mname2db\u001b[49m\u001b[43m)\u001b[49m\n\u001b[1;32m    108\u001b[0m query_desc \u001b[38;5;241m=\u001b[39m get_descriptors(query_names, descriptors)\n\u001b[1;32m    109\u001b[0m sim \u001b[38;5;241m=\u001b[39m torch\u001b[38;5;241m.\u001b[39meinsum(\u001b[38;5;124m\"\u001b[39m\u001b[38;5;124mid,jd->ij\u001b[39m\u001b[38;5;124m\"\u001b[39m, query_desc\u001b[38;5;241m.\u001b[39mto(device), db_desc\u001b[38;5;241m.\u001b[39mto(device))\n",
      "File \u001b[0;32m/tf/Hierarchical-Localization/hloc/pairs_from_retrieval.py:46\u001b[0m, in \u001b[0;36mget_descriptors\u001b[0;34m(names, path, name2idx, key)\u001b[0m\n\u001b[1;32m     44\u001b[0m     \u001b[38;5;28;01mfor\u001b[39;00m n \u001b[38;5;129;01min\u001b[39;00m names:\n\u001b[1;32m     45\u001b[0m         \u001b[38;5;28;01mwith\u001b[39;00m h5py\u001b[38;5;241m.\u001b[39mFile(\u001b[38;5;28mstr\u001b[39m(path[name2idx[n]]), \u001b[38;5;124m\"\u001b[39m\u001b[38;5;124mr\u001b[39m\u001b[38;5;124m\"\u001b[39m, libver\u001b[38;5;241m=\u001b[39m\u001b[38;5;124m\"\u001b[39m\u001b[38;5;124mlatest\u001b[39m\u001b[38;5;124m\"\u001b[39m) \u001b[38;5;28;01mas\u001b[39;00m fd:\n\u001b[0;32m---> 46\u001b[0m             desc\u001b[38;5;241m.\u001b[39mappend(\u001b[43mfd\u001b[49m\u001b[43m[\u001b[49m\u001b[43mn\u001b[49m\u001b[43m]\u001b[49m\u001b[43m[\u001b[49m\u001b[43mkey\u001b[49m\u001b[43m]\u001b[49m\u001b[38;5;241m.\u001b[39m__array__())\n\u001b[1;32m     47\u001b[0m \u001b[38;5;28;01mreturn\u001b[39;00m torch\u001b[38;5;241m.\u001b[39mfrom_numpy(np\u001b[38;5;241m.\u001b[39mstack(desc, \u001b[38;5;241m0\u001b[39m))\u001b[38;5;241m.\u001b[39mfloat()\n",
      "File \u001b[0;32mh5py/_objects.pyx:54\u001b[0m, in \u001b[0;36mh5py._objects.with_phil.wrapper\u001b[0;34m()\u001b[0m\n",
      "File \u001b[0;32mh5py/_objects.pyx:55\u001b[0m, in \u001b[0;36mh5py._objects.with_phil.wrapper\u001b[0;34m()\u001b[0m\n",
      "File \u001b[0;32m/usr/local/lib/python3.11/dist-packages/h5py/_hl/group.py:357\u001b[0m, in \u001b[0;36mGroup.__getitem__\u001b[0;34m(self, name)\u001b[0m\n\u001b[1;32m    355\u001b[0m         \u001b[38;5;28;01mraise\u001b[39;00m \u001b[38;5;167;01mValueError\u001b[39;00m(\u001b[38;5;124m\"\u001b[39m\u001b[38;5;124mInvalid HDF5 object reference\u001b[39m\u001b[38;5;124m\"\u001b[39m)\n\u001b[1;32m    356\u001b[0m \u001b[38;5;28;01melif\u001b[39;00m \u001b[38;5;28misinstance\u001b[39m(name, (\u001b[38;5;28mbytes\u001b[39m, \u001b[38;5;28mstr\u001b[39m)):\n\u001b[0;32m--> 357\u001b[0m     oid \u001b[38;5;241m=\u001b[39m \u001b[43mh5o\u001b[49m\u001b[38;5;241;43m.\u001b[39;49m\u001b[43mopen\u001b[49m\u001b[43m(\u001b[49m\u001b[38;5;28;43mself\u001b[39;49m\u001b[38;5;241;43m.\u001b[39;49m\u001b[43mid\u001b[49m\u001b[43m,\u001b[49m\u001b[43m \u001b[49m\u001b[38;5;28;43mself\u001b[39;49m\u001b[38;5;241;43m.\u001b[39;49m\u001b[43m_e\u001b[49m\u001b[43m(\u001b[49m\u001b[43mname\u001b[49m\u001b[43m)\u001b[49m\u001b[43m,\u001b[49m\u001b[43m \u001b[49m\u001b[43mlapl\u001b[49m\u001b[38;5;241;43m=\u001b[39;49m\u001b[38;5;28;43mself\u001b[39;49m\u001b[38;5;241;43m.\u001b[39;49m\u001b[43m_lapl\u001b[49m\u001b[43m)\u001b[49m\n\u001b[1;32m    358\u001b[0m \u001b[38;5;28;01melse\u001b[39;00m:\n\u001b[1;32m    359\u001b[0m     \u001b[38;5;28;01mraise\u001b[39;00m \u001b[38;5;167;01mTypeError\u001b[39;00m(\u001b[38;5;124m\"\u001b[39m\u001b[38;5;124mAccessing a group is done with bytes or str, \u001b[39m\u001b[38;5;124m\"\u001b[39m\n\u001b[1;32m    360\u001b[0m                     \u001b[38;5;124m\"\u001b[39m\u001b[38;5;124mnot \u001b[39m\u001b[38;5;132;01m{}\u001b[39;00m\u001b[38;5;124m\"\u001b[39m\u001b[38;5;241m.\u001b[39mformat(\u001b[38;5;28mtype\u001b[39m(name)))\n",
      "File \u001b[0;32mh5py/_objects.pyx:54\u001b[0m, in \u001b[0;36mh5py._objects.with_phil.wrapper\u001b[0;34m()\u001b[0m\n",
      "File \u001b[0;32mh5py/_objects.pyx:55\u001b[0m, in \u001b[0;36mh5py._objects.with_phil.wrapper\u001b[0;34m()\u001b[0m\n",
      "File \u001b[0;32mh5py/h5o.pyx:189\u001b[0m, in \u001b[0;36mh5py.h5o.open\u001b[0;34m()\u001b[0m\n",
      "\u001b[0;31mKeyError\u001b[0m: \"Unable to synchronously open object (object 'global_descriptor' doesn't exist)\""
     ]
    }
   ],
   "source": [
    "retrieval_path = extract_features.main(retrieval_conf, images, outputs)\n",
    "pairs_from_retrieval.main(retrieval_path, sfm_pairs, num_matched=5)"
   ]
  },
  {
   "cell_type": "code",
   "execution_count": 5,
   "id": "9b7bdca3",
   "metadata": {},
   "outputs": [
    {
     "name": "stderr",
     "output_type": "stream",
     "text": [
      "[2024/03/14 19:13:07 hloc INFO] Extracting local features with configuration:\n",
      "{'model': {'max_keypoints': 4096, 'name': 'superpoint', 'nms_radius': 3},\n",
      " 'output': 'feats-superpoint-n4096-r1024',\n",
      " 'preprocessing': {'grayscale': True, 'resize_max': 1024}}\n",
      "[2024/03/14 19:13:07 hloc INFO] Found 128 images in root datasets/South-Building/images.\n"
     ]
    },
    {
     "name": "stdout",
     "output_type": "stream",
     "text": [
      "Loaded SuperPoint model\n"
     ]
    },
    {
     "name": "stderr",
     "output_type": "stream",
     "text": [
      "100%|███████████████████████████████████████████████████████████████████████████████████████████████████████████████████████████████████████████████████████████████████████████████████████████████████████| 128/128 [00:31<00:00,  4.09it/s]\n",
      "[2024/03/14 19:13:38 hloc INFO] Finished exporting features.\n",
      "[2024/03/14 19:13:38 hloc INFO] Matching local features with configuration:\n",
      "{'model': {'name': 'superglue',\n",
      "           'sinkhorn_iterations': 50,\n",
      "           'weights': 'outdoor'},\n",
      " 'output': 'matches-superglue'}\n"
     ]
    },
    {
     "name": "stdout",
     "output_type": "stream",
     "text": [
      "Loaded SuperGlue model (\"outdoor\" weights)\n"
     ]
    },
    {
     "name": "stderr",
     "output_type": "stream",
     "text": [
      "100%|███████████████████████████████████████████████████████████████████████████████████████████████████████████████████████████████████████████████████████████████████████████████████████████████████████| 397/397 [12:45<00:00,  1.93s/it]\n",
      "[2024/03/14 19:26:24 hloc INFO] Finished exporting matches.\n"
     ]
    }
   ],
   "source": [
    "feature_path = extract_features.main(feature_conf, images, outputs)\n",
    "match_path = match_features.main(\n",
    "    matcher_conf, sfm_pairs, feature_conf[\"output\"], outputs\n",
    ")"
   ]
  },
  {
   "cell_type": "code",
   "execution_count": 10,
   "id": "88f33c53",
   "metadata": {},
   "outputs": [
    {
     "name": "stderr",
     "output_type": "stream",
     "text": [
      "[2024/03/14 20:31:59 hloc WARNING] The database already exists, deleting it.\n",
      "[2024/03/14 20:31:59 hloc INFO] Creating an empty database...\n",
      "[2024/03/14 20:31:59 hloc INFO] Importing images into the database...\n"
     ]
    },
    {
     "name": "stderr",
     "output_type": "stream",
     "text": [
      "[2024/03/14 20:32:07 hloc INFO] Importing features into the database...\n",
      "  0%|                                                                                                                                                                                                                 | 0/129 [00:00<?, ?it/s]\n"
     ]
    },
    {
     "ename": "KeyError",
     "evalue": "'Unable to synchronously open object (component not found)'",
     "output_type": "error",
     "traceback": [
      "\u001b[0;31m---------------------------------------------------------------------------\u001b[0m",
      "\u001b[0;31mKeyError\u001b[0m                                  Traceback (most recent call last)",
      "Cell \u001b[0;32mIn[10], line 1\u001b[0m\n\u001b[0;32m----> 1\u001b[0m model \u001b[38;5;241m=\u001b[39m \u001b[43mreconstruction\u001b[49m\u001b[38;5;241;43m.\u001b[39;49m\u001b[43mmain\u001b[49m\u001b[43m(\u001b[49m\u001b[43msfm_dir\u001b[49m\u001b[43m,\u001b[49m\u001b[43m \u001b[49m\u001b[43mimages\u001b[49m\u001b[43m,\u001b[49m\u001b[43m \u001b[49m\u001b[43msfm_pairs\u001b[49m\u001b[43m,\u001b[49m\u001b[43m \u001b[49m\u001b[43mfeature_path\u001b[49m\u001b[43m,\u001b[49m\u001b[43m \u001b[49m\u001b[43mmatch_path\u001b[49m\u001b[43m)\u001b[49m\n",
      "File \u001b[0;32m/tf/Hierarchical-Localization/hloc/reconstruction.py:130\u001b[0m, in \u001b[0;36mmain\u001b[0;34m(sfm_dir, image_dir, pairs, features, matches, camera_mode, verbose, skip_geometric_verification, min_match_score, image_list, image_options, mapper_options)\u001b[0m\n\u001b[1;32m    128\u001b[0m import_images(image_dir, database, camera_mode, image_list, image_options)\n\u001b[1;32m    129\u001b[0m image_ids \u001b[38;5;241m=\u001b[39m get_image_ids(database)\n\u001b[0;32m--> 130\u001b[0m \u001b[43mimport_features\u001b[49m\u001b[43m(\u001b[49m\u001b[43mimage_ids\u001b[49m\u001b[43m,\u001b[49m\u001b[43m \u001b[49m\u001b[43mdatabase\u001b[49m\u001b[43m,\u001b[49m\u001b[43m \u001b[49m\u001b[43mfeatures\u001b[49m\u001b[43m)\u001b[49m\n\u001b[1;32m    131\u001b[0m import_matches(\n\u001b[1;32m    132\u001b[0m     image_ids,\n\u001b[1;32m    133\u001b[0m     database,\n\u001b[0;32m   (...)\u001b[0m\n\u001b[1;32m    137\u001b[0m     skip_geometric_verification,\n\u001b[1;32m    138\u001b[0m )\n\u001b[1;32m    139\u001b[0m \u001b[38;5;28;01mif\u001b[39;00m \u001b[38;5;129;01mnot\u001b[39;00m skip_geometric_verification:\n",
      "File \u001b[0;32m/tf/Hierarchical-Localization/hloc/triangulation.py:71\u001b[0m, in \u001b[0;36mimport_features\u001b[0;34m(image_ids, database_path, features_path)\u001b[0m\n\u001b[1;32m     68\u001b[0m db \u001b[38;5;241m=\u001b[39m COLMAPDatabase\u001b[38;5;241m.\u001b[39mconnect(database_path)\n\u001b[1;32m     70\u001b[0m \u001b[38;5;28;01mfor\u001b[39;00m image_name, image_id \u001b[38;5;129;01min\u001b[39;00m tqdm(image_ids\u001b[38;5;241m.\u001b[39mitems()):\n\u001b[0;32m---> 71\u001b[0m     keypoints \u001b[38;5;241m=\u001b[39m \u001b[43mget_keypoints\u001b[49m\u001b[43m(\u001b[49m\u001b[43mfeatures_path\u001b[49m\u001b[43m,\u001b[49m\u001b[43m \u001b[49m\u001b[43mimage_name\u001b[49m\u001b[43m)\u001b[49m\n\u001b[1;32m     72\u001b[0m     keypoints \u001b[38;5;241m+\u001b[39m\u001b[38;5;241m=\u001b[39m \u001b[38;5;241m0.5\u001b[39m  \u001b[38;5;66;03m# COLMAP origin\u001b[39;00m\n\u001b[1;32m     73\u001b[0m     db\u001b[38;5;241m.\u001b[39madd_keypoints(image_id, keypoints)\n",
      "File \u001b[0;32m/tf/Hierarchical-Localization/hloc/utils/io.py:40\u001b[0m, in \u001b[0;36mget_keypoints\u001b[0;34m(path, name, return_uncertainty)\u001b[0m\n\u001b[1;32m     36\u001b[0m \u001b[38;5;28;01mdef\u001b[39;00m \u001b[38;5;21mget_keypoints\u001b[39m(\n\u001b[1;32m     37\u001b[0m     path: Path, name: \u001b[38;5;28mstr\u001b[39m, return_uncertainty: \u001b[38;5;28mbool\u001b[39m \u001b[38;5;241m=\u001b[39m \u001b[38;5;28;01mFalse\u001b[39;00m\n\u001b[1;32m     38\u001b[0m ) \u001b[38;5;241m-\u001b[39m\u001b[38;5;241m>\u001b[39m np\u001b[38;5;241m.\u001b[39mndarray:\n\u001b[1;32m     39\u001b[0m     \u001b[38;5;28;01mwith\u001b[39;00m h5py\u001b[38;5;241m.\u001b[39mFile(\u001b[38;5;28mstr\u001b[39m(path), \u001b[38;5;124m\"\u001b[39m\u001b[38;5;124mr\u001b[39m\u001b[38;5;124m\"\u001b[39m, libver\u001b[38;5;241m=\u001b[39m\u001b[38;5;124m\"\u001b[39m\u001b[38;5;124mlatest\u001b[39m\u001b[38;5;124m\"\u001b[39m) \u001b[38;5;28;01mas\u001b[39;00m hfile:\n\u001b[0;32m---> 40\u001b[0m         dset \u001b[38;5;241m=\u001b[39m \u001b[43mhfile\u001b[49m\u001b[43m[\u001b[49m\u001b[43mname\u001b[49m\u001b[43m]\u001b[49m[\u001b[38;5;124m\"\u001b[39m\u001b[38;5;124mkeypoints\u001b[39m\u001b[38;5;124m\"\u001b[39m]\n\u001b[1;32m     41\u001b[0m         p \u001b[38;5;241m=\u001b[39m dset\u001b[38;5;241m.\u001b[39m__array__()\n\u001b[1;32m     42\u001b[0m         uncertainty \u001b[38;5;241m=\u001b[39m dset\u001b[38;5;241m.\u001b[39mattrs\u001b[38;5;241m.\u001b[39mget(\u001b[38;5;124m\"\u001b[39m\u001b[38;5;124muncertainty\u001b[39m\u001b[38;5;124m\"\u001b[39m)\n",
      "File \u001b[0;32mh5py/_objects.pyx:54\u001b[0m, in \u001b[0;36mh5py._objects.with_phil.wrapper\u001b[0;34m()\u001b[0m\n",
      "File \u001b[0;32mh5py/_objects.pyx:55\u001b[0m, in \u001b[0;36mh5py._objects.with_phil.wrapper\u001b[0;34m()\u001b[0m\n",
      "File \u001b[0;32m/usr/local/lib/python3.11/dist-packages/h5py/_hl/group.py:357\u001b[0m, in \u001b[0;36mGroup.__getitem__\u001b[0;34m(self, name)\u001b[0m\n\u001b[1;32m    355\u001b[0m         \u001b[38;5;28;01mraise\u001b[39;00m \u001b[38;5;167;01mValueError\u001b[39;00m(\u001b[38;5;124m\"\u001b[39m\u001b[38;5;124mInvalid HDF5 object reference\u001b[39m\u001b[38;5;124m\"\u001b[39m)\n\u001b[1;32m    356\u001b[0m \u001b[38;5;28;01melif\u001b[39;00m \u001b[38;5;28misinstance\u001b[39m(name, (\u001b[38;5;28mbytes\u001b[39m, \u001b[38;5;28mstr\u001b[39m)):\n\u001b[0;32m--> 357\u001b[0m     oid \u001b[38;5;241m=\u001b[39m \u001b[43mh5o\u001b[49m\u001b[38;5;241;43m.\u001b[39;49m\u001b[43mopen\u001b[49m\u001b[43m(\u001b[49m\u001b[38;5;28;43mself\u001b[39;49m\u001b[38;5;241;43m.\u001b[39;49m\u001b[43mid\u001b[49m\u001b[43m,\u001b[49m\u001b[43m \u001b[49m\u001b[38;5;28;43mself\u001b[39;49m\u001b[38;5;241;43m.\u001b[39;49m\u001b[43m_e\u001b[49m\u001b[43m(\u001b[49m\u001b[43mname\u001b[49m\u001b[43m)\u001b[49m\u001b[43m,\u001b[49m\u001b[43m \u001b[49m\u001b[43mlapl\u001b[49m\u001b[38;5;241;43m=\u001b[39;49m\u001b[38;5;28;43mself\u001b[39;49m\u001b[38;5;241;43m.\u001b[39;49m\u001b[43m_lapl\u001b[49m\u001b[43m)\u001b[49m\n\u001b[1;32m    358\u001b[0m \u001b[38;5;28;01melse\u001b[39;00m:\n\u001b[1;32m    359\u001b[0m     \u001b[38;5;28;01mraise\u001b[39;00m \u001b[38;5;167;01mTypeError\u001b[39;00m(\u001b[38;5;124m\"\u001b[39m\u001b[38;5;124mAccessing a group is done with bytes or str, \u001b[39m\u001b[38;5;124m\"\u001b[39m\n\u001b[1;32m    360\u001b[0m                     \u001b[38;5;124m\"\u001b[39m\u001b[38;5;124mnot \u001b[39m\u001b[38;5;132;01m{}\u001b[39;00m\u001b[38;5;124m\"\u001b[39m\u001b[38;5;241m.\u001b[39mformat(\u001b[38;5;28mtype\u001b[39m(name)))\n",
      "File \u001b[0;32mh5py/_objects.pyx:54\u001b[0m, in \u001b[0;36mh5py._objects.with_phil.wrapper\u001b[0;34m()\u001b[0m\n",
      "File \u001b[0;32mh5py/_objects.pyx:55\u001b[0m, in \u001b[0;36mh5py._objects.with_phil.wrapper\u001b[0;34m()\u001b[0m\n",
      "File \u001b[0;32mh5py/h5o.pyx:189\u001b[0m, in \u001b[0;36mh5py.h5o.open\u001b[0;34m()\u001b[0m\n",
      "\u001b[0;31mKeyError\u001b[0m: 'Unable to synchronously open object (component not found)'"
     ]
    }
   ],
   "source": [
    "model = reconstruction.main(sfm_dir, images, sfm_pairs, feature_path, match_path)"
   ]
  },
  {
   "cell_type": "code",
   "execution_count": 8,
   "id": "02604795",
   "metadata": {},
   "outputs": [
    {
     "ename": "NameError",
     "evalue": "name 'model' is not defined",
     "output_type": "error",
     "traceback": [
      "\u001b[0;31m---------------------------------------------------------------------------\u001b[0m",
      "\u001b[0;31mNameError\u001b[0m                                 Traceback (most recent call last)",
      "Cell \u001b[0;32mIn[8], line 1\u001b[0m\n\u001b[0;32m----> 1\u001b[0m visualization\u001b[38;5;241m.\u001b[39mvisualize_sfm_2d(\u001b[43mmodel\u001b[49m, images, color_by\u001b[38;5;241m=\u001b[39m\u001b[38;5;124m\"\u001b[39m\u001b[38;5;124mvisibility\u001b[39m\u001b[38;5;124m\"\u001b[39m, n\u001b[38;5;241m=\u001b[39m\u001b[38;5;241m5\u001b[39m)\n",
      "\u001b[0;31mNameError\u001b[0m: name 'model' is not defined"
     ]
    }
   ],
   "source": [
    "visualization.visualize_sfm_2d(model, images, color_by=\"visibility\", n=5)"
   ]
  },
  {
   "cell_type": "code",
   "execution_count": null,
   "id": "9cf8be1e",
   "metadata": {},
   "outputs": [],
   "source": [
    "visualization.visualize_sfm_2d(model, images, color_by=\"track_length\", n=5)"
   ]
  },
  {
   "cell_type": "code",
   "execution_count": null,
   "id": "9f4fdac8",
   "metadata": {},
   "outputs": [],
   "source": [
    "visualization.visualize_sfm_2d(model, images, color_by=\"depth\", n=5)"
   ]
  },
  {
   "cell_type": "code",
   "execution_count": 9,
   "id": "43980349",
   "metadata": {},
   "outputs": [
    {
     "name": "stdout",
     "output_type": "stream",
     "text": [
      "Help on module hloc.visualization in hloc:\n",
      "\n",
      "NAME\n",
      "    hloc.visualization\n",
      "\n",
      "FUNCTIONS\n",
      "    visualize_loc(results, image_dir, reconstruction=None, db_image_dir=None, selected=[], n=1, seed=0, prefix=None, **kwargs)\n",
      "    \n",
      "    visualize_loc_from_log(image_dir, query_name, loc, reconstruction=None, db_image_dir=None, top_k_db=2, dpi=75)\n",
      "    \n",
      "    visualize_sfm_2d(reconstruction, image_dir, color_by='visibility', selected=[], n=1, seed=0, dpi=75)\n",
      "\n",
      "FILE\n",
      "    /tf/Hierarchical-Localization/hloc/visualization.py\n",
      "\n",
      "\n"
     ]
    }
   ],
   "source": [
    "help(visualization)"
   ]
  },
  {
   "cell_type": "code",
   "execution_count": null,
   "id": "9dd728ea",
   "metadata": {},
   "outputs": [],
   "source": []
  }
 ],
 "metadata": {
  "kernelspec": {
   "display_name": "Python 3 (ipykernel)",
   "language": "python",
   "name": "python3"
  },
  "language_info": {
   "codemirror_mode": {
    "name": "ipython",
    "version": 3
   },
   "file_extension": ".py",
   "mimetype": "text/x-python",
   "name": "python",
   "nbconvert_exporter": "python",
   "pygments_lexer": "ipython3",
   "version": "3.11.0rc1"
  }
 },
 "nbformat": 4,
 "nbformat_minor": 5
}
