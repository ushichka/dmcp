{
 "cells": [
  {
   "cell_type": "code",
   "execution_count": 1,
   "id": "dd85d876-1133-472a-85f3-4b78798870cc",
   "metadata": {},
   "outputs": [],
   "source": [
    "import pycolmap"
   ]
  },
  {
   "cell_type": "code",
   "execution_count": 4,
   "id": "774c5bfa-2197-4ea9-9fa5-64d8432db5e1",
   "metadata": {},
   "outputs": [
    {
     "name": "stdout",
     "output_type": "stream",
     "text": [
      "\u001b[1mUsage: hatch [OPTIONS] COMMAND [ARGS]...\n",
      "\n",
      "   _   _       _       _\n",
      "  | | | |     | |     | |\n",
      "  | |_| | __ _| |_ ___| |__\n",
      "  |  _  |/ _` | __/ __| '_ \\\n",
      "  | | | | (_| | || (__| | | |\n",
      "  \\_| |_/\\__,_|\\__\\___|_| |_|\n",
      "\n",
      "Options:\n",
      "  -e, --env TEXT                  The name of the environment to use [env var:\n",
      "                                  `HATCH_ENV`]\n",
      "  -p, --project TEXT              The name of the project to work on [env var:\n",
      "                                  `HATCH_PROJECT`]\n",
      "  -v, --verbose                   Increase verbosity (can be used additively)\n",
      "                                  [env var: `HATCH_VERBOSE`]\n",
      "  -q, --quiet                     Decrease verbosity (can be used additively)\n",
      "                                  [env var: `HATCH_QUIET`]\n",
      "  --color / --no-color            Whether or not to display colored output\n",
      "                                  (default is auto-detection) [env vars:\n",
      "                                  `FORCE_COLOR`/`NO_COLOR`]\n",
      "  --interactive / --no-interactive\n",
      "                                  Whether or not to allow features like\n",
      "                                  prompts and progress bars (default is auto-\n",
      "                                  detection) [env var: `HATCH_INTERACTIVE`]\n",
      "  --data-dir TEXT                 The path to a custom directory used to\n",
      "                                  persist data [env var: `HATCH_DATA_DIR`]\n",
      "  --cache-dir TEXT                The path to a custom directory used to cache\n",
      "                                  data [env var: `HATCH_CACHE_DIR`]\n",
      "  --config TEXT                   The path to a custom config file to use [env\n",
      "                                  var: `HATCH_CONFIG`]\n",
      "  --version                       Show the version and exit.\n",
      "  -h, --help                      Show this message and exit.\n",
      "\n",
      "Commands:\n",
      "  build    Build a project\n",
      "  clean    Remove build artifacts\n",
      "  config   Manage the config file\n",
      "  dep      Manage environment dependencies\n",
      "  env      Manage project environments\n",
      "  fmt      Lint and format source code\n",
      "  new      Create or initialize a project\n",
      "  project  View project information\n",
      "  publish  Publish build artifacts\n",
      "  python   Manage Python installations\n",
      "  run      Run commands within project environments\n",
      "  shell    Enter a shell within a project's environment\n",
      "  status   Show information about the current environment\n",
      "  version  View or set a project's version\u001b[0m\u001b[1m\n",
      "\u001b[0m"
     ]
    }
   ],
   "source": [
    "pycolmap."
   ]
  },
  {
   "cell_type": "code",
   "execution_count": null,
   "id": "e0242f25-18d1-4806-8f48-bd65dc55d4b2",
   "metadata": {},
   "outputs": [],
   "source": []
  }
 ],
 "metadata": {
  "kernelspec": {
   "display_name": "Python 3 (ipykernel)",
   "language": "python",
   "name": "python3"
  },
  "language_info": {
   "codemirror_mode": {
    "name": "ipython",
    "version": 3
   },
   "file_extension": ".py",
   "mimetype": "text/x-python",
   "name": "python",
   "nbconvert_exporter": "python",
   "pygments_lexer": "ipython3",
   "version": "3.10.12"
  }
 },
 "nbformat": 4,
 "nbformat_minor": 5
}
