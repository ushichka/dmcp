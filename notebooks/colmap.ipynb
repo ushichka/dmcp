{
 "cells": [
  {
   "cell_type": "code",
   "execution_count": 2,
   "id": "dd85d876-1133-472a-85f3-4b78798870cc",
   "metadata": {},
   "outputs": [],
   "source": [
    "import pycolmap\n"
   ]
  },
  {
   "cell_type": "code",
   "execution_count": 3,
   "id": "276cf353",
   "metadata": {},
   "outputs": [],
   "source": [
    "from pathlib import Path"
   ]
  },
  {
   "cell_type": "code",
   "execution_count": 4,
   "id": "44a1943e",
   "metadata": {},
   "outputs": [
    {
     "name": "stdout",
     "output_type": "stream",
     "text": [
      "Thu Mar 14 18:48:58 2024       \n",
      "+---------------------------------------------------------------------------------------+\n",
      "| NVIDIA-SMI 545.29.06              Driver Version: 545.29.06    CUDA Version: 12.3     |\n",
      "|-----------------------------------------+----------------------+----------------------+\n",
      "| GPU  Name                 Persistence-M | Bus-Id        Disp.A | Volatile Uncorr. ECC |\n",
      "| Fan  Temp   Perf          Pwr:Usage/Cap |         Memory-Usage | GPU-Util  Compute M. |\n",
      "|                                         |                      |               MIG M. |\n",
      "|=========================================+======================+======================|\n",
      "|   0  NVIDIA GeForce MX150           Off | 00000000:01:00.0 Off |                  N/A |\n",
      "| N/A   47C    P8              N/A /   9W |      1MiB /  2048MiB |      0%      Default |\n",
      "|                                         |                      |                  N/A |\n",
      "+-----------------------------------------+----------------------+----------------------+\n",
      "                                                                                         \n",
      "+---------------------------------------------------------------------------------------+\n",
      "| Processes:                                                                            |\n",
      "|  GPU   GI   CI        PID   Type   Process name                            GPU Memory |\n",
      "|        ID   ID                                                             Usage      |\n",
      "|=======================================================================================|\n",
      "+---------------------------------------------------------------------------------------+\n"
     ]
    }
   ],
   "source": [
    "!nvidia-smi"
   ]
  },
  {
   "cell_type": "markdown",
   "id": "11a7abbe",
   "metadata": {},
   "source": [
    "Prepare Paths"
   ]
  },
  {
   "cell_type": "code",
   "execution_count": 5,
   "id": "774c5bfa-2197-4ea9-9fa5-64d8432db5e1",
   "metadata": {},
   "outputs": [],
   "source": [
    "data_path = Path(\"../data/images\")\n",
    "colmap_path = Path(\"../data/colmap\")\n",
    "\n",
    "data_path.mkdir(parents=True, exist_ok=True)\n",
    "\n",
    "# colmap directory should be empty\n",
    "# colmap_path.mkdir(parents=True, exist_ok=True)\n",
    "# import shutil\n",
    "# shutil.rmtree(str(colmap_path))\n",
    "# colmap_path.mkdir()"
   ]
  },
  {
   "cell_type": "code",
   "execution_count": 6,
   "id": "e0242f25-18d1-4806-8f48-bd65dc55d4b2",
   "metadata": {},
   "outputs": [],
   "source": [
    "output_path=  colmap_path\n",
    "image_dir =  data_path\n",
    "\n",
    "mvs_path = output_path / \"mvs\"\n",
    "database_path = output_path / \"database.db\"\n"
   ]
  },
  {
   "cell_type": "markdown",
   "id": "6b598ede",
   "metadata": {},
   "source": [
    "# match and extract features"
   ]
  },
  {
   "cell_type": "code",
   "execution_count": 6,
   "id": "dfe782da",
   "metadata": {},
   "outputs": [
    {
     "name": "stderr",
     "output_type": "stream",
     "text": [
      "W20240314 18:13:23.014787   383 feature_extraction.cc:403] Your current options use the maximum number of threads on the machine to extract features. Extracting SIFT features on the CPU can consume a lot of RAM per thread for large images. Consider reducing the maximum image size and/or the first octave or manually limit the number of extraction threads. Ignore this warning, if your machine has sufficient memory for the current settings.\n",
      "I20240314 18:13:23.015396   407 misc.cc:198] \n",
      "==============================================================================\n",
      "Feature extraction\n",
      "==============================================================================\n",
      "I20240314 18:13:23.435521   424 feature_extraction.cc:254] Processed file [1/3]\n",
      "I20240314 18:13:23.435585   424 feature_extraction.cc:257]   Name:            la-statua.jpg\n",
      "I20240314 18:13:23.435599   424 feature_extraction.cc:283]   Dimensions:      550 x 367\n",
      "I20240314 18:13:23.435612   424 feature_extraction.cc:286]   Camera:          #3 - SIMPLE_RADIAL\n",
      "I20240314 18:13:23.435626   424 feature_extraction.cc:289]   Focal Length:    660.00px\n",
      "I20240314 18:13:23.435643   424 feature_extraction.cc:302]   Features:        411\n",
      "I20240314 18:13:23.639380   424 feature_extraction.cc:254] Processed file [2/3]\n",
      "I20240314 18:13:23.639429   424 feature_extraction.cc:257]   Name:            Imperia-Konstanz-full-web-500.jpg\n",
      "I20240314 18:13:23.639438   424 feature_extraction.cc:283]   Dimensions:      501 x 666\n",
      "I20240314 18:13:23.639444   424 feature_extraction.cc:286]   Camera:          #1 - SIMPLE_RADIAL\n",
      "I20240314 18:13:23.639452   424 feature_extraction.cc:289]   Focal Length:    799.20px\n",
      "I20240314 18:13:23.639464   424 feature_extraction.cc:302]   Features:        838\n",
      "I20240314 18:13:25.812196   424 feature_extraction.cc:254] Processed file [3/3]\n",
      "I20240314 18:13:25.812264   424 feature_extraction.cc:257]   Name:            konstanzer-imperia-617cad43-67a9-4357-9509-148fa97e9001.jpg\n",
      "I20240314 18:13:25.812274   424 feature_extraction.cc:283]   Dimensions:      1691 x 1080\n",
      "I20240314 18:13:25.812280   424 feature_extraction.cc:286]   Camera:          #2 - SIMPLE_RADIAL\n",
      "I20240314 18:13:25.812289   424 feature_extraction.cc:289]   Focal Length:    5965.47px (Prior)\n",
      "I20240314 18:13:25.812304   424 feature_extraction.cc:302]   Features:        3462\n",
      "I20240314 18:13:25.851518   407 timer.cc:91] Elapsed time: 0.047 [minutes]\n",
      "I20240314 18:13:25.854357   426 misc.cc:198] \n",
      "==============================================================================\n",
      "Exhaustive feature matching\n",
      "==============================================================================\n",
      "I20240314 18:13:25.854909   426 feature_matching.cc:231] Matching block [1/1, 1/1]\n",
      "I20240314 18:13:26.086892   426 feature_matching.cc:46]  in 0.232s\n",
      "I20240314 18:13:26.087028   426 timer.cc:91] Elapsed time: 0.004 [minutes]\n"
     ]
    }
   ],
   "source": [
    "pycolmap.extract_features(database_path, image_dir)\n",
    "pycolmap.match_exhaustive(database_path)"
   ]
  },
  {
   "cell_type": "code",
   "execution_count": null,
   "id": "f06571b7-0bc9-4899-8ef8-e6628e2b792a",
   "metadata": {},
   "outputs": [],
   "source": []
  },
  {
   "cell_type": "code",
   "execution_count": 7,
   "id": "7a172900",
   "metadata": {},
   "outputs": [
    {
     "name": "stdout",
     "output_type": "stream",
     "text": [
      "iter      cost      cost_change  |gradient|   |step|    tr_ratio  tr_radius  ls_iter  iter_time  total_time\n",
      "   0  1.739102e+01    0.00e+00    7.70e+02   0.00e+00   0.00e+00  1.00e+04        0    1.15e-03    2.92e-03\n",
      "   1  1.151829e+01    5.87e+00    1.94e+02   4.37e+00   9.61e-01  3.00e+04        1    5.96e-04    3.55e-03\n",
      "   2  1.124356e+01    2.75e-01    2.06e+02   1.70e+00   1.00e+00  9.00e+04        1    3.81e-04    3.95e-03\n",
      "   3  1.122581e+01    1.78e-02    9.05e+02   2.75e+00   5.52e-01  9.01e+04        1    5.25e-04    4.48e-03\n",
      "   4  1.118593e+01    3.99e-02    5.52e+02   2.14e+00   9.71e-01  2.70e+05        1    5.41e-04    5.03e-03\n",
      "   5  1.121748e+01   -3.15e-02    5.52e+02   4.53e+00  -9.76e-01  1.35e+05        1    1.42e-04    5.19e-03\n",
      "   6  1.116569e+01    2.02e-02    7.45e+02   2.72e+00   7.27e-01  1.49e+05        1    4.73e-04    5.67e-03\n",
      "   7  1.113809e+01    2.76e-02    4.97e+02   2.62e+00   9.72e-01  4.47e+05        1    3.62e-04    6.04e-03\n",
      "   8  1.113645e+01    1.64e-03    1.01e+03   4.55e+00   8.06e-02  2.81e+05        1    5.26e-04    6.57e-03\n",
      "   9  1.110036e+01    3.61e-02    1.51e+02   4.85e+00   1.10e+00  8.44e+05        1    4.63e-04    7.04e-03\n",
      "  10  1.109787e+01    2.48e-03    7.98e+01   1.37e+01   3.18e-01  8.05e+05        1    5.24e-04    7.58e-03\n",
      "  11  1.109695e+01    9.22e-04    3.76e+02   1.62e+01   6.50e-02  4.85e+05        1    3.62e-04    7.95e-03\n",
      "  12  1.107967e+01    1.73e-02    2.56e+02   1.22e+01   8.83e-01  8.79e+05        1    3.46e-04    8.30e-03\n",
      "  13  1.110008e+01   -2.04e-02    2.56e+02   2.14e+01  -2.49e+00  4.39e+05        1    2.24e-04    8.54e-03\n",
      "  14  1.107490e+01    4.77e-03    2.20e+02   1.15e+01   7.15e-01  4.77e+05        1    3.68e-04    8.91e-03\n",
      "  15  1.107198e+01    2.92e-03    2.15e+02   1.29e+01   5.17e-01  4.77e+05        1    4.48e-04    9.37e-03\n",
      "  16  1.106859e+01    3.39e-03    1.77e+02   1.29e+01   5.58e-01  4.78e+05        1    4.50e-04    9.83e-03\n",
      "  17  1.106535e+01    3.24e-03    1.41e+02   1.31e+01   5.58e-01  4.79e+05        1    3.58e-04    1.02e-02\n",
      "  18  1.106238e+01    2.97e-03    1.09e+02   1.30e+01   5.35e-01  4.79e+05        1    4.41e-04    1.06e-02\n",
      "  19  1.105946e+01    2.92e-03    8.18e+01   1.29e+01   5.31e-01  4.79e+05        1    5.22e-04    1.12e-02\n",
      "  20  1.105667e+01    2.79e-03    5.93e+01   1.28e+01   5.11e-01  4.79e+05        1    4.85e-04    1.17e-02\n",
      "  21  1.105390e+01    2.77e-03    4.07e+01   1.27e+01   5.01e-01  4.79e+05        1    5.23e-04    1.22e-02\n",
      "  22  1.105118e+01    2.72e-03    3.42e+01   1.25e+01   4.84e-01  4.79e+05        1    4.37e-04    1.26e-02\n",
      "  23  1.104848e+01    2.71e-03    3.51e+01   1.23e+01   4.72e-01  4.79e+05        1    5.24e-04    1.32e-02\n",
      "  24  1.104580e+01    2.68e-03    3.59e+01   1.22e+01   4.57e-01  4.79e+05        1    4.95e-04    1.37e-02\n",
      "  25  1.104312e+01    2.67e-03    3.68e+01   1.20e+01   4.45e-01  4.78e+05        1    6.23e-04    1.43e-02\n",
      "  26  1.104047e+01    2.66e-03    3.77e+01   1.18e+01   4.33e-01  4.77e+05        1    5.37e-04    1.49e-02\n",
      "  27  1.103781e+01    2.65e-03    3.86e+01   1.16e+01   4.24e-01  4.75e+05        1    3.59e-04    1.52e-02\n",
      "  28  1.103517e+01    2.64e-03    3.93e+01   1.13e+01   4.15e-01  4.73e+05        1    4.78e-04    1.57e-02\n",
      "  29  1.103253e+01    2.64e-03    4.00e+01   1.11e+01   4.09e-01  4.70e+05        1    5.18e-04    1.62e-02\n",
      "  30  1.102991e+01    2.62e-03    4.20e+01   1.09e+01   4.03e-01  4.67e+05        1    4.57e-04    1.67e-02\n",
      "  31  1.102730e+01    2.61e-03    4.66e+01   1.06e+01   3.98e-01  4.63e+05        1    3.98e-04    1.71e-02\n",
      "  32  1.102472e+01    2.58e-03    5.05e+01   1.03e+01   3.94e-01  4.58e+05        1    4.12e-04    1.75e-02\n",
      "  33  1.102216e+01    2.56e-03    5.38e+01   1.01e+01   3.91e-01  4.54e+05        1    5.07e-04    1.81e-02\n",
      "  34  1.101964e+01    2.52e-03    5.66e+01   9.79e+00   3.88e-01  4.49e+05        1    5.49e-04    1.86e-02\n",
      "  35  1.101715e+01    2.49e-03    5.89e+01   9.52e+00   3.86e-01  4.43e+05        1    5.69e-04    1.92e-02\n",
      "  36  1.101470e+01    2.45e-03    6.07e+01   9.25e+00   3.84e-01  4.38e+05        1    4.98e-04    1.97e-02\n",
      "  37  1.101229e+01    2.41e-03    6.21e+01   8.99e+00   3.83e-01  4.32e+05        1    4.89e-04    2.02e-02\n",
      "  38  1.100993e+01    2.36e-03    6.31e+01   8.73e+00   3.81e-01  4.27e+05        1    4.66e-04    2.07e-02\n",
      "  39  1.100761e+01    2.32e-03    6.38e+01   8.47e+00   3.80e-01  4.21e+05        1    5.30e-04    2.12e-02\n",
      "  40  1.100533e+01    2.27e-03    6.42e+01   8.23e+00   3.79e-01  4.15e+05        1    4.87e-04    2.17e-02\n",
      "  41  1.100311e+01    2.22e-03    6.43e+01   7.98e+00   3.78e-01  4.09e+05        1    3.24e-04    2.21e-02\n",
      "  42  1.100093e+01    2.18e-03    6.42e+01   7.75e+00   3.78e-01  4.03e+05        1    2.97e-04    2.24e-02\n",
      "  43  1.099880e+01    2.13e-03    6.39e+01   7.52e+00   3.77e-01  3.97e+05        1    3.08e-04    2.27e-02\n",
      "  44  1.099672e+01    2.08e-03    6.34e+01   7.30e+00   3.76e-01  3.91e+05        1    2.97e-04    2.30e-02\n",
      "  45  1.099469e+01    2.03e-03    6.28e+01   7.08e+00   3.75e-01  3.86e+05        1    2.97e-04    2.33e-02\n",
      "  46  1.099270e+01    1.99e-03    6.21e+01   6.87e+00   3.75e-01  3.80e+05        1    3.05e-04    2.36e-02\n",
      "  47  1.099076e+01    1.94e-03    6.12e+01   6.67e+00   3.74e-01  3.74e+05        1    2.97e-04    2.39e-02\n",
      "  48  1.098886e+01    1.90e-03    6.03e+01   6.48e+00   3.73e-01  3.67e+05        1    2.98e-04    2.42e-02\n",
      "  49  1.098700e+01    1.86e-03    5.93e+01   6.29e+00   3.72e-01  3.61e+05        1    2.97e-04    2.45e-02\n",
      "  50  1.098519e+01    1.81e-03    5.81e+01   6.10e+00   3.71e-01  3.55e+05        1    3.06e-04    2.48e-02\n",
      "  51  1.098341e+01    1.77e-03    5.69e+01   5.93e+00   3.70e-01  3.49e+05        1    2.97e-04    2.51e-02\n",
      "  52  1.098168e+01    1.73e-03    5.57e+01   5.76e+00   3.70e-01  3.43e+05        1    2.97e-04    2.54e-02\n",
      "  53  1.097998e+01    1.70e-03    5.44e+01   5.59e+00   3.69e-01  3.37e+05        1    3.04e-04    2.57e-02\n",
      "  54  1.097832e+01    1.66e-03    5.31e+01   5.43e+00   3.68e-01  3.31e+05        1    2.99e-04    2.60e-02\n",
      "  55  1.097669e+01    1.63e-03    5.17e+01   5.28e+00   3.67e-01  3.25e+05        1    2.97e-04    2.63e-02\n",
      "  56  1.097510e+01    1.59e-03    5.02e+01   5.13e+00   3.66e-01  3.19e+05        1    3.07e-04    2.67e-02\n",
      "  57  1.097353e+01    1.56e-03    4.88e+01   4.98e+00   3.65e-01  3.12e+05        1    2.98e-04    2.70e-02\n",
      "  58  1.097200e+01    1.54e-03    4.73e+01   4.84e+00   3.64e-01  3.06e+05        1    3.01e-04    2.73e-02\n",
      "  59  1.097049e+01    1.51e-03    4.58e+01   4.71e+00   3.63e-01  3.00e+05        1    3.02e-04    2.76e-02\n",
      "  60  1.096901e+01    1.48e-03    4.42e+01   4.58e+00   3.62e-01  2.94e+05        1    3.13e-04    2.79e-02\n",
      "  61  1.096754e+01    1.46e-03    4.26e+01   4.45e+00   3.61e-01  2.88e+05        1    4.46e-04    2.83e-02\n",
      "  62  1.096611e+01    1.44e-03    4.11e+01   4.33e+00   3.60e-01  2.81e+05        1    4.55e-04    2.88e-02\n",
      "  63  1.096468e+01    1.42e-03    3.95e+01   4.21e+00   3.59e-01  2.75e+05        1    3.39e-04    2.92e-02\n",
      "  64  1.096328e+01    1.40e-03    3.79e+01   4.10e+00   3.58e-01  2.69e+05        1    4.30e-04    2.96e-02\n",
      "  65  1.096189e+01    1.39e-03    3.65e+01   3.99e+00   3.58e-01  2.63e+05        1    4.46e-04    3.01e-02\n",
      "  66  1.096051e+01    1.38e-03    3.63e+01   3.89e+00   3.57e-01  2.57e+05        1    5.35e-04    3.06e-02\n",
      "  67  1.095914e+01    1.37e-03    3.62e+01   3.79e+00   3.57e-01  2.51e+05        1    4.13e-04    3.10e-02\n",
      "  68  1.095778e+01    1.36e-03    3.60e+01   3.70e+00   3.57e-01  2.45e+05        1    4.36e-04    3.15e-02\n",
      "  69  1.095642e+01    1.36e-03    3.59e+01   3.61e+00   3.57e-01  2.40e+05        1    3.77e-04    3.19e-02\n",
      "  70  1.095506e+01    1.36e-03    3.58e+01   3.52e+00   3.57e-01  2.34e+05        1    4.05e-04    3.23e-02\n",
      "  71  1.095371e+01    1.36e-03    3.57e+01   3.44e+00   3.57e-01  2.29e+05        1    5.00e-04    3.28e-02\n",
      "  72  1.095234e+01    1.36e-03    3.63e+01   3.36e+00   3.57e-01  2.24e+05        1    4.15e-04    3.32e-02\n",
      "  73  1.095098e+01    1.37e-03    3.69e+01   3.29e+00   3.58e-01  2.19e+05        1    4.92e-04    3.37e-02\n",
      "  74  1.094960e+01    1.37e-03    3.76e+01   3.22e+00   3.59e-01  2.14e+05        1    5.37e-04    3.43e-02\n",
      "  75  1.094822e+01    1.39e-03    3.83e+01   3.16e+00   3.60e-01  2.09e+05        1    5.72e-04    3.49e-02\n",
      "  76  1.094682e+01    1.40e-03    3.90e+01   3.10e+00   3.61e-01  2.05e+05        1    5.37e-04    3.54e-02\n",
      "  77  1.094541e+01    1.41e-03    3.97e+01   3.04e+00   3.62e-01  2.01e+05        1    4.39e-04    3.59e-02\n",
      "  78  1.094398e+01    1.43e-03    4.05e+01   2.99e+00   3.64e-01  1.97e+05        1    3.26e-04    3.62e-02\n",
      "  79  1.094253e+01    1.45e-03    4.12e+01   2.93e+00   3.66e-01  1.93e+05        1    4.65e-04    3.67e-02\n",
      "  80  1.094107e+01    1.46e-03    4.19e+01   2.89e+00   3.69e-01  1.89e+05        1    5.42e-04    3.72e-02\n",
      "  81  1.093958e+01    1.48e-03    4.26e+01   2.84e+00   3.72e-01  1.86e+05        1    5.08e-04    3.78e-02\n",
      "  82  1.093808e+01    1.50e-03    4.32e+01   2.80e+00   3.75e-01  1.83e+05        1    3.35e-04    3.81e-02\n",
      "  83  1.093656e+01    1.52e-03    4.38e+01   2.76e+00   3.79e-01  1.81e+05        1    3.35e-04    3.84e-02\n",
      "  84  1.093502e+01    1.54e-03    4.43e+01   2.72e+00   3.84e-01  1.79e+05        1    3.38e-04    3.88e-02\n",
      "  85  1.093347e+01    1.55e-03    4.47e+01   2.68e+00   3.89e-01  1.77e+05        1    3.40e-04    3.91e-02\n",
      "  86  1.093191e+01    1.56e-03    4.49e+01   2.64e+00   3.95e-01  1.75e+05        1    3.41e-04    3.95e-02\n",
      "  87  1.093033e+01    1.57e-03    4.50e+01   2.60e+00   4.03e-01  1.74e+05        1    3.29e-04    3.98e-02\n",
      "  88  1.092876e+01    1.57e-03    4.49e+01   2.57e+00   4.12e-01  1.73e+05        1    3.34e-04    4.02e-02\n",
      "  89  1.092719e+01    1.57e-03    4.46e+01   2.53e+00   4.22e-01  1.72e+05        1    3.37e-04    4.05e-02\n",
      "  90  1.092563e+01    1.56e-03    4.39e+01   2.49e+00   4.35e-01  1.72e+05        1    3.37e-04    4.08e-02\n",
      "  91  1.092408e+01    1.54e-03    4.29e+01   2.44e+00   4.50e-01  1.72e+05        1    3.36e-04    4.12e-02\n",
      "  92  1.092257e+01    1.51e-03    4.16e+01   2.39e+00   4.68e-01  1.72e+05        1    4.47e-04    4.16e-02\n",
      "  93  1.092110e+01    1.47e-03    3.98e+01   2.34e+00   4.89e-01  1.72e+05        1    5.05e-04    4.21e-02\n",
      "  94  1.091968e+01    1.42e-03    3.76e+01   2.27e+00   5.15e-01  1.72e+05        1    5.31e-04    4.27e-02\n",
      "  95  1.091833e+01    1.35e-03    3.50e+01   2.21e+00   5.44e-01  1.72e+05        1    5.30e-04    4.32e-02\n",
      "  96  1.091707e+01    1.26e-03    3.22e+01   2.13e+00   5.75e-01  1.72e+05        1    4.73e-04    4.37e-02\n",
      "  97  1.091591e+01    1.16e-03    2.93e+01   2.06e+00   6.07e-01  1.74e+05        1    4.83e-04    4.42e-02\n",
      "  98  1.091485e+01    1.06e-03    2.65e+01   2.00e+00   6.36e-01  1.78e+05        1    5.33e-04    4.48e-02\n",
      "  99  1.091390e+01    9.58e-04    2.40e+01   1.95e+00   6.63e-01  1.84e+05        1    4.61e-04    4.53e-02\n",
      " 100  1.091302e+01    8.75e-04    2.19e+01   1.93e+00   6.86e-01  1.94e+05        1    5.44e-04    4.58e-02\n"
     ]
    },
    {
     "name": "stderr",
     "output_type": "stream",
     "text": [
      "I20240314 18:13:26.093765   443 misc.cc:198] \n",
      "==============================================================================\n",
      "Loading database\n",
      "==============================================================================\n",
      "I20240314 18:13:26.095031   443 database_cache.cc:54] Loading cameras...\n",
      "I20240314 18:13:26.095100   443 database_cache.cc:64]  3 in 0.000s\n",
      "I20240314 18:13:26.095120   443 database_cache.cc:72] Loading matches...\n",
      "I20240314 18:13:26.095149   443 database_cache.cc:78]  2 in 0.000s\n",
      "I20240314 18:13:26.095160   443 database_cache.cc:94] Loading images...\n",
      "I20240314 18:13:26.095515   443 database_cache.cc:143]  3 in 0.000s (connected 3)\n",
      "I20240314 18:13:26.095539   443 database_cache.cc:154] Building correspondence graph...\n",
      "I20240314 18:13:26.095602   443 database_cache.cc:190]  in 0.000s (ignored 0)\n",
      "I20240314 18:13:26.095615   443 timer.cc:91] Elapsed time: 0.000 [minutes]\n",
      "I20240314 18:13:26.096112   443 misc.cc:198] \n",
      "==============================================================================\n",
      "Finding good initial image pair\n",
      "==============================================================================\n",
      "I20240314 18:13:26.103179   443 incremental_mapper.cc:404] => No good initial image pair found.\n",
      "I20240314 18:13:26.103231   443 incremental_mapper.cc:310] => Relaxing the initialization constraints.\n",
      "I20240314 18:13:26.103305   443 misc.cc:198] \n",
      "==============================================================================\n",
      "Finding good initial image pair\n",
      "==============================================================================\n",
      "I20240314 18:13:26.107197   443 incremental_mapper.cc:404] => No good initial image pair found.\n",
      "I20240314 18:13:26.107218   443 incremental_mapper.cc:318] => Relaxing the initialization constraints.\n",
      "I20240314 18:13:26.107295   443 misc.cc:198] \n",
      "==============================================================================\n",
      "Finding good initial image pair\n",
      "==============================================================================\n",
      "I20240314 18:13:26.110721   443 misc.cc:198] \n",
      "==============================================================================\n",
      "Initializing with image pair #2 and #1\n",
      "==============================================================================\n",
      "I20240314 18:13:26.111133   443 misc.cc:198] \n",
      "==============================================================================\n",
      "Global bundle adjustment\n",
      "==============================================================================\n",
      "I20240314 18:13:26.157394   443 misc.cc:205] \n",
      "Bundle adjustment report\n",
      "------------------------\n",
      "I20240314 18:13:26.157447   443 bundle_adjustment.cc:942] \n",
      "    Residuals : 360\n",
      "   Parameters : 279\n",
      "   Iterations : 101\n",
      "         Time : 0.0458829 [s]\n",
      " Initial cost : 0.219792 [px]\n",
      "   Final cost : 0.174109 [px]\n",
      "  Termination : No convergence\n",
      "\n",
      "I20240314 18:13:26.157619   443 incremental_mapper.cc:160] => Filtered observations: 0\n",
      "I20240314 18:13:26.157637   443 incremental_mapper.cc:167] => Filtered images: 0\n",
      "I20240314 18:13:26.163332   443 timer.cc:91] Elapsed time: 0.001 [minutes]\n"
     ]
    }
   ],
   "source": [
    "maps = pycolmap.incremental_mapping(database_path, image_dir, output_path)\n",
    "maps[0].write(output_path)\n"
   ]
  },
  {
   "cell_type": "code",
   "execution_count": 8,
   "id": "8187fcb1",
   "metadata": {},
   "outputs": [
    {
     "name": "stderr",
     "output_type": "stream",
     "text": [
      "I20240314 18:13:26.170691   383 images.h:110]  => Reconstruction with 2 images and 90 points\n",
      "I20240314 18:13:26.170811   446 misc.cc:198] \n",
      "==============================================================================\n",
      "Image undistortion\n",
      "==============================================================================\n",
      "I20240314 18:13:26.171325   446 undistortion.cc:210] Undistorting image [1/2]\n",
      "I20240314 18:13:26.231324   446 undistortion.cc:210] Undistorting image [2/2]\n",
      "I20240314 18:13:26.260556   446 undistortion.cc:223] Writing reconstruction...\n",
      "I20240314 18:13:26.262259   446 undistortion.cc:228] Writing configuration...\n",
      "I20240314 18:13:26.262399   446 undistortion.cc:232] Writing scripts...\n",
      "I20240314 18:13:26.262692   446 timer.cc:91] Elapsed time: 0.002 [minutes]\n"
     ]
    },
    {
     "ename": "AttributeError",
     "evalue": "module 'pycolmap' has no attribute 'patch_match_stereo'",
     "output_type": "error",
     "traceback": [
      "\u001b[0;31m---------------------------------------------------------------------------\u001b[0m",
      "\u001b[0;31mAttributeError\u001b[0m                            Traceback (most recent call last)",
      "Cell \u001b[0;32mIn[8], line 3\u001b[0m\n\u001b[1;32m      1\u001b[0m \u001b[38;5;66;03m# dense reconstruction\u001b[39;00m\n\u001b[1;32m      2\u001b[0m pycolmap\u001b[38;5;241m.\u001b[39mundistort_images(mvs_path, output_path, image_dir)\n\u001b[0;32m----> 3\u001b[0m \u001b[43mpycolmap\u001b[49m\u001b[38;5;241;43m.\u001b[39;49m\u001b[43mpatch_match_stereo\u001b[49m(mvs_path)  \u001b[38;5;66;03m# requires compilation with CUDA\u001b[39;00m\n\u001b[1;32m      4\u001b[0m pycolmap\u001b[38;5;241m.\u001b[39mstereo_fusion(mvs_path \u001b[38;5;241m/\u001b[39m \u001b[38;5;124m\"\u001b[39m\u001b[38;5;124mdense.ply\u001b[39m\u001b[38;5;124m\"\u001b[39m, mvs_path)\n",
      "\u001b[0;31mAttributeError\u001b[0m: module 'pycolmap' has no attribute 'patch_match_stereo'"
     ]
    }
   ],
   "source": [
    "# dense reconstruction\n",
    "pycolmap.undistort_images(mvs_path, output_path, image_dir)\n",
    "pycolmap.patch_match_stereo(mvs_path)  # requires compilation with CUDA\n",
    "pycolmap.stereo_fusion(mvs_path / \"dense.ply\", mvs_path)"
   ]
  },
  {
   "cell_type": "code",
   "execution_count": 1,
   "id": "d239b6f6-02f6-4d6a-82fe-e32150911f7f",
   "metadata": {},
   "outputs": [
    {
     "ename": "ModuleNotFoundError",
     "evalue": "No module named 'colmap'",
     "output_type": "error",
     "traceback": [
      "\u001b[0;31m---------------------------------------------------------------------------\u001b[0m",
      "\u001b[0;31mModuleNotFoundError\u001b[0m                       Traceback (most recent call last)",
      "Cell \u001b[0;32mIn[1], line 1\u001b[0m\n\u001b[0;32m----> 1\u001b[0m \u001b[38;5;28;01mimport\u001b[39;00m \u001b[38;5;21;01mcolmap\u001b[39;00m\n",
      "\u001b[0;31mModuleNotFoundError\u001b[0m: No module named 'colmap'"
     ]
    }
   ],
   "source": [
    "import colmap"
   ]
  },
  {
   "cell_type": "code",
   "execution_count": 10,
   "id": "59ce700b-60d8-4845-935e-49557958e666",
   "metadata": {},
   "outputs": [],
   "source": [
    "import pycolmap\n",
    "\n",
    "# Load the COLMAP database\n",
    "db = pycolmap.Database(str(database_path))"
   ]
  },
  {
   "cell_type": "code",
   "execution_count": 26,
   "id": "4fd80a47-23a1-4183-994a-54ffd68a4ef8",
   "metadata": {},
   "outputs": [],
   "source": [
    "tvg = db.read_two_view_geometry(1,2)"
   ]
  },
  {
   "cell_type": "code",
   "execution_count": 69,
   "id": "c1445ed8-0ddc-4845-b0ec-50c7b25a5883",
   "metadata": {},
   "outputs": [],
   "source": [
    "img = db.read_all_images()[0]"
   ]
  },
  {
   "cell_type": "code",
   "execution_count": 87,
   "id": "14f9e510-602c-4a6a-98d4-b0225c077c43",
   "metadata": {},
   "outputs": [
    {
     "data": {
      "text/plain": [
       "[]"
      ]
     },
     "execution_count": 87,
     "metadata": {},
     "output_type": "execute_result"
    }
   ],
   "source": [
    "img = db.read_image(3)\n",
    "img.todict()['points2D']"
   ]
  },
  {
   "cell_type": "code",
   "execution_count": 83,
   "id": "2d61430e-7b10-4876-8686-1c27eb454cc5",
   "metadata": {},
   "outputs": [
    {
     "data": {
      "text/plain": [
       "{'image_id': 1,\n",
       " 'camera_id': 3,\n",
       " 'name': 'la-statua.jpg',\n",
       " 'cam_from_world': {'rotation': {'quat': array([0., 0., 0., 1.])},\n",
       "  'translation': array([0., 0., 0.])},\n",
       " 'cam_from_world_prior': {'rotation': {'quat': array([nan, nan, nan, nan])},\n",
       "  'translation': array([nan, nan, nan])},\n",
       " 'points2D': [],\n",
       " 'registered': False,\n",
       " 'num_points3D': 0,\n",
       " 'num_observations': 0,\n",
       " 'num_correspondences': 0}"
      ]
     },
     "execution_count": 83,
     "metadata": {},
     "output_type": "execute_result"
    }
   ],
   "source": []
  },
  {
   "cell_type": "code",
   "execution_count": null,
   "id": "dbd03cdf-794d-4236-8507-4418682d61cc",
   "metadata": {},
   "outputs": [],
   "source": []
  }
 ],
 "metadata": {
  "kernelspec": {
   "display_name": "Python 3 (ipykernel)",
   "language": "python",
   "name": "python3"
  },
  "language_info": {
   "codemirror_mode": {
    "name": "ipython",
    "version": 3
   },
   "file_extension": ".py",
   "mimetype": "text/x-python",
   "name": "python",
   "nbconvert_exporter": "python",
   "pygments_lexer": "ipython3",
   "version": "3.11.0rc1"
  }
 },
 "nbformat": 4,
 "nbformat_minor": 5
}
