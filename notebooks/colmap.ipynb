{
 "cells": [
  {
   "cell_type": "code",
   "execution_count": 1,
   "id": "dd85d876-1133-472a-85f3-4b78798870cc",
   "metadata": {},
   "outputs": [],
   "source": [
    "import pycolmap\n"
   ]
  },
  {
   "cell_type": "code",
   "execution_count": 2,
   "id": "276cf353",
   "metadata": {},
   "outputs": [],
   "source": [
    "from pathlib import Path"
   ]
  },
  {
   "cell_type": "code",
   "execution_count": 3,
   "id": "44a1943e",
   "metadata": {},
   "outputs": [
    {
     "name": "stdout",
     "output_type": "stream",
     "text": [
      "Fri Mar 15 09:23:49 2024       \n",
      "+---------------------------------------------------------------------------------------+\n",
      "| NVIDIA-SMI 545.29.06              Driver Version: 545.29.06    CUDA Version: 12.3     |\n",
      "|-----------------------------------------+----------------------+----------------------+\n",
      "| GPU  Name                 Persistence-M | Bus-Id        Disp.A | Volatile Uncorr. ECC |\n",
      "| Fan  Temp   Perf          Pwr:Usage/Cap |         Memory-Usage | GPU-Util  Compute M. |\n",
      "|                                         |                      |               MIG M. |\n",
      "|=========================================+======================+======================|\n",
      "|   0  NVIDIA GeForce MX150           Off | 00000000:01:00.0 Off |                  N/A |\n",
      "| N/A   39C    P8              N/A /   9W |      1MiB /  2048MiB |      0%      Default |\n",
      "|                                         |                      |                  N/A |\n",
      "+-----------------------------------------+----------------------+----------------------+\n",
      "                                                                                         \n",
      "+---------------------------------------------------------------------------------------+\n",
      "| Processes:                                                                            |\n",
      "|  GPU   GI   CI        PID   Type   Process name                            GPU Memory |\n",
      "|        ID   ID                                                             Usage      |\n",
      "|=======================================================================================|\n",
      "+---------------------------------------------------------------------------------------+\n"
     ]
    }
   ],
   "source": [
    "!nvidia-smi"
   ]
  },
  {
   "cell_type": "markdown",
   "id": "11a7abbe",
   "metadata": {},
   "source": [
    "Prepare Paths"
   ]
  },
  {
   "cell_type": "code",
   "execution_count": 4,
   "id": "774c5bfa-2197-4ea9-9fa5-64d8432db5e1",
   "metadata": {},
   "outputs": [],
   "source": [
    "data_path = Path(\"../data/images\")\n",
    "colmap_path = Path(\"../data/colmap\")\n",
    "\n",
    "data_path.mkdir(parents=True, exist_ok=True)\n",
    "\n",
    "# colmap directory should be empty\n",
    "# colmap_path.mkdir(parents=True, exist_ok=True)\n",
    "# import shutil\n",
    "# shutil.rmtree(str(colmap_path))\n",
    "# colmap_path.mkdir()"
   ]
  },
  {
   "cell_type": "code",
   "execution_count": 5,
   "id": "e0242f25-18d1-4806-8f48-bd65dc55d4b2",
   "metadata": {},
   "outputs": [],
   "source": [
    "output_path=  colmap_path\n",
    "image_dir =  data_path\n",
    "\n",
    "mvs_path = output_path / \"mvs\"\n",
    "database_path = output_path / \"database.db\"\n"
   ]
  },
  {
   "cell_type": "markdown",
   "id": "6b598ede",
   "metadata": {},
   "source": [
    "# match and extract features"
   ]
  },
  {
   "cell_type": "code",
   "execution_count": null,
   "id": "dfe782da",
   "metadata": {},
   "outputs": [],
   "source": [
    "pycolmap.extract_features(database_path, image_dir)\n",
    "pycolmap.match_exhaustive(database_path)"
   ]
  },
  {
   "cell_type": "code",
   "execution_count": null,
   "id": "f06571b7-0bc9-4899-8ef8-e6628e2b792a",
   "metadata": {},
   "outputs": [],
   "source": []
  },
  {
   "cell_type": "code",
   "execution_count": null,
   "id": "7a172900",
   "metadata": {},
   "outputs": [],
   "source": [
    "maps = pycolmap.incremental_mapping(database_path, image_dir, output_path)\n",
    "maps[0].write(output_path)\n"
   ]
  },
  {
   "cell_type": "code",
   "execution_count": null,
   "id": "8187fcb1",
   "metadata": {},
   "outputs": [],
   "source": [
    "# dense reconstruction\n",
    "pycolmap.undistort_images(mvs_path, output_path, image_dir)\n",
    "pycolmap.patch_match_stereo(mvs_path)  # requires compilation with CUDA\n",
    "pycolmap.stereo_fusion(mvs_path / \"dense.ply\", mvs_path)"
   ]
  },
  {
   "cell_type": "code",
   "execution_count": null,
   "id": "59ce700b-60d8-4845-935e-49557958e666",
   "metadata": {},
   "outputs": [],
   "source": [
    "import pycolmap\n",
    "\n",
    "# Load the COLMAP database\n",
    "db = pycolmap.Database(str(database_path))"
   ]
  },
  {
   "cell_type": "code",
   "execution_count": null,
   "id": "4fd80a47-23a1-4183-994a-54ffd68a4ef8",
   "metadata": {},
   "outputs": [],
   "source": [
    "tvg = db.read_two_view_geometry(1,2)"
   ]
  },
  {
   "cell_type": "code",
   "execution_count": null,
   "id": "c1445ed8-0ddc-4845-b0ec-50c7b25a5883",
   "metadata": {},
   "outputs": [],
   "source": [
    "img = db.read_all_images()[0]"
   ]
  },
  {
   "cell_type": "code",
   "execution_count": null,
   "id": "14f9e510-602c-4a6a-98d4-b0225c077c43",
   "metadata": {},
   "outputs": [],
   "source": [
    "img = db.read_image(3)\n",
    "img.todict()['points2D']"
   ]
  },
  {
   "cell_type": "code",
   "execution_count": null,
   "id": "2d61430e-7b10-4876-8686-1c27eb454cc5",
   "metadata": {},
   "outputs": [],
   "source": []
  },
  {
   "cell_type": "code",
   "execution_count": null,
   "id": "dbd03cdf-794d-4236-8507-4418682d61cc",
   "metadata": {},
   "outputs": [],
   "source": []
  }
 ],
 "metadata": {
  "kernelspec": {
   "display_name": "Python 3 (ipykernel)",
   "language": "python",
   "name": "python3"
  },
  "language_info": {
   "codemirror_mode": {
    "name": "ipython",
    "version": 3
   },
   "file_extension": ".py",
   "mimetype": "text/x-python",
   "name": "python",
   "nbconvert_exporter": "python",
   "pygments_lexer": "ipython3",
   "version": "3.10.12"
  }
 },
 "nbformat": 4,
 "nbformat_minor": 5
}
