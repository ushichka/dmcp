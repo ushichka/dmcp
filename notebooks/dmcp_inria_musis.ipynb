{
 "cells": [
  {
   "cell_type": "code",
   "execution_count": 3,
   "metadata": {},
   "outputs": [],
   "source": [
    "import requests\n",
    "url = \"https://github.com/LCAV/pyroomacoustics/blob/master/examples/data/INRIA_MUSIS.stl\"\n",
    "mesh_url = \"../tmp/INRIA_MUSIS.stl\"\n",
    "\n",
    "from pathlib import Path\n",
    "if not Path(mesh_url).is_file():\n",
    "    print(f\"download data to {mesh_url}\")\n",
    "    r = requests.get(url, allow_redirects=True)\n",
    "    open(mesh_url, 'wb').write(r.content)"
   ]
  }
 ],
 "metadata": {
  "interpreter": {
   "hash": "d2332e41685df96fe68d09deec43950424315a14fa6b910632ba6b12222b7735"
  },
  "kernelspec": {
   "display_name": "Python 3.9.12 ('dmcp')",
   "language": "python",
   "name": "python3"
  },
  "language_info": {
   "codemirror_mode": {
    "name": "ipython",
    "version": 3
   },
   "file_extension": ".py",
   "mimetype": "text/x-python",
   "name": "python",
   "nbconvert_exporter": "python",
   "pygments_lexer": "ipython3",
   "version": "3.9.12"
  },
  "orig_nbformat": 4
 },
 "nbformat": 4,
 "nbformat_minor": 2
}
