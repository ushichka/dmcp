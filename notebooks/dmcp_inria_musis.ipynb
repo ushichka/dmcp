{
 "cells": [
  {
   "cell_type": "code",
   "execution_count": 1,
   "metadata": {},
   "outputs": [],
   "source": [
    "%load_ext autoreload\n",
    "%autoreload 2"
   ]
  },
  {
   "cell_type": "code",
   "execution_count": 2,
   "metadata": {},
   "outputs": [
    {
     "name": "stdout",
     "output_type": "stream",
     "text": [
      "data already downloaded\n"
     ]
    }
   ],
   "source": [
    "import wget\n",
    "\n",
    "url = \"https://raw.githubusercontent.com/LCAV/pyroomacoustics/master/examples/data/INRIA_MUSIS.stl\"\n",
    "mesh_url = \"../tmp/INRIA_MUSIS.stl\"\n",
    "\n",
    "from pathlib import Path\n",
    "if not Path(mesh_url).is_file():\n",
    "    print(f\"download data to {mesh_url}\")\n",
    "    wget.download(url, mesh_url)\n",
    "else:\n",
    "    print(\"data already downloaded\")"
   ]
  },
  {
   "cell_type": "markdown",
   "metadata": {},
   "source": [
    "#### capture depth map"
   ]
  },
  {
   "cell_type": "code",
   "execution_count": 3,
   "metadata": {},
   "outputs": [
    {
     "name": "stdout",
     "output_type": "stream",
     "text": [
      "[6722.1406914247345, 12345.640691424735, 10572.140691424735]\n",
      "[6722.14069142] [12345.64069142] [10572.14069143]\n"
     ]
    },
    {
     "data": {
      "image/png": "[encoded data removed]",
      "text/plain": [
       "<Figure size 432x288 with 1 Axes>"
      ]
     },
     "metadata": {
      "needs_background": "light"
     },
     "output_type": "display_data"
    }
   ],
   "source": [
    "import src.dmcp_workflow.capture_depth as cd\n",
    "import matplotlib.pyplot as plt\n",
    "import scipy.linalg as la\n",
    "\n",
    "dm, Kdm, Pdm = cd.generate_depth_map(mesh_url)\n",
    "\n",
    "%matplotlib inline\n",
    "plt.imshow(dm, origin=\"lower\")\n",
    "plt.show()"
   ]
  },
  {
   "cell_type": "markdown",
   "metadata": {},
   "source": [
    "pick 3d point to compare"
   ]
  },
  {
   "cell_type": "code",
   "execution_count": 4,
   "metadata": {},
   "outputs": [
    {
     "data": {
      "application/vnd.jupyter.widget-view+json": {
       "model_id": "899d0119c85648fc8b3a85562ef1968d",
       "version_major": 2,
       "version_minor": 0
      },
      "text/plain": [
       "ViewInteractiveWidget(height=768, layout=Layout(height='auto', width='100%'), width=1024)"
      ]
     },
     "metadata": {},
     "output_type": "display_data"
    }
   ],
   "source": [
    "import pyvista as pv\n",
    "mesh = pv.read(mesh_url)\n",
    "\n",
    "#points = []\n",
    "#def on_click(point):\n",
    "#    points.append(point)\n",
    "\n",
    "point = None\n",
    "def on_click(p):\n",
    "    global point\n",
    "    point = p\n",
    "\n",
    "p = pv.Plotter()\n",
    "p.add_mesh(mesh, pickable=True, color=\"green\")\n",
    "p.enable_point_picking(callback=on_click,pickable_window=False)  # Make the 3D window unpickable\n",
    "p.show()"
   ]
  },
  {
   "cell_type": "code",
   "execution_count": 5,
   "metadata": {},
   "outputs": [
    {
     "name": "stdout",
     "output_type": "stream",
     "text": [
      "[-989.36566162 5231.93505859 1000.01623535]\n"
     ]
    }
   ],
   "source": [
    "print(point)\n",
    "import numpy as np\n",
    "\n",
    "p3D = point\n",
    "#p3D = np.array([-1549.18237305 , 6047.  ,        1000.01623535])\n",
    "p2d = np.array([394.0, 413.0])"
   ]
  },
  {
   "cell_type": "code",
   "execution_count": 6,
   "metadata": {},
   "outputs": [
    {
     "name": "stdout",
     "output_type": "stream",
     "text": [
      "[551.38577834 534.90936134]\n"
     ]
    },
    {
     "data": {
      "text/plain": [
       "<matplotlib.collections.PathCollection at 0x7fbbfa8cbc40>"
      ]
     },
     "execution_count": 6,
     "metadata": {},
     "output_type": "execute_result"
    },
    {
     "data": {
      "image/png": "[encoded data removed]",
      "text/plain": [
       "<Figure size 432x288 with 1 Axes>"
      ]
     },
     "metadata": {
      "needs_background": "light"
     },
     "output_type": "display_data"
    }
   ],
   "source": [
    "x_hat = np.matmul(Pdm, np.append(p3D, 1))\n",
    "x_hat = x_hat / x_hat[-1]\n",
    "point_proj = x_hat[:2]\n",
    "print(point_proj)\n",
    "plt.imshow(dm,origin=\"upper\")\n",
    "plt.scatter(point_proj[0],point_proj[1], color=\"red\")"
   ]
  },
  {
   "cell_type": "code",
   "execution_count": 11,
   "metadata": {},
   "outputs": [
    {
     "name": "stdout",
     "output_type": "stream",
     "text": [
      "[-989.46101121 5231.84710056  999.89787999]\n"
     ]
    }
   ],
   "source": [
    "#_dm = dm\n",
    "import numpy as np\n",
    "import scipy.linalg as la\n",
    "pts3D = []\n",
    "extrinsic_matrix = np.matmul(la.inv(Kdm),Pdm)\n",
    "extrinsic_matrix_hat = np.vstack((extrinsic_matrix, [0,0,0,1]))\n",
    "camera_pose_matrix = la.inv(extrinsic_matrix_hat)[:3,:]\n",
    "x,y = point_proj\n",
    "\n",
    "distance = dm[round(y), round(x)]\n",
    "pt3D = distance * np.matmul(la.inv(Kdm), [x, y, 1])\n",
    "pt3D = np.matmul(camera_pose_matrix, np.append(pt3D, 1))\n",
    "print(pt3D)\n",
    "\n"
   ]
  },
  {
   "cell_type": "code",
   "execution_count": 12,
   "metadata": {},
   "outputs": [
    {
     "data": {
      "application/vnd.jupyter.widget-view+json": {
       "model_id": "fa797cdf6cdb4f6faaacea264032353b",
       "version_major": 2,
       "version_minor": 0
      },
      "text/plain": [
       "ViewInteractiveWidget(height=768, layout=Layout(height='auto', width='100%'), width=1024)"
      ]
     },
     "metadata": {},
     "output_type": "display_data"
    }
   ],
   "source": [
    "import pyvista as pv\n",
    "mesh = pv.read(mesh_url)\n",
    "\n",
    "p = pv.Plotter()\n",
    "sphere = pv.Sphere(radius=250, center=pt3D)\n",
    "p.add_mesh(mesh, pickable=True, color=\"green\")\n",
    "p.add_mesh(sphere, color=\"red\")\n",
    "p.show()"
   ]
  },
  {
   "cell_type": "markdown",
   "metadata": {},
   "source": [
    "validate using complete depth map, above with one point indeed _is_ working"
   ]
  },
  {
   "cell_type": "code",
   "execution_count": 9,
   "metadata": {},
   "outputs": [],
   "source": [
    "pts3D = []\n",
    "for y in range(dm.shape[0]):\n",
    "    for x in range(dm.shape[1]):\n",
    "        distance = dm[round(y),round(x)]\n",
    "        if np.isnan(distance):\n",
    "            continue\n",
    "        pt3D = distance * np.matmul(la.inv(Kdm), [x, y, 1])\n",
    "        pt3D = np.matmul(camera_pose_matrix, np.append(pt3D, 1))\n",
    "        pts3D.append(pt3D)"
   ]
  }
 ],
 "metadata": {
  "interpreter": {
   "hash": "d2332e41685df96fe68d09deec43950424315a14fa6b910632ba6b12222b7735"
  },
  "kernelspec": {
   "display_name": "Python 3.9.12 ('dmcp')",
   "language": "python",
   "name": "python3"
  },
  "language_info": {
   "codemirror_mode": {
    "name": "ipython",
    "version": 3
   },
   "file_extension": ".py",
   "mimetype": "text/x-python",
   "name": "python",
   "nbconvert_exporter": "python",
   "pygments_lexer": "ipython3",
   "version": "3.9.12"
  },
  "orig_nbformat": 4
 },
 "nbformat": 4,
 "nbformat_minor": 2
}
