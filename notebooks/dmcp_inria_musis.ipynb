{
 "cells": [
  {
   "cell_type": "code",
   "execution_count": 1,
   "metadata": {},
   "outputs": [],
   "source": [
    "%load_ext autoreload\n",
    "%autoreload 2"
   ]
  },
  {
   "cell_type": "code",
   "execution_count": 7,
   "metadata": {},
   "outputs": [
    {
     "name": "stdout",
     "output_type": "stream",
     "text": [
      "download data to ../tmp/INRIA_MUSIS.stl\n"
     ]
    }
   ],
   "source": [
    "import wget\n",
    "\n",
    "url = \"https://raw.githubusercontent.com/LCAV/pyroomacoustics/master/examples/data/INRIA_MUSIS.stl\"\n",
    "mesh_url = \"../tmp/INRIA_MUSIS.stl\"\n",
    "\n",
    "from pathlib import Path\n",
    "if not Path(mesh_url).is_file():\n",
    "    print(f\"download data to {mesh_url}\")\n",
    "    wget.download(url, mesh_url)\n",
    "else:\n",
    "    print(\"data already downloaded\")"
   ]
  },
  {
   "cell_type": "code",
   "execution_count": 10,
   "metadata": {},
   "outputs": [],
   "source": [
    "import src.dmcp_workflow.capture_depth as cd\n",
    "\n",
    "dm, Kdm, Pdm = cd.generate_depth_map(mesh_url)"
   ]
  },
  {
   "cell_type": "code",
   "execution_count": 15,
   "metadata": {},
   "outputs": [
    {
     "data": {
      "text/plain": [
       "<matplotlib.image.AxesImage at 0x7f676374f910>"
      ]
     },
     "execution_count": 15,
     "metadata": {},
     "output_type": "execute_result"
    },
    {
     "data": {
      "image/png": "[encoded data removed]",
      "text/plain": [
       "<Figure size 432x288 with 1 Axes>"
      ]
     },
     "metadata": {
      "needs_background": "light"
     },
     "output_type": "display_data"
    }
   ],
   "source": [
    "import matplotlib.pyplot as plt\n",
    "import matplotlib\n",
    "matplotlib.use(\"TKAgg\")\n",
    "\n",
    "plt.imshow(dm)"
   ]
  },
  {
   "cell_type": "code",
   "execution_count": 18,
   "metadata": {},
   "outputs": [],
   "source": [
    "import src.dmcp_workflow.annotate_points as ap\n",
    "cps = ap.annotate(dm, dm)"
   ]
  },
  {
   "cell_type": "code",
   "execution_count": 19,
   "metadata": {},
   "outputs": [
    {
     "data": {
      "text/plain": [
       "array([[547.28494624, 393.25483871, 544.53225806, 389.12580645],\n",
       "       [683.54301075, 400.13655914, 683.54301075, 401.51290323],\n",
       "       [545.90860215, 268.00752688, 551.41397849, 265.25483871],\n",
       "       [695.93010753, 305.1688172 , 694.55376344, 309.29784946],\n",
       "       [471.58602151, 477.21182796, 466.08064516, 477.21182796],\n",
       "       [629.8655914 , 471.70645161, 631.24193548, 471.70645161],\n",
       "       [350.46774194, 270.76021505, 343.58602151, 276.2655914 ],\n",
       "       [353.22043011, 470.33010753, 339.45698925, 468.95376344],\n",
       "       [274.7688172 , 295.5344086 , 276.14516129, 295.5344086 ],\n",
       "       [269.26344086, 455.19032258, 269.26344086, 459.31935484]])"
      ]
     },
     "execution_count": 19,
     "metadata": {},
     "output_type": "execute_result"
    }
   ],
   "source": [
    "cps"
   ]
  },
  {
   "cell_type": "code",
   "execution_count": 24,
   "metadata": {},
   "outputs": [],
   "source": [
    "import src.pycv.dmcp as dmcp\n",
    "\n",
    "world_points = dmcp.dm_to_world(dm, Kdm,Pdm,cps[:,2:])\n",
    "A = dmcp.dmcp(Kdm, Pdm, cps[:,:2], world_points)"
   ]
  },
  {
   "cell_type": "code",
   "execution_count": 26,
   "metadata": {},
   "outputs": [
    {
     "name": "stdout",
     "output_type": "stream",
     "text": [
      "Transform\n",
      "[[ 1.00  0.01 -0.01 73.90]\n",
      " [-0.01  1.00 -0.01 119.60]\n",
      " [ 0.01  0.01  1.00 -36.15]\n",
      " [ 0.00  0.00  0.00  1.00]]\n"
     ]
    }
   ],
   "source": [
    "import numpy as np\n",
    "with np.printoptions(formatter={'float':lambda x: f\"{x:5.02f}\"}):\n",
    "    print(f\"Transform\\n{A}\")"
   ]
  }
 ],
 "metadata": {
  "interpreter": {
   "hash": "d2332e41685df96fe68d09deec43950424315a14fa6b910632ba6b12222b7735"
  },
  "kernelspec": {
   "display_name": "Python 3.9.12 ('dmcp')",
   "language": "python",
   "name": "python3"
  },
  "language_info": {
   "codemirror_mode": {
    "name": "ipython",
    "version": 3
   },
   "file_extension": ".py",
   "mimetype": "text/x-python",
   "name": "python",
   "nbconvert_exporter": "python",
   "pygments_lexer": "ipython3",
   "version": "3.9.12"
  },
  "orig_nbformat": 4
 },
 "nbformat": 4,
 "nbformat_minor": 2
}
