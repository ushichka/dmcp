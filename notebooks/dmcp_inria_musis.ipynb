{
 "cells": [
  {
   "cell_type": "code",
   "execution_count": 1,
   "metadata": {},
   "outputs": [],
   "source": [
    "%load_ext autoreload\n",
    "%autoreload 2"
   ]
  },
  {
   "cell_type": "code",
   "execution_count": 2,
   "metadata": {},
   "outputs": [
    {
     "name": "stdout",
     "output_type": "stream",
     "text": [
      "data already downloaded\n"
     ]
    }
   ],
   "source": [
    "import wget\n",
    "\n",
    "url = \"https://raw.githubusercontent.com/LCAV/pyroomacoustics/master/examples/data/INRIA_MUSIS.stl\"\n",
    "mesh_url = \"../tmp/INRIA_MUSIS.stl\"\n",
    "\n",
    "from pathlib import Path\n",
    "if not Path(mesh_url).is_file():\n",
    "    print(f\"download data to {mesh_url}\")\n",
    "    wget.download(url, mesh_url)\n",
    "else:\n",
    "    print(\"data already downloaded\")"
   ]
  },
  {
   "cell_type": "code",
   "execution_count": 38,
   "metadata": {},
   "outputs": [],
   "source": [
    "import src.dmcp_workflow.capture_depth as cd\n",
    "\n",
    "dm, Kdm, Pdm = cd.generate_depth_map(mesh_url)"
   ]
  },
  {
   "cell_type": "code",
   "execution_count": 41,
   "metadata": {},
   "outputs": [
    {
     "data": {
      "image/png": "[encoded data removed]",
      "text/plain": [
       "<Figure size 432x288 with 1 Axes>"
      ]
     },
     "metadata": {
      "needs_background": "light"
     },
     "output_type": "display_data"
    }
   ],
   "source": [
    "import matplotlib.pyplot as plt\n",
    "\n",
    "plt.imshow(dm, origin=\"lower\")\n",
    "plt.show()"
   ]
  },
  {
   "cell_type": "code",
   "execution_count": 42,
   "metadata": {},
   "outputs": [],
   "source": [
    "import src.dmcp_workflow.annotate_points as ap\n",
    "\n",
    "cps = ap.annotate(dm, dm)"
   ]
  },
  {
   "cell_type": "code",
   "execution_count": 43,
   "metadata": {},
   "outputs": [
    {
     "data": {
      "text/plain": [
       "array([[639.5       , 318.43225806, 639.5       , 318.43225806],\n",
       "       [382.12365591, 344.5827957 , 382.12365591, 344.5827957 ],\n",
       "       [397.26344086, 118.86236559, 397.26344086, 118.86236559],\n",
       "       [537.65053763,  96.84086022, 537.65053763,  96.84086022],\n",
       "       [548.66129032, 186.30322581, 548.66129032, 186.30322581],\n",
       "       [639.5       , 186.30322581, 639.5       , 186.30322581]])"
      ]
     },
     "execution_count": 43,
     "metadata": {},
     "output_type": "execute_result"
    }
   ],
   "source": [
    "cps_artificial = cps.copy()\n",
    "\n",
    "cps_artificial[:,2:4] = cps_artificial[:,:2]\n",
    "cps_artificial"
   ]
  },
  {
   "cell_type": "code",
   "execution_count": 45,
   "metadata": {},
   "outputs": [
    {
     "data": {
      "text/plain": [
       "<matplotlib.collections.PathCollection at 0x7f25c7c01eb0>"
      ]
     },
     "execution_count": 45,
     "metadata": {},
     "output_type": "execute_result"
    },
    {
     "data": {
      "image/png": "[encoded data removed]",
      "text/plain": [
       "<Figure size 432x288 with 1 Axes>"
      ]
     },
     "metadata": {
      "needs_background": "light"
     },
     "output_type": "display_data"
    }
   ],
   "source": [
    "plt.imshow(dm,origin=\"lower\")\n",
    "plt.scatter(cps_artificial[:,0],cps_artificial[:,1],color=\"red\")"
   ]
  },
  {
   "cell_type": "code",
   "execution_count": 46,
   "metadata": {},
   "outputs": [],
   "source": [
    "import src.pycv.dmcp as dmcp\n",
    "\n",
    "world_points = dmcp.dm_to_world(dm, Kdm,Pdm,cps[:,2:])\n",
    "A = dmcp.dmcp(Kdm, Pdm, cps[:,:2], world_points)"
   ]
  },
  {
   "cell_type": "code",
   "execution_count": 47,
   "metadata": {},
   "outputs": [
    {
     "name": "stdout",
     "output_type": "stream",
     "text": [
      "Transform\n",
      "[[     -0.82      -0.19      -0.54    2375.96]\n",
      " [      0.33      -0.93      -0.16   10779.10]\n",
      " [     -0.47      -0.31       0.83    2094.72]\n",
      " [      0.00       0.00       0.00       1.00]]\n",
      "world points\n",
      "[[    -43.02    3852.64    3584.41]\n",
      " [  -1566.34    6025.80    4367.20]\n",
      " [  -1512.48    5994.42    6256.37]\n",
      " [  -1022.61    5281.91    5934.74]\n",
      " [   -903.90    5109.89    7201.41]\n",
      " [     -6.57    3801.33    6763.20]]\n"
     ]
    }
   ],
   "source": [
    "import numpy as np\n",
    "with np.printoptions(formatter={'float':lambda x: f\"{x:10.02f}\"}):\n",
    "    print(f\"Transform\\n{A}\")\n",
    "    print(f\"world points\\n{world_points}\")"
   ]
  },
  {
   "cell_type": "code",
   "execution_count": 48,
   "metadata": {},
   "outputs": [
    {
     "data": {
      "application/vnd.jupyter.widget-view+json": {
       "model_id": "01e5ab831cda412ead0e799e03117f6b",
       "version_major": 2,
       "version_minor": 0
      },
      "text/plain": [
       "ViewInteractiveWidget(height=768, layout=Layout(height='auto', width='100%'), width=1024)"
      ]
     },
     "metadata": {},
     "output_type": "display_data"
    }
   ],
   "source": [
    "mesh = pv.read(mesh_url)\n",
    "\n",
    "points = []\n",
    "def on_click(point):\n",
    "    points.append(point)\n",
    "\n",
    "p = pv.Plotter()\n",
    "p.add_mesh(mesh, pickable=True)\n",
    "p.enable_point_picking(callback=on_click,pickable_window=False)  # Make the 3D window unpickable\n",
    "p.show()"
   ]
  },
  {
   "cell_type": "code",
   "execution_count": 50,
   "metadata": {},
   "outputs": [
    {
     "name": "stdout",
     "output_type": "stream",
     "text": [
      "[[-1549.18237305  6047.          2500.        ]\n",
      " [-1549.18237305  6047.          1000.01623535]]\n"
     ]
    }
   ],
   "source": [
    "print(np.array(points))"
   ]
  }
 ],
 "metadata": {
  "interpreter": {
   "hash": "d2332e41685df96fe68d09deec43950424315a14fa6b910632ba6b12222b7735"
  },
  "kernelspec": {
   "display_name": "Python 3.9.12 ('dmcp')",
   "language": "python",
   "name": "python3"
  },
  "language_info": {
   "codemirror_mode": {
    "name": "ipython",
    "version": 3
   },
   "file_extension": ".py",
   "mimetype": "text/x-python",
   "name": "python",
   "nbconvert_exporter": "python",
   "pygments_lexer": "ipython3",
   "version": "3.9.12"
  },
  "orig_nbformat": 4
 },
 "nbformat": 4,
 "nbformat_minor": 2
}
