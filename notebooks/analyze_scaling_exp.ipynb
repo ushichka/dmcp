{
 "cells": [
  {
   "cell_type": "code",
   "execution_count": 1,
   "metadata": {},
   "outputs": [],
   "source": [
    "%load_ext autoreload\n",
    "%autoreload 2"
   ]
  },
  {
   "cell_type": "code",
   "execution_count": 2,
   "metadata": {},
   "outputs": [],
   "source": [
    "import numpy as np\n",
    "%matplotlib widget\n",
    "import matplotlib as mpl\n",
    "import matplotlib.pyplot as plt\n",
    "import scipy.linalg as la\n",
    "import pyvista as pv\n",
    "import seaborn as sns\n",
    "import imageio.v3 as iio\n",
    "import os\n",
    "import pathlib\n",
    "np.set_printoptions(formatter={\"float\": \"{:10.2f}\".format})"
   ]
  },
  {
   "cell_type": "code",
   "execution_count": 3,
   "metadata": {},
   "outputs": [],
   "source": [
    "exp_dir = \"/home/julian/data/dmcp_experiments/middlebury/\"\n",
    "repr_errs = []\n",
    "transforms = []\n",
    "native_Ps = []\n",
    "for sdir in pathlib.Path(exp_dir).glob(\"./*\"):\n",
    "    if not sdir.is_dir():\n",
    "        continue\n",
    "    repr_file = list(sdir.glob(\"reprErrs*\"))[0]\n",
    "    reprs = np.loadtxt(repr_file)\n",
    "    repr_errs.append(reprs)\n",
    "\n",
    "    trans_file = list(sdir.glob(\"transform*\"))[0]\n",
    "    trans = np.loadtxt(trans_file,delimiter=\",\")\n",
    "    transforms.append(trans)\n",
    "\n",
    "    P_file = list(sdir.glob(\"imP*\"))[0]\n",
    "    imP = np.loadtxt(P_file,delimiter=\",\")\n",
    "    native_Ps.append(imP)\n",
    "\n",
    "    cp_file = list(sdir.glob(\"cps*\"))[0]\n",
    "\n",
    "\n",
    "idxs = [4,5,6,7,8,16]\n",
    "idxs = [str(i) for i in idxs]"
   ]
  },
  {
   "cell_type": "code",
   "execution_count": 4,
   "metadata": {},
   "outputs": [
    {
     "data": {
      "image/png": "[encoded data removed]",
      "text/plain": [
       "<Figure size 432x288 with 1 Axes>"
      ]
     },
     "metadata": {
      "needs_background": "light"
     },
     "output_type": "display_data"
    }
   ],
   "source": [
    "mean_repr_errs = [np.mean(re) for re in repr_errs]\n",
    "%matplotlib inline\n",
    "plt.figure()\n",
    "plt.bar(idxs,mean_repr_errs)\n",
    "plt.xlabel(\"experiment with x annotations\")\n",
    "plt.ylabel(\"mean reprojection error in px\")\n",
    "#plt.savefig(\"/home/julian/Downloads/middlebury_scaling_mean_repr_errs.eps\")\n",
    "plt.show()\n",
    "#plt.gca().spines['left'].set_visible(False)"
   ]
  },
  {
   "cell_type": "code",
   "execution_count": 5,
   "metadata": {},
   "outputs": [
    {
     "data": {
      "text/plain": [
       "[array([     12.54]),\n",
       " array([     17.96,       1.78]),\n",
       " array([     45.75,       6.69,      10.27]),\n",
       " array([      8.66,     207.33,     136.47,       7.10]),\n",
       " array([      5.76,       9.47,      11.85,      22.61,       8.34]),\n",
       " array([      6.77,       6.26,       4.62,       6.50,       8.43,\n",
       "             17.74,      21.27,      15.85,       7.87,      13.81,\n",
       "             12.69,      32.93,      11.81])]"
      ]
     },
     "execution_count": 5,
     "metadata": {},
     "output_type": "execute_result"
    }
   ],
   "source": [
    "non_zero_repr_errs = [re[np.nonzero(re)] for re in repr_errs]\n",
    "non_zero_repr_errs = non_zero_repr_errs\n",
    "non_zero_repr_errs"
   ]
  },
  {
   "cell_type": "code",
   "execution_count": 28,
   "metadata": {},
   "outputs": [
    {
     "data": {
      "image/png": "[encoded data removed]",
      "text/plain": [
       "<Figure size 504x216 with 1 Axes>"
      ]
     },
     "metadata": {
      "needs_background": "light"
     },
     "output_type": "display_data"
    }
   ],
   "source": [
    "\n",
    "import colorcet as cc\n",
    "data = non_zero_repr_errs\n",
    "hlines = [np.median(e) for e in non_zero_repr_errs]\n",
    "%matplotlib inline\n",
    "plt.figure(figsize=(7,3))\n",
    "#fig, ax = plt.subplots()\n",
    "\n",
    "for i,med in enumerate(hlines):\n",
    "    plt.hlines(med, i-0.25, i+0.25)\n",
    "\n",
    "sns.stripplot(data=data,  edgecolor='none', jitter=True,\n",
    "              alpha=0.5, size=8)\n",
    "\n",
    "sns.despine(); plt.yscale('log')\n",
    "\n",
    "plt.xticks(range(6),[\"4\",\"5\",\"6\",\"7\",\"8\",\"16\"], fontsize=9); #plt.xlim(-0.5,20.5)\n",
    "plt.yticks(ticks=[1e0, 1e1, 1e2], labels=[1.0,10.0,100.0],\n",
    "           fontsize=9);#plt.ylim(1.0,105)\n",
    "\n",
    "plt.xlabel('Number of annotated points',fontsize=9, labelpad=7)\n",
    "plt.ylabel('Reprojection error, px', fontsize=9, labelpad=0);\n",
    "\n",
    "\n",
    "#date_x = np.arange(-0.2, 21, 3)\n",
    "#import matplotlib.transforms as transforms\n",
    "#trans = transforms.blended_transform_factory(plt.gca().transData, plt.gca().transAxes)\n",
    "#for x, night in zip(date_x, [\"4\",\"5\",\"6\",\"7\",\"8\",\"16\"]):\n",
    "#    plt.text(x, -.235, night+f'\\n(4)', fontsize=9,\n",
    "#             multialignment='center',transform= trans)\n",
    "#from matplotlib.ticker import FuncFormatter\n",
    "\n",
    "plt.tight_layout()\n",
    "plt.savefig('middlebury_scaling_reprojection.eps')\n",
    "plt.show()"
   ]
  },
  {
   "cell_type": "code",
   "execution_count": 7,
   "metadata": {},
   "outputs": [
    {
     "data": {
      "image/png": "[encoded data removed]",
      "text/plain": [
       "<Figure size 432x288 with 1 Axes>"
      ]
     },
     "metadata": {
      "needs_background": "light"
     },
     "output_type": "display_data"
    }
   ],
   "source": [
    "def pinhole_pose(P):\n",
    "    pose_hat = la.null_space(P) / la.null_space(P)[-1]\n",
    "    return pose_hat[:3].flatten()\n",
    "\n",
    "world_poses = [pinhole_pose(native_Ps[i] @ la.inv(transforms[i])) for i in range(len(native_Ps))]\n",
    "\n",
    "# error is distance to true position [0,0,0]\n",
    "# pose errors are in mm(?!), we want m so divide by 10000.0\n",
    "pose_errors = [la.norm(world_pose) / 1000 for world_pose in world_poses] \n",
    "\n",
    "plt.figure()\n",
    "plt.bar(idxs, pose_errors )\n",
    "plt.xlabel(\"experiment with x annotations\")\n",
    "plt.ylabel(\"mean pose error in meter\")\n",
    "#plt.savefig(\"/home/julian/Downloads/middlebury_scaling_pose_errs.eps\")\n",
    "plt.show()"
   ]
  },
  {
   "cell_type": "code",
   "execution_count": 8,
   "metadata": {},
   "outputs": [],
   "source": [
    "mesh = pv.read(\"/home/julian/data/middlebury/middlebury_mesh.ply\")\n",
    "\n",
    "wpMesh = pv.PolyData(np.array(world_poses))\n",
    "\n",
    "pl = pv.Plotter(notebook=False)\n",
    "pl.add_mesh(mesh,point_size=1,scalars=\"RGB\",rgb=True,pickable=True)\n",
    "pl.add_mesh(wpMesh,color=\"blue\",render_points_as_spheres=True,point_size=15)\n",
    "pl.add_mesh(pv.Sphere(radius=250,center=[0,0,0]),color=\"white\")\n",
    "pl.show()"
   ]
  },
  {
   "cell_type": "code",
   "execution_count": 9,
   "metadata": {},
   "outputs": [
    {
     "name": "stdout",
     "output_type": "stream",
     "text": [
      "mean pose error 0.19m\n"
     ]
    }
   ],
   "source": [
    "mean_pose_error = np.mean(pose_errors)\n",
    "print(f\"mean pose error {round(mean_pose_error,2)}m\")"
   ]
  },
  {
   "cell_type": "code",
   "execution_count": null,
   "metadata": {},
   "outputs": [],
   "source": []
  }
 ],
 "metadata": {
  "interpreter": {
   "hash": "d2332e41685df96fe68d09deec43950424315a14fa6b910632ba6b12222b7735"
  },
  "kernelspec": {
   "display_name": "Python 3.9.12 ('dmcp')",
   "language": "python",
   "name": "python3"
  },
  "language_info": {
   "codemirror_mode": {
    "name": "ipython",
    "version": 3
   },
   "file_extension": ".py",
   "mimetype": "text/x-python",
   "name": "python",
   "nbconvert_exporter": "python",
   "pygments_lexer": "ipython3",
   "version": "3.9.12"
  },
  "orig_nbformat": 4
 },
 "nbformat": 4,
 "nbformat_minor": 2
}
