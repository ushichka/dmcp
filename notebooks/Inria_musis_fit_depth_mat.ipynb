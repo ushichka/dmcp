{
 "cells": [
  {
   "cell_type": "code",
   "execution_count": 1,
   "metadata": {},
   "outputs": [],
   "source": [
    "%load_ext autoreload\n",
    "%autoreload 2"
   ]
  },
  {
   "cell_type": "code",
   "execution_count": 2,
   "metadata": {},
   "outputs": [],
   "source": [
    "import pyvista as pv\n",
    "import numpy as np\n",
    "import scipy.linalg as la\n",
    "\n",
    "np.set_printoptions(formatter={\"float\": \"{:10.2f}\".format})\n",
    "\n",
    "mesh_path = \"../tmp/INRIA_MUSIS.stl\"\n",
    "mesh = pv.read(mesh_path)"
   ]
  },
  {
   "cell_type": "code",
   "execution_count": 4,
   "metadata": {},
   "outputs": [
    {
     "name": "stdout",
     "output_type": "stream",
     "text": [
      "position \n",
      "[[   6722.14]\n",
      " [  12345.64]\n",
      " [  10572.14]\n",
      " [      1.00]]\n"
     ]
    }
   ],
   "source": [
    "from src.dmcpworkflow.capture_depth import generate_depth_map\n",
    "\n",
    "imIm, imK, imP = generate_depth_map(mesh_path)\n",
    "\n",
    "pos = la.null_space(imP) / la.null_space(imP)[-1]\n",
    "print(f\"position \\n{pos}\")\n"
   ]
  },
  {
   "cell_type": "code",
   "execution_count": 5,
   "metadata": {},
   "outputs": [
    {
     "name": "stdout",
     "output_type": "stream",
     "text": [
      "Using matplotlib backend: <object object at 0x7f1142f916b0>\n"
     ]
    }
   ],
   "source": [
    "from src.dmcpworkflow.annotate_points import annotate\n",
    "\n",
    "%matplotlib\n",
    "cps = annotate(imIm,imIm)\n",
    "%matplotlib inline\n",
    "cps_annotated = cps.copy()\n",
    "cps[:,2:] = cps[:,:2]"
   ]
  },
  {
   "cell_type": "markdown",
   "metadata": {},
   "source": [
    "from inria_musis_dmcp_transform we know that the pinhole matrix is not necessarily correct\n",
    "\n",
    "thus we calibrate a new, correct one"
   ]
  },
  {
   "cell_type": "code",
   "execution_count": 10,
   "metadata": {},
   "outputs": [
    {
     "data": {
      "text/plain": [
       "array([[   1196.27,       0.00,     512.00],\n",
       "       [      0.00,     897.20,     384.00],\n",
       "       [      0.00,       0.00,       1.00]])"
      ]
     },
     "execution_count": 10,
     "metadata": {},
     "output_type": "execute_result"
    }
   ],
   "source": [
    "from src.pycv.perspective import solve_PnP\n",
    "from src.pycv.dmcp import dm_to_world\n",
    "\n",
    "\n",
    "world_pts = dm_to_world(imIm, imK, imP, cps[:,:2])\n",
    "pose_pnp = solve_PnP(world_pts, cps[:,:2], imK)\n",
    "pose_pnp\n"
   ]
  },
  {
   "cell_type": "code",
   "execution_count": 9,
   "metadata": {},
   "outputs": [
    {
     "data": {
      "application/vnd.jupyter.widget-view+json": {
       "model_id": "38a9827e80384fe8899f01195af12874",
       "version_major": 2,
       "version_minor": 0
      },
      "text/plain": [
       "ViewInteractiveWidget(height=768, layout=Layout(height='auto', width='100%'), width=1024)"
      ]
     },
     "metadata": {},
     "output_type": "display_data"
    }
   ],
   "source": [
    "_mPts = pv.PolyData(world_pts)\n",
    "\n",
    "pl = pv.Plotter()\n",
    "pl.add_mesh(mesh)\n",
    "pl.add_mesh(_mPts,color=\"red\")\n",
    "pl.show()"
   ]
  }
 ],
 "metadata": {
  "interpreter": {
   "hash": "d2332e41685df96fe68d09deec43950424315a14fa6b910632ba6b12222b7735"
  },
  "kernelspec": {
   "display_name": "Python 3.9.12 ('dmcp')",
   "language": "python",
   "name": "python3"
  },
  "language_info": {
   "codemirror_mode": {
    "name": "ipython",
    "version": 3
   },
   "file_extension": ".py",
   "mimetype": "text/x-python",
   "name": "python",
   "nbconvert_exporter": "python",
   "pygments_lexer": "ipython3",
   "version": "3.9.12"
  },
  "orig_nbformat": 4
 },
 "nbformat": 4,
 "nbformat_minor": 2
}
