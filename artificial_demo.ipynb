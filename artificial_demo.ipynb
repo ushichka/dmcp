{
 "cells": [
  {
   "cell_type": "code",
   "execution_count": 23,
   "metadata": {},
   "outputs": [],
   "source": [
    "import numpy as np\n",
    "import matplotlib\n",
    "matplotlib.use(\"nbAgg\")\n",
    "\n",
    "imIm = np.loadtxt(\"artificial-demo/imIm.csv\",delimiter=\",\")[-1:0:-1,:]\n",
    "imK = np.loadtxt(\"artificial-demo/imK.csv\",delimiter=\",\")\n",
    "imP = np.loadtxt(\"artificial-demo/imP.csv\",delimiter=\",\")\n"
   ]
  },
  {
   "cell_type": "code",
   "execution_count": 24,
   "metadata": {},
   "outputs": [],
   "source": [
    "from dmcpworkflow.capture_depth import generate_depth_map\n",
    "\n",
    "dmIm, Kdm, Pdm = generate_depth_map(\"demo/INRIA_MUSIS.stl\")\n",
    "dmIm = dmIm[-1:0:-1,:]"
   ]
  },
  {
   "cell_type": "code",
   "execution_count": 25,
   "metadata": {},
   "outputs": [
    {
     "name": "stdout",
     "output_type": "stream",
     "text": [
      "cannot select, value is nan\n"
     ]
    }
   ],
   "source": [
    "from dmcpworkflow.annotate_points import annotate\n",
    "matplotlib.use(\"TkAgg\")\n",
    "cps = annotate(imIm, dmIm)"
   ]
  },
  {
   "cell_type": "code",
   "execution_count": 26,
   "metadata": {},
   "outputs": [
    {
     "name": "stdout",
     "output_type": "stream",
     "text": [
      "4×1 Matrix{Float64}:\n",
      "  1991.1048801522502\n",
      " 17460.323949764123\n",
      "  8539.089537765738\n",
      "     1.0scaling 1.04×1 Matrix{Float64}:\n",
      " -2425.860167326879\n",
      "  3367.545159195802\n",
      "  1634.235866290769\n",
      "     1.0"
     ]
    }
   ],
   "source": [
    "from dmcpworkflow.exec_dmcp import dmcp_alg_debug\n",
    "\n",
    "P, A = dmcp_alg_debug(imK, imP,dmIm, Kdm, Pdm, cps)"
   ]
  },
  {
   "cell_type": "code",
   "execution_count": 27,
   "metadata": {},
   "outputs": [],
   "source": [
    "import scipy.linalg as la\n",
    "imNS = la.null_space(imP)\n",
    "imNS = imNS / imNS[-1]\n",
    "\n",
    "dmNS = la.null_space(P)\n",
    "dmNS = dmNS / dmNS[-1]"
   ]
  },
  {
   "cell_type": "code",
   "execution_count": 22,
   "metadata": {},
   "outputs": [
    {
     "name": "stdout",
     "output_type": "stream",
     "text": [
      "[[ 4.20356215e+03]\n",
      " [ 1.80079341e+04]\n",
      " [-3.86761687e+03]\n",
      " [ 1.00000000e+00]]\n",
      "\n",
      "[[5.43749507e+02]\n",
      " [1.64128216e+04]\n",
      " [1.26089515e+04]\n",
      " [1.00000000e+00]]\n"
     ]
    }
   ],
   "source": [
    "print(imNS)\n",
    "print(\"\")\n",
    "print(dmNS)\n",
    "print(\"\")\n",
    "print(A)"
   ]
  },
  {
   "cell_type": "code",
   "execution_count": null,
   "metadata": {},
   "outputs": [],
   "source": []
  }
 ],
 "metadata": {
  "interpreter": {
   "hash": "d2332e41685df96fe68d09deec43950424315a14fa6b910632ba6b12222b7735"
  },
  "kernelspec": {
   "display_name": "Python 3.9.12 ('dmcp')",
   "language": "python",
   "name": "python3"
  },
  "language_info": {
   "codemirror_mode": {
    "name": "ipython",
    "version": 3
   },
   "file_extension": ".py",
   "mimetype": "text/x-python",
   "name": "python",
   "nbconvert_exporter": "python",
   "pygments_lexer": "ipython3",
   "version": "3.9.12"
  },
  "orig_nbformat": 4
 },
 "nbformat": 4,
 "nbformat_minor": 2
}
